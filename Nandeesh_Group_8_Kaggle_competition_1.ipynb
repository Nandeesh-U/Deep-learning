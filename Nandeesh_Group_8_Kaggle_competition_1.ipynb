{
  "nbformat": 4,
  "nbformat_minor": 0,
  "metadata": {
    "colab": {
      "provenance": [],
      "gpuType": "T4",
      "include_colab_link": true
    },
    "kernelspec": {
      "name": "python3",
      "display_name": "Python 3"
    },
    "language_info": {
      "name": "python"
    },
    "accelerator": "GPU",
    "widgets": {
      "application/vnd.jupyter.widget-state+json": {
        "9e9ec5ada1c64369b44faec3e84e3e7a": {
          "model_module": "@jupyter-widgets/controls",
          "model_name": "HBoxModel",
          "model_module_version": "1.5.0",
          "state": {
            "_dom_classes": [],
            "_model_module": "@jupyter-widgets/controls",
            "_model_module_version": "1.5.0",
            "_model_name": "HBoxModel",
            "_view_count": null,
            "_view_module": "@jupyter-widgets/controls",
            "_view_module_version": "1.5.0",
            "_view_name": "HBoxView",
            "box_style": "",
            "children": [
              "IPY_MODEL_4e7a44c51e064c54af8cad032a547994",
              "IPY_MODEL_9e0c5dbc912f4d7dad2d2ddf7a6eec91",
              "IPY_MODEL_c9910eae1b78425cabfaafa96e2e80f3"
            ],
            "layout": "IPY_MODEL_6b1f92cd284e46a2b3f61517bde7c1c9"
          }
        },
        "4e7a44c51e064c54af8cad032a547994": {
          "model_module": "@jupyter-widgets/controls",
          "model_name": "HTMLModel",
          "model_module_version": "1.5.0",
          "state": {
            "_dom_classes": [],
            "_model_module": "@jupyter-widgets/controls",
            "_model_module_version": "1.5.0",
            "_model_name": "HTMLModel",
            "_view_count": null,
            "_view_module": "@jupyter-widgets/controls",
            "_view_module_version": "1.5.0",
            "_view_name": "HTMLView",
            "description": "",
            "description_tooltip": null,
            "layout": "IPY_MODEL_9b9ff188a2a74f4797d24aa5d8bf0bdc",
            "placeholder": "​",
            "style": "IPY_MODEL_76fa77bddee74354b16b510255040424",
            "value": "Downloading (…)okenizer_config.json: 100%"
          }
        },
        "9e0c5dbc912f4d7dad2d2ddf7a6eec91": {
          "model_module": "@jupyter-widgets/controls",
          "model_name": "FloatProgressModel",
          "model_module_version": "1.5.0",
          "state": {
            "_dom_classes": [],
            "_model_module": "@jupyter-widgets/controls",
            "_model_module_version": "1.5.0",
            "_model_name": "FloatProgressModel",
            "_view_count": null,
            "_view_module": "@jupyter-widgets/controls",
            "_view_module_version": "1.5.0",
            "_view_name": "ProgressView",
            "bar_style": "success",
            "description": "",
            "description_tooltip": null,
            "layout": "IPY_MODEL_9c78a095d6de4d26b3854768be47a54c",
            "max": 28,
            "min": 0,
            "orientation": "horizontal",
            "style": "IPY_MODEL_02e10f4a09ad42dfa3ee0b1d3b1aa88c",
            "value": 28
          }
        },
        "c9910eae1b78425cabfaafa96e2e80f3": {
          "model_module": "@jupyter-widgets/controls",
          "model_name": "HTMLModel",
          "model_module_version": "1.5.0",
          "state": {
            "_dom_classes": [],
            "_model_module": "@jupyter-widgets/controls",
            "_model_module_version": "1.5.0",
            "_model_name": "HTMLModel",
            "_view_count": null,
            "_view_module": "@jupyter-widgets/controls",
            "_view_module_version": "1.5.0",
            "_view_name": "HTMLView",
            "description": "",
            "description_tooltip": null,
            "layout": "IPY_MODEL_baa354ba30494f398e3ad98cf539b251",
            "placeholder": "​",
            "style": "IPY_MODEL_b964d2154cdd43118182fd4e0b4143b2",
            "value": " 28.0/28.0 [00:00&lt;00:00, 1.80kB/s]"
          }
        },
        "6b1f92cd284e46a2b3f61517bde7c1c9": {
          "model_module": "@jupyter-widgets/base",
          "model_name": "LayoutModel",
          "model_module_version": "1.2.0",
          "state": {
            "_model_module": "@jupyter-widgets/base",
            "_model_module_version": "1.2.0",
            "_model_name": "LayoutModel",
            "_view_count": null,
            "_view_module": "@jupyter-widgets/base",
            "_view_module_version": "1.2.0",
            "_view_name": "LayoutView",
            "align_content": null,
            "align_items": null,
            "align_self": null,
            "border": null,
            "bottom": null,
            "display": null,
            "flex": null,
            "flex_flow": null,
            "grid_area": null,
            "grid_auto_columns": null,
            "grid_auto_flow": null,
            "grid_auto_rows": null,
            "grid_column": null,
            "grid_gap": null,
            "grid_row": null,
            "grid_template_areas": null,
            "grid_template_columns": null,
            "grid_template_rows": null,
            "height": null,
            "justify_content": null,
            "justify_items": null,
            "left": null,
            "margin": null,
            "max_height": null,
            "max_width": null,
            "min_height": null,
            "min_width": null,
            "object_fit": null,
            "object_position": null,
            "order": null,
            "overflow": null,
            "overflow_x": null,
            "overflow_y": null,
            "padding": null,
            "right": null,
            "top": null,
            "visibility": null,
            "width": null
          }
        },
        "9b9ff188a2a74f4797d24aa5d8bf0bdc": {
          "model_module": "@jupyter-widgets/base",
          "model_name": "LayoutModel",
          "model_module_version": "1.2.0",
          "state": {
            "_model_module": "@jupyter-widgets/base",
            "_model_module_version": "1.2.0",
            "_model_name": "LayoutModel",
            "_view_count": null,
            "_view_module": "@jupyter-widgets/base",
            "_view_module_version": "1.2.0",
            "_view_name": "LayoutView",
            "align_content": null,
            "align_items": null,
            "align_self": null,
            "border": null,
            "bottom": null,
            "display": null,
            "flex": null,
            "flex_flow": null,
            "grid_area": null,
            "grid_auto_columns": null,
            "grid_auto_flow": null,
            "grid_auto_rows": null,
            "grid_column": null,
            "grid_gap": null,
            "grid_row": null,
            "grid_template_areas": null,
            "grid_template_columns": null,
            "grid_template_rows": null,
            "height": null,
            "justify_content": null,
            "justify_items": null,
            "left": null,
            "margin": null,
            "max_height": null,
            "max_width": null,
            "min_height": null,
            "min_width": null,
            "object_fit": null,
            "object_position": null,
            "order": null,
            "overflow": null,
            "overflow_x": null,
            "overflow_y": null,
            "padding": null,
            "right": null,
            "top": null,
            "visibility": null,
            "width": null
          }
        },
        "76fa77bddee74354b16b510255040424": {
          "model_module": "@jupyter-widgets/controls",
          "model_name": "DescriptionStyleModel",
          "model_module_version": "1.5.0",
          "state": {
            "_model_module": "@jupyter-widgets/controls",
            "_model_module_version": "1.5.0",
            "_model_name": "DescriptionStyleModel",
            "_view_count": null,
            "_view_module": "@jupyter-widgets/base",
            "_view_module_version": "1.2.0",
            "_view_name": "StyleView",
            "description_width": ""
          }
        },
        "9c78a095d6de4d26b3854768be47a54c": {
          "model_module": "@jupyter-widgets/base",
          "model_name": "LayoutModel",
          "model_module_version": "1.2.0",
          "state": {
            "_model_module": "@jupyter-widgets/base",
            "_model_module_version": "1.2.0",
            "_model_name": "LayoutModel",
            "_view_count": null,
            "_view_module": "@jupyter-widgets/base",
            "_view_module_version": "1.2.0",
            "_view_name": "LayoutView",
            "align_content": null,
            "align_items": null,
            "align_self": null,
            "border": null,
            "bottom": null,
            "display": null,
            "flex": null,
            "flex_flow": null,
            "grid_area": null,
            "grid_auto_columns": null,
            "grid_auto_flow": null,
            "grid_auto_rows": null,
            "grid_column": null,
            "grid_gap": null,
            "grid_row": null,
            "grid_template_areas": null,
            "grid_template_columns": null,
            "grid_template_rows": null,
            "height": null,
            "justify_content": null,
            "justify_items": null,
            "left": null,
            "margin": null,
            "max_height": null,
            "max_width": null,
            "min_height": null,
            "min_width": null,
            "object_fit": null,
            "object_position": null,
            "order": null,
            "overflow": null,
            "overflow_x": null,
            "overflow_y": null,
            "padding": null,
            "right": null,
            "top": null,
            "visibility": null,
            "width": null
          }
        },
        "02e10f4a09ad42dfa3ee0b1d3b1aa88c": {
          "model_module": "@jupyter-widgets/controls",
          "model_name": "ProgressStyleModel",
          "model_module_version": "1.5.0",
          "state": {
            "_model_module": "@jupyter-widgets/controls",
            "_model_module_version": "1.5.0",
            "_model_name": "ProgressStyleModel",
            "_view_count": null,
            "_view_module": "@jupyter-widgets/base",
            "_view_module_version": "1.2.0",
            "_view_name": "StyleView",
            "bar_color": null,
            "description_width": ""
          }
        },
        "baa354ba30494f398e3ad98cf539b251": {
          "model_module": "@jupyter-widgets/base",
          "model_name": "LayoutModel",
          "model_module_version": "1.2.0",
          "state": {
            "_model_module": "@jupyter-widgets/base",
            "_model_module_version": "1.2.0",
            "_model_name": "LayoutModel",
            "_view_count": null,
            "_view_module": "@jupyter-widgets/base",
            "_view_module_version": "1.2.0",
            "_view_name": "LayoutView",
            "align_content": null,
            "align_items": null,
            "align_self": null,
            "border": null,
            "bottom": null,
            "display": null,
            "flex": null,
            "flex_flow": null,
            "grid_area": null,
            "grid_auto_columns": null,
            "grid_auto_flow": null,
            "grid_auto_rows": null,
            "grid_column": null,
            "grid_gap": null,
            "grid_row": null,
            "grid_template_areas": null,
            "grid_template_columns": null,
            "grid_template_rows": null,
            "height": null,
            "justify_content": null,
            "justify_items": null,
            "left": null,
            "margin": null,
            "max_height": null,
            "max_width": null,
            "min_height": null,
            "min_width": null,
            "object_fit": null,
            "object_position": null,
            "order": null,
            "overflow": null,
            "overflow_x": null,
            "overflow_y": null,
            "padding": null,
            "right": null,
            "top": null,
            "visibility": null,
            "width": null
          }
        },
        "b964d2154cdd43118182fd4e0b4143b2": {
          "model_module": "@jupyter-widgets/controls",
          "model_name": "DescriptionStyleModel",
          "model_module_version": "1.5.0",
          "state": {
            "_model_module": "@jupyter-widgets/controls",
            "_model_module_version": "1.5.0",
            "_model_name": "DescriptionStyleModel",
            "_view_count": null,
            "_view_module": "@jupyter-widgets/base",
            "_view_module_version": "1.2.0",
            "_view_name": "StyleView",
            "description_width": ""
          }
        },
        "7065c009454b44ef87c3420091a22c9e": {
          "model_module": "@jupyter-widgets/controls",
          "model_name": "HBoxModel",
          "model_module_version": "1.5.0",
          "state": {
            "_dom_classes": [],
            "_model_module": "@jupyter-widgets/controls",
            "_model_module_version": "1.5.0",
            "_model_name": "HBoxModel",
            "_view_count": null,
            "_view_module": "@jupyter-widgets/controls",
            "_view_module_version": "1.5.0",
            "_view_name": "HBoxView",
            "box_style": "",
            "children": [
              "IPY_MODEL_2b5344c7d3db4b01b0114f613b49b003",
              "IPY_MODEL_a062c08c02e248fc81dfce9a8b3558ca",
              "IPY_MODEL_283bdcd887e04b73bbf26aafb3a0e07b"
            ],
            "layout": "IPY_MODEL_a4e92bf8a05c4646881f9413c3e18152"
          }
        },
        "2b5344c7d3db4b01b0114f613b49b003": {
          "model_module": "@jupyter-widgets/controls",
          "model_name": "HTMLModel",
          "model_module_version": "1.5.0",
          "state": {
            "_dom_classes": [],
            "_model_module": "@jupyter-widgets/controls",
            "_model_module_version": "1.5.0",
            "_model_name": "HTMLModel",
            "_view_count": null,
            "_view_module": "@jupyter-widgets/controls",
            "_view_module_version": "1.5.0",
            "_view_name": "HTMLView",
            "description": "",
            "description_tooltip": null,
            "layout": "IPY_MODEL_d454663f08f946209b8be5ff503544e5",
            "placeholder": "​",
            "style": "IPY_MODEL_5b64787274d740c8a3aa71a46a62521d",
            "value": "Downloading (…)solve/main/vocab.txt: 100%"
          }
        },
        "a062c08c02e248fc81dfce9a8b3558ca": {
          "model_module": "@jupyter-widgets/controls",
          "model_name": "FloatProgressModel",
          "model_module_version": "1.5.0",
          "state": {
            "_dom_classes": [],
            "_model_module": "@jupyter-widgets/controls",
            "_model_module_version": "1.5.0",
            "_model_name": "FloatProgressModel",
            "_view_count": null,
            "_view_module": "@jupyter-widgets/controls",
            "_view_module_version": "1.5.0",
            "_view_name": "ProgressView",
            "bar_style": "success",
            "description": "",
            "description_tooltip": null,
            "layout": "IPY_MODEL_033f42061a9a455c8473fd700c401b4a",
            "max": 231508,
            "min": 0,
            "orientation": "horizontal",
            "style": "IPY_MODEL_40e097e005e040f88be10d47aab60cb0",
            "value": 231508
          }
        },
        "283bdcd887e04b73bbf26aafb3a0e07b": {
          "model_module": "@jupyter-widgets/controls",
          "model_name": "HTMLModel",
          "model_module_version": "1.5.0",
          "state": {
            "_dom_classes": [],
            "_model_module": "@jupyter-widgets/controls",
            "_model_module_version": "1.5.0",
            "_model_name": "HTMLModel",
            "_view_count": null,
            "_view_module": "@jupyter-widgets/controls",
            "_view_module_version": "1.5.0",
            "_view_name": "HTMLView",
            "description": "",
            "description_tooltip": null,
            "layout": "IPY_MODEL_c4e29e2c32c64203a49e246d7e13f826",
            "placeholder": "​",
            "style": "IPY_MODEL_e55ad3f2dba4473492093e44adf6f792",
            "value": " 232k/232k [00:00&lt;00:00, 10.3MB/s]"
          }
        },
        "a4e92bf8a05c4646881f9413c3e18152": {
          "model_module": "@jupyter-widgets/base",
          "model_name": "LayoutModel",
          "model_module_version": "1.2.0",
          "state": {
            "_model_module": "@jupyter-widgets/base",
            "_model_module_version": "1.2.0",
            "_model_name": "LayoutModel",
            "_view_count": null,
            "_view_module": "@jupyter-widgets/base",
            "_view_module_version": "1.2.0",
            "_view_name": "LayoutView",
            "align_content": null,
            "align_items": null,
            "align_self": null,
            "border": null,
            "bottom": null,
            "display": null,
            "flex": null,
            "flex_flow": null,
            "grid_area": null,
            "grid_auto_columns": null,
            "grid_auto_flow": null,
            "grid_auto_rows": null,
            "grid_column": null,
            "grid_gap": null,
            "grid_row": null,
            "grid_template_areas": null,
            "grid_template_columns": null,
            "grid_template_rows": null,
            "height": null,
            "justify_content": null,
            "justify_items": null,
            "left": null,
            "margin": null,
            "max_height": null,
            "max_width": null,
            "min_height": null,
            "min_width": null,
            "object_fit": null,
            "object_position": null,
            "order": null,
            "overflow": null,
            "overflow_x": null,
            "overflow_y": null,
            "padding": null,
            "right": null,
            "top": null,
            "visibility": null,
            "width": null
          }
        },
        "d454663f08f946209b8be5ff503544e5": {
          "model_module": "@jupyter-widgets/base",
          "model_name": "LayoutModel",
          "model_module_version": "1.2.0",
          "state": {
            "_model_module": "@jupyter-widgets/base",
            "_model_module_version": "1.2.0",
            "_model_name": "LayoutModel",
            "_view_count": null,
            "_view_module": "@jupyter-widgets/base",
            "_view_module_version": "1.2.0",
            "_view_name": "LayoutView",
            "align_content": null,
            "align_items": null,
            "align_self": null,
            "border": null,
            "bottom": null,
            "display": null,
            "flex": null,
            "flex_flow": null,
            "grid_area": null,
            "grid_auto_columns": null,
            "grid_auto_flow": null,
            "grid_auto_rows": null,
            "grid_column": null,
            "grid_gap": null,
            "grid_row": null,
            "grid_template_areas": null,
            "grid_template_columns": null,
            "grid_template_rows": null,
            "height": null,
            "justify_content": null,
            "justify_items": null,
            "left": null,
            "margin": null,
            "max_height": null,
            "max_width": null,
            "min_height": null,
            "min_width": null,
            "object_fit": null,
            "object_position": null,
            "order": null,
            "overflow": null,
            "overflow_x": null,
            "overflow_y": null,
            "padding": null,
            "right": null,
            "top": null,
            "visibility": null,
            "width": null
          }
        },
        "5b64787274d740c8a3aa71a46a62521d": {
          "model_module": "@jupyter-widgets/controls",
          "model_name": "DescriptionStyleModel",
          "model_module_version": "1.5.0",
          "state": {
            "_model_module": "@jupyter-widgets/controls",
            "_model_module_version": "1.5.0",
            "_model_name": "DescriptionStyleModel",
            "_view_count": null,
            "_view_module": "@jupyter-widgets/base",
            "_view_module_version": "1.2.0",
            "_view_name": "StyleView",
            "description_width": ""
          }
        },
        "033f42061a9a455c8473fd700c401b4a": {
          "model_module": "@jupyter-widgets/base",
          "model_name": "LayoutModel",
          "model_module_version": "1.2.0",
          "state": {
            "_model_module": "@jupyter-widgets/base",
            "_model_module_version": "1.2.0",
            "_model_name": "LayoutModel",
            "_view_count": null,
            "_view_module": "@jupyter-widgets/base",
            "_view_module_version": "1.2.0",
            "_view_name": "LayoutView",
            "align_content": null,
            "align_items": null,
            "align_self": null,
            "border": null,
            "bottom": null,
            "display": null,
            "flex": null,
            "flex_flow": null,
            "grid_area": null,
            "grid_auto_columns": null,
            "grid_auto_flow": null,
            "grid_auto_rows": null,
            "grid_column": null,
            "grid_gap": null,
            "grid_row": null,
            "grid_template_areas": null,
            "grid_template_columns": null,
            "grid_template_rows": null,
            "height": null,
            "justify_content": null,
            "justify_items": null,
            "left": null,
            "margin": null,
            "max_height": null,
            "max_width": null,
            "min_height": null,
            "min_width": null,
            "object_fit": null,
            "object_position": null,
            "order": null,
            "overflow": null,
            "overflow_x": null,
            "overflow_y": null,
            "padding": null,
            "right": null,
            "top": null,
            "visibility": null,
            "width": null
          }
        },
        "40e097e005e040f88be10d47aab60cb0": {
          "model_module": "@jupyter-widgets/controls",
          "model_name": "ProgressStyleModel",
          "model_module_version": "1.5.0",
          "state": {
            "_model_module": "@jupyter-widgets/controls",
            "_model_module_version": "1.5.0",
            "_model_name": "ProgressStyleModel",
            "_view_count": null,
            "_view_module": "@jupyter-widgets/base",
            "_view_module_version": "1.2.0",
            "_view_name": "StyleView",
            "bar_color": null,
            "description_width": ""
          }
        },
        "c4e29e2c32c64203a49e246d7e13f826": {
          "model_module": "@jupyter-widgets/base",
          "model_name": "LayoutModel",
          "model_module_version": "1.2.0",
          "state": {
            "_model_module": "@jupyter-widgets/base",
            "_model_module_version": "1.2.0",
            "_model_name": "LayoutModel",
            "_view_count": null,
            "_view_module": "@jupyter-widgets/base",
            "_view_module_version": "1.2.0",
            "_view_name": "LayoutView",
            "align_content": null,
            "align_items": null,
            "align_self": null,
            "border": null,
            "bottom": null,
            "display": null,
            "flex": null,
            "flex_flow": null,
            "grid_area": null,
            "grid_auto_columns": null,
            "grid_auto_flow": null,
            "grid_auto_rows": null,
            "grid_column": null,
            "grid_gap": null,
            "grid_row": null,
            "grid_template_areas": null,
            "grid_template_columns": null,
            "grid_template_rows": null,
            "height": null,
            "justify_content": null,
            "justify_items": null,
            "left": null,
            "margin": null,
            "max_height": null,
            "max_width": null,
            "min_height": null,
            "min_width": null,
            "object_fit": null,
            "object_position": null,
            "order": null,
            "overflow": null,
            "overflow_x": null,
            "overflow_y": null,
            "padding": null,
            "right": null,
            "top": null,
            "visibility": null,
            "width": null
          }
        },
        "e55ad3f2dba4473492093e44adf6f792": {
          "model_module": "@jupyter-widgets/controls",
          "model_name": "DescriptionStyleModel",
          "model_module_version": "1.5.0",
          "state": {
            "_model_module": "@jupyter-widgets/controls",
            "_model_module_version": "1.5.0",
            "_model_name": "DescriptionStyleModel",
            "_view_count": null,
            "_view_module": "@jupyter-widgets/base",
            "_view_module_version": "1.2.0",
            "_view_name": "StyleView",
            "description_width": ""
          }
        },
        "8c633dae987246cbb8eee56274b10403": {
          "model_module": "@jupyter-widgets/controls",
          "model_name": "HBoxModel",
          "model_module_version": "1.5.0",
          "state": {
            "_dom_classes": [],
            "_model_module": "@jupyter-widgets/controls",
            "_model_module_version": "1.5.0",
            "_model_name": "HBoxModel",
            "_view_count": null,
            "_view_module": "@jupyter-widgets/controls",
            "_view_module_version": "1.5.0",
            "_view_name": "HBoxView",
            "box_style": "",
            "children": [
              "IPY_MODEL_935bda9c33294d5e9f80a1e87e083735",
              "IPY_MODEL_b72e17b24f3341dc8692a8e5debc1c84",
              "IPY_MODEL_2d95dc56a40b4098bf2e0684d396805f"
            ],
            "layout": "IPY_MODEL_c8f1675ab28649408b7d8da6b9b1a7eb"
          }
        },
        "935bda9c33294d5e9f80a1e87e083735": {
          "model_module": "@jupyter-widgets/controls",
          "model_name": "HTMLModel",
          "model_module_version": "1.5.0",
          "state": {
            "_dom_classes": [],
            "_model_module": "@jupyter-widgets/controls",
            "_model_module_version": "1.5.0",
            "_model_name": "HTMLModel",
            "_view_count": null,
            "_view_module": "@jupyter-widgets/controls",
            "_view_module_version": "1.5.0",
            "_view_name": "HTMLView",
            "description": "",
            "description_tooltip": null,
            "layout": "IPY_MODEL_a6772d744f86427abf73ccbf3ba3fade",
            "placeholder": "​",
            "style": "IPY_MODEL_c4fd05969cf54ea18253ac6db27565ae",
            "value": "Downloading (…)/main/tokenizer.json: 100%"
          }
        },
        "b72e17b24f3341dc8692a8e5debc1c84": {
          "model_module": "@jupyter-widgets/controls",
          "model_name": "FloatProgressModel",
          "model_module_version": "1.5.0",
          "state": {
            "_dom_classes": [],
            "_model_module": "@jupyter-widgets/controls",
            "_model_module_version": "1.5.0",
            "_model_name": "FloatProgressModel",
            "_view_count": null,
            "_view_module": "@jupyter-widgets/controls",
            "_view_module_version": "1.5.0",
            "_view_name": "ProgressView",
            "bar_style": "success",
            "description": "",
            "description_tooltip": null,
            "layout": "IPY_MODEL_dd9a54f1017b43919aceaf43db3873e3",
            "max": 466062,
            "min": 0,
            "orientation": "horizontal",
            "style": "IPY_MODEL_55cd0d58e7134a258548e1bd041903d9",
            "value": 466062
          }
        },
        "2d95dc56a40b4098bf2e0684d396805f": {
          "model_module": "@jupyter-widgets/controls",
          "model_name": "HTMLModel",
          "model_module_version": "1.5.0",
          "state": {
            "_dom_classes": [],
            "_model_module": "@jupyter-widgets/controls",
            "_model_module_version": "1.5.0",
            "_model_name": "HTMLModel",
            "_view_count": null,
            "_view_module": "@jupyter-widgets/controls",
            "_view_module_version": "1.5.0",
            "_view_name": "HTMLView",
            "description": "",
            "description_tooltip": null,
            "layout": "IPY_MODEL_e69f8d50c8054db69bd5bf185df62dfc",
            "placeholder": "​",
            "style": "IPY_MODEL_d02db34e3221424daac559774a63f39f",
            "value": " 466k/466k [00:00&lt;00:00, 22.7MB/s]"
          }
        },
        "c8f1675ab28649408b7d8da6b9b1a7eb": {
          "model_module": "@jupyter-widgets/base",
          "model_name": "LayoutModel",
          "model_module_version": "1.2.0",
          "state": {
            "_model_module": "@jupyter-widgets/base",
            "_model_module_version": "1.2.0",
            "_model_name": "LayoutModel",
            "_view_count": null,
            "_view_module": "@jupyter-widgets/base",
            "_view_module_version": "1.2.0",
            "_view_name": "LayoutView",
            "align_content": null,
            "align_items": null,
            "align_self": null,
            "border": null,
            "bottom": null,
            "display": null,
            "flex": null,
            "flex_flow": null,
            "grid_area": null,
            "grid_auto_columns": null,
            "grid_auto_flow": null,
            "grid_auto_rows": null,
            "grid_column": null,
            "grid_gap": null,
            "grid_row": null,
            "grid_template_areas": null,
            "grid_template_columns": null,
            "grid_template_rows": null,
            "height": null,
            "justify_content": null,
            "justify_items": null,
            "left": null,
            "margin": null,
            "max_height": null,
            "max_width": null,
            "min_height": null,
            "min_width": null,
            "object_fit": null,
            "object_position": null,
            "order": null,
            "overflow": null,
            "overflow_x": null,
            "overflow_y": null,
            "padding": null,
            "right": null,
            "top": null,
            "visibility": null,
            "width": null
          }
        },
        "a6772d744f86427abf73ccbf3ba3fade": {
          "model_module": "@jupyter-widgets/base",
          "model_name": "LayoutModel",
          "model_module_version": "1.2.0",
          "state": {
            "_model_module": "@jupyter-widgets/base",
            "_model_module_version": "1.2.0",
            "_model_name": "LayoutModel",
            "_view_count": null,
            "_view_module": "@jupyter-widgets/base",
            "_view_module_version": "1.2.0",
            "_view_name": "LayoutView",
            "align_content": null,
            "align_items": null,
            "align_self": null,
            "border": null,
            "bottom": null,
            "display": null,
            "flex": null,
            "flex_flow": null,
            "grid_area": null,
            "grid_auto_columns": null,
            "grid_auto_flow": null,
            "grid_auto_rows": null,
            "grid_column": null,
            "grid_gap": null,
            "grid_row": null,
            "grid_template_areas": null,
            "grid_template_columns": null,
            "grid_template_rows": null,
            "height": null,
            "justify_content": null,
            "justify_items": null,
            "left": null,
            "margin": null,
            "max_height": null,
            "max_width": null,
            "min_height": null,
            "min_width": null,
            "object_fit": null,
            "object_position": null,
            "order": null,
            "overflow": null,
            "overflow_x": null,
            "overflow_y": null,
            "padding": null,
            "right": null,
            "top": null,
            "visibility": null,
            "width": null
          }
        },
        "c4fd05969cf54ea18253ac6db27565ae": {
          "model_module": "@jupyter-widgets/controls",
          "model_name": "DescriptionStyleModel",
          "model_module_version": "1.5.0",
          "state": {
            "_model_module": "@jupyter-widgets/controls",
            "_model_module_version": "1.5.0",
            "_model_name": "DescriptionStyleModel",
            "_view_count": null,
            "_view_module": "@jupyter-widgets/base",
            "_view_module_version": "1.2.0",
            "_view_name": "StyleView",
            "description_width": ""
          }
        },
        "dd9a54f1017b43919aceaf43db3873e3": {
          "model_module": "@jupyter-widgets/base",
          "model_name": "LayoutModel",
          "model_module_version": "1.2.0",
          "state": {
            "_model_module": "@jupyter-widgets/base",
            "_model_module_version": "1.2.0",
            "_model_name": "LayoutModel",
            "_view_count": null,
            "_view_module": "@jupyter-widgets/base",
            "_view_module_version": "1.2.0",
            "_view_name": "LayoutView",
            "align_content": null,
            "align_items": null,
            "align_self": null,
            "border": null,
            "bottom": null,
            "display": null,
            "flex": null,
            "flex_flow": null,
            "grid_area": null,
            "grid_auto_columns": null,
            "grid_auto_flow": null,
            "grid_auto_rows": null,
            "grid_column": null,
            "grid_gap": null,
            "grid_row": null,
            "grid_template_areas": null,
            "grid_template_columns": null,
            "grid_template_rows": null,
            "height": null,
            "justify_content": null,
            "justify_items": null,
            "left": null,
            "margin": null,
            "max_height": null,
            "max_width": null,
            "min_height": null,
            "min_width": null,
            "object_fit": null,
            "object_position": null,
            "order": null,
            "overflow": null,
            "overflow_x": null,
            "overflow_y": null,
            "padding": null,
            "right": null,
            "top": null,
            "visibility": null,
            "width": null
          }
        },
        "55cd0d58e7134a258548e1bd041903d9": {
          "model_module": "@jupyter-widgets/controls",
          "model_name": "ProgressStyleModel",
          "model_module_version": "1.5.0",
          "state": {
            "_model_module": "@jupyter-widgets/controls",
            "_model_module_version": "1.5.0",
            "_model_name": "ProgressStyleModel",
            "_view_count": null,
            "_view_module": "@jupyter-widgets/base",
            "_view_module_version": "1.2.0",
            "_view_name": "StyleView",
            "bar_color": null,
            "description_width": ""
          }
        },
        "e69f8d50c8054db69bd5bf185df62dfc": {
          "model_module": "@jupyter-widgets/base",
          "model_name": "LayoutModel",
          "model_module_version": "1.2.0",
          "state": {
            "_model_module": "@jupyter-widgets/base",
            "_model_module_version": "1.2.0",
            "_model_name": "LayoutModel",
            "_view_count": null,
            "_view_module": "@jupyter-widgets/base",
            "_view_module_version": "1.2.0",
            "_view_name": "LayoutView",
            "align_content": null,
            "align_items": null,
            "align_self": null,
            "border": null,
            "bottom": null,
            "display": null,
            "flex": null,
            "flex_flow": null,
            "grid_area": null,
            "grid_auto_columns": null,
            "grid_auto_flow": null,
            "grid_auto_rows": null,
            "grid_column": null,
            "grid_gap": null,
            "grid_row": null,
            "grid_template_areas": null,
            "grid_template_columns": null,
            "grid_template_rows": null,
            "height": null,
            "justify_content": null,
            "justify_items": null,
            "left": null,
            "margin": null,
            "max_height": null,
            "max_width": null,
            "min_height": null,
            "min_width": null,
            "object_fit": null,
            "object_position": null,
            "order": null,
            "overflow": null,
            "overflow_x": null,
            "overflow_y": null,
            "padding": null,
            "right": null,
            "top": null,
            "visibility": null,
            "width": null
          }
        },
        "d02db34e3221424daac559774a63f39f": {
          "model_module": "@jupyter-widgets/controls",
          "model_name": "DescriptionStyleModel",
          "model_module_version": "1.5.0",
          "state": {
            "_model_module": "@jupyter-widgets/controls",
            "_model_module_version": "1.5.0",
            "_model_name": "DescriptionStyleModel",
            "_view_count": null,
            "_view_module": "@jupyter-widgets/base",
            "_view_module_version": "1.2.0",
            "_view_name": "StyleView",
            "description_width": ""
          }
        },
        "da9961fb435d47448f6e3af610b485cb": {
          "model_module": "@jupyter-widgets/controls",
          "model_name": "HBoxModel",
          "model_module_version": "1.5.0",
          "state": {
            "_dom_classes": [],
            "_model_module": "@jupyter-widgets/controls",
            "_model_module_version": "1.5.0",
            "_model_name": "HBoxModel",
            "_view_count": null,
            "_view_module": "@jupyter-widgets/controls",
            "_view_module_version": "1.5.0",
            "_view_name": "HBoxView",
            "box_style": "",
            "children": [
              "IPY_MODEL_2dec24ea1be549f889651912d3c68b3c",
              "IPY_MODEL_23ea329e834b48c4bf3b3957e47e58ce",
              "IPY_MODEL_8d82faaba22b403bb607b6bf0f1aa7c6"
            ],
            "layout": "IPY_MODEL_e7f2bd75aded47ffb8568b38a29ac196"
          }
        },
        "2dec24ea1be549f889651912d3c68b3c": {
          "model_module": "@jupyter-widgets/controls",
          "model_name": "HTMLModel",
          "model_module_version": "1.5.0",
          "state": {
            "_dom_classes": [],
            "_model_module": "@jupyter-widgets/controls",
            "_model_module_version": "1.5.0",
            "_model_name": "HTMLModel",
            "_view_count": null,
            "_view_module": "@jupyter-widgets/controls",
            "_view_module_version": "1.5.0",
            "_view_name": "HTMLView",
            "description": "",
            "description_tooltip": null,
            "layout": "IPY_MODEL_86ceb93ece4c468995a6e60468a212cc",
            "placeholder": "​",
            "style": "IPY_MODEL_fe7e343bb3f044e7a07c4e6ad309edaf",
            "value": "Downloading (…)lve/main/config.json: 100%"
          }
        },
        "23ea329e834b48c4bf3b3957e47e58ce": {
          "model_module": "@jupyter-widgets/controls",
          "model_name": "FloatProgressModel",
          "model_module_version": "1.5.0",
          "state": {
            "_dom_classes": [],
            "_model_module": "@jupyter-widgets/controls",
            "_model_module_version": "1.5.0",
            "_model_name": "FloatProgressModel",
            "_view_count": null,
            "_view_module": "@jupyter-widgets/controls",
            "_view_module_version": "1.5.0",
            "_view_name": "ProgressView",
            "bar_style": "success",
            "description": "",
            "description_tooltip": null,
            "layout": "IPY_MODEL_368cd05b94254aef8ec29986ad02ead7",
            "max": 570,
            "min": 0,
            "orientation": "horizontal",
            "style": "IPY_MODEL_6395aa80c67645d199ff143dd7bc24f5",
            "value": 570
          }
        },
        "8d82faaba22b403bb607b6bf0f1aa7c6": {
          "model_module": "@jupyter-widgets/controls",
          "model_name": "HTMLModel",
          "model_module_version": "1.5.0",
          "state": {
            "_dom_classes": [],
            "_model_module": "@jupyter-widgets/controls",
            "_model_module_version": "1.5.0",
            "_model_name": "HTMLModel",
            "_view_count": null,
            "_view_module": "@jupyter-widgets/controls",
            "_view_module_version": "1.5.0",
            "_view_name": "HTMLView",
            "description": "",
            "description_tooltip": null,
            "layout": "IPY_MODEL_17e56e34b9954100b9509fd988219457",
            "placeholder": "​",
            "style": "IPY_MODEL_2d41731e726c40978a4930ff42e2281e",
            "value": " 570/570 [00:00&lt;00:00, 11.3kB/s]"
          }
        },
        "e7f2bd75aded47ffb8568b38a29ac196": {
          "model_module": "@jupyter-widgets/base",
          "model_name": "LayoutModel",
          "model_module_version": "1.2.0",
          "state": {
            "_model_module": "@jupyter-widgets/base",
            "_model_module_version": "1.2.0",
            "_model_name": "LayoutModel",
            "_view_count": null,
            "_view_module": "@jupyter-widgets/base",
            "_view_module_version": "1.2.0",
            "_view_name": "LayoutView",
            "align_content": null,
            "align_items": null,
            "align_self": null,
            "border": null,
            "bottom": null,
            "display": null,
            "flex": null,
            "flex_flow": null,
            "grid_area": null,
            "grid_auto_columns": null,
            "grid_auto_flow": null,
            "grid_auto_rows": null,
            "grid_column": null,
            "grid_gap": null,
            "grid_row": null,
            "grid_template_areas": null,
            "grid_template_columns": null,
            "grid_template_rows": null,
            "height": null,
            "justify_content": null,
            "justify_items": null,
            "left": null,
            "margin": null,
            "max_height": null,
            "max_width": null,
            "min_height": null,
            "min_width": null,
            "object_fit": null,
            "object_position": null,
            "order": null,
            "overflow": null,
            "overflow_x": null,
            "overflow_y": null,
            "padding": null,
            "right": null,
            "top": null,
            "visibility": null,
            "width": null
          }
        },
        "86ceb93ece4c468995a6e60468a212cc": {
          "model_module": "@jupyter-widgets/base",
          "model_name": "LayoutModel",
          "model_module_version": "1.2.0",
          "state": {
            "_model_module": "@jupyter-widgets/base",
            "_model_module_version": "1.2.0",
            "_model_name": "LayoutModel",
            "_view_count": null,
            "_view_module": "@jupyter-widgets/base",
            "_view_module_version": "1.2.0",
            "_view_name": "LayoutView",
            "align_content": null,
            "align_items": null,
            "align_self": null,
            "border": null,
            "bottom": null,
            "display": null,
            "flex": null,
            "flex_flow": null,
            "grid_area": null,
            "grid_auto_columns": null,
            "grid_auto_flow": null,
            "grid_auto_rows": null,
            "grid_column": null,
            "grid_gap": null,
            "grid_row": null,
            "grid_template_areas": null,
            "grid_template_columns": null,
            "grid_template_rows": null,
            "height": null,
            "justify_content": null,
            "justify_items": null,
            "left": null,
            "margin": null,
            "max_height": null,
            "max_width": null,
            "min_height": null,
            "min_width": null,
            "object_fit": null,
            "object_position": null,
            "order": null,
            "overflow": null,
            "overflow_x": null,
            "overflow_y": null,
            "padding": null,
            "right": null,
            "top": null,
            "visibility": null,
            "width": null
          }
        },
        "fe7e343bb3f044e7a07c4e6ad309edaf": {
          "model_module": "@jupyter-widgets/controls",
          "model_name": "DescriptionStyleModel",
          "model_module_version": "1.5.0",
          "state": {
            "_model_module": "@jupyter-widgets/controls",
            "_model_module_version": "1.5.0",
            "_model_name": "DescriptionStyleModel",
            "_view_count": null,
            "_view_module": "@jupyter-widgets/base",
            "_view_module_version": "1.2.0",
            "_view_name": "StyleView",
            "description_width": ""
          }
        },
        "368cd05b94254aef8ec29986ad02ead7": {
          "model_module": "@jupyter-widgets/base",
          "model_name": "LayoutModel",
          "model_module_version": "1.2.0",
          "state": {
            "_model_module": "@jupyter-widgets/base",
            "_model_module_version": "1.2.0",
            "_model_name": "LayoutModel",
            "_view_count": null,
            "_view_module": "@jupyter-widgets/base",
            "_view_module_version": "1.2.0",
            "_view_name": "LayoutView",
            "align_content": null,
            "align_items": null,
            "align_self": null,
            "border": null,
            "bottom": null,
            "display": null,
            "flex": null,
            "flex_flow": null,
            "grid_area": null,
            "grid_auto_columns": null,
            "grid_auto_flow": null,
            "grid_auto_rows": null,
            "grid_column": null,
            "grid_gap": null,
            "grid_row": null,
            "grid_template_areas": null,
            "grid_template_columns": null,
            "grid_template_rows": null,
            "height": null,
            "justify_content": null,
            "justify_items": null,
            "left": null,
            "margin": null,
            "max_height": null,
            "max_width": null,
            "min_height": null,
            "min_width": null,
            "object_fit": null,
            "object_position": null,
            "order": null,
            "overflow": null,
            "overflow_x": null,
            "overflow_y": null,
            "padding": null,
            "right": null,
            "top": null,
            "visibility": null,
            "width": null
          }
        },
        "6395aa80c67645d199ff143dd7bc24f5": {
          "model_module": "@jupyter-widgets/controls",
          "model_name": "ProgressStyleModel",
          "model_module_version": "1.5.0",
          "state": {
            "_model_module": "@jupyter-widgets/controls",
            "_model_module_version": "1.5.0",
            "_model_name": "ProgressStyleModel",
            "_view_count": null,
            "_view_module": "@jupyter-widgets/base",
            "_view_module_version": "1.2.0",
            "_view_name": "StyleView",
            "bar_color": null,
            "description_width": ""
          }
        },
        "17e56e34b9954100b9509fd988219457": {
          "model_module": "@jupyter-widgets/base",
          "model_name": "LayoutModel",
          "model_module_version": "1.2.0",
          "state": {
            "_model_module": "@jupyter-widgets/base",
            "_model_module_version": "1.2.0",
            "_model_name": "LayoutModel",
            "_view_count": null,
            "_view_module": "@jupyter-widgets/base",
            "_view_module_version": "1.2.0",
            "_view_name": "LayoutView",
            "align_content": null,
            "align_items": null,
            "align_self": null,
            "border": null,
            "bottom": null,
            "display": null,
            "flex": null,
            "flex_flow": null,
            "grid_area": null,
            "grid_auto_columns": null,
            "grid_auto_flow": null,
            "grid_auto_rows": null,
            "grid_column": null,
            "grid_gap": null,
            "grid_row": null,
            "grid_template_areas": null,
            "grid_template_columns": null,
            "grid_template_rows": null,
            "height": null,
            "justify_content": null,
            "justify_items": null,
            "left": null,
            "margin": null,
            "max_height": null,
            "max_width": null,
            "min_height": null,
            "min_width": null,
            "object_fit": null,
            "object_position": null,
            "order": null,
            "overflow": null,
            "overflow_x": null,
            "overflow_y": null,
            "padding": null,
            "right": null,
            "top": null,
            "visibility": null,
            "width": null
          }
        },
        "2d41731e726c40978a4930ff42e2281e": {
          "model_module": "@jupyter-widgets/controls",
          "model_name": "DescriptionStyleModel",
          "model_module_version": "1.5.0",
          "state": {
            "_model_module": "@jupyter-widgets/controls",
            "_model_module_version": "1.5.0",
            "_model_name": "DescriptionStyleModel",
            "_view_count": null,
            "_view_module": "@jupyter-widgets/base",
            "_view_module_version": "1.2.0",
            "_view_name": "StyleView",
            "description_width": ""
          }
        },
        "29a153bc3aaf4e5ca92b43da0d377169": {
          "model_module": "@jupyter-widgets/controls",
          "model_name": "HBoxModel",
          "model_module_version": "1.5.0",
          "state": {
            "_dom_classes": [],
            "_model_module": "@jupyter-widgets/controls",
            "_model_module_version": "1.5.0",
            "_model_name": "HBoxModel",
            "_view_count": null,
            "_view_module": "@jupyter-widgets/controls",
            "_view_module_version": "1.5.0",
            "_view_name": "HBoxView",
            "box_style": "",
            "children": [
              "IPY_MODEL_4399114fdf0742e78edbbe17f56a54e0",
              "IPY_MODEL_ea47c41635d24eb0b979d614e8de6274",
              "IPY_MODEL_95d690d35ace4ccb89234d037a3fe6f4"
            ],
            "layout": "IPY_MODEL_fbebece6e3244ae592cffbc079e13c9a"
          }
        },
        "4399114fdf0742e78edbbe17f56a54e0": {
          "model_module": "@jupyter-widgets/controls",
          "model_name": "HTMLModel",
          "model_module_version": "1.5.0",
          "state": {
            "_dom_classes": [],
            "_model_module": "@jupyter-widgets/controls",
            "_model_module_version": "1.5.0",
            "_model_name": "HTMLModel",
            "_view_count": null,
            "_view_module": "@jupyter-widgets/controls",
            "_view_module_version": "1.5.0",
            "_view_name": "HTMLView",
            "description": "",
            "description_tooltip": null,
            "layout": "IPY_MODEL_2768c7b4790e4ae2af1e445e3eaed1de",
            "placeholder": "​",
            "style": "IPY_MODEL_37e026e2b7764a26baed445721a29b2b",
            "value": "Downloading model.safetensors: 100%"
          }
        },
        "ea47c41635d24eb0b979d614e8de6274": {
          "model_module": "@jupyter-widgets/controls",
          "model_name": "FloatProgressModel",
          "model_module_version": "1.5.0",
          "state": {
            "_dom_classes": [],
            "_model_module": "@jupyter-widgets/controls",
            "_model_module_version": "1.5.0",
            "_model_name": "FloatProgressModel",
            "_view_count": null,
            "_view_module": "@jupyter-widgets/controls",
            "_view_module_version": "1.5.0",
            "_view_name": "ProgressView",
            "bar_style": "success",
            "description": "",
            "description_tooltip": null,
            "layout": "IPY_MODEL_d8075520520b41ba9933fa315ce52f26",
            "max": 440449768,
            "min": 0,
            "orientation": "horizontal",
            "style": "IPY_MODEL_28e8598d86c34f02878e81fcf11c18fa",
            "value": 440449768
          }
        },
        "95d690d35ace4ccb89234d037a3fe6f4": {
          "model_module": "@jupyter-widgets/controls",
          "model_name": "HTMLModel",
          "model_module_version": "1.5.0",
          "state": {
            "_dom_classes": [],
            "_model_module": "@jupyter-widgets/controls",
            "_model_module_version": "1.5.0",
            "_model_name": "HTMLModel",
            "_view_count": null,
            "_view_module": "@jupyter-widgets/controls",
            "_view_module_version": "1.5.0",
            "_view_name": "HTMLView",
            "description": "",
            "description_tooltip": null,
            "layout": "IPY_MODEL_cbbdaa11ce394fc489a5db664913ef14",
            "placeholder": "​",
            "style": "IPY_MODEL_cb4129eb2461402fac89b9d4f7f56427",
            "value": " 440M/440M [00:04&lt;00:00, 83.8MB/s]"
          }
        },
        "fbebece6e3244ae592cffbc079e13c9a": {
          "model_module": "@jupyter-widgets/base",
          "model_name": "LayoutModel",
          "model_module_version": "1.2.0",
          "state": {
            "_model_module": "@jupyter-widgets/base",
            "_model_module_version": "1.2.0",
            "_model_name": "LayoutModel",
            "_view_count": null,
            "_view_module": "@jupyter-widgets/base",
            "_view_module_version": "1.2.0",
            "_view_name": "LayoutView",
            "align_content": null,
            "align_items": null,
            "align_self": null,
            "border": null,
            "bottom": null,
            "display": null,
            "flex": null,
            "flex_flow": null,
            "grid_area": null,
            "grid_auto_columns": null,
            "grid_auto_flow": null,
            "grid_auto_rows": null,
            "grid_column": null,
            "grid_gap": null,
            "grid_row": null,
            "grid_template_areas": null,
            "grid_template_columns": null,
            "grid_template_rows": null,
            "height": null,
            "justify_content": null,
            "justify_items": null,
            "left": null,
            "margin": null,
            "max_height": null,
            "max_width": null,
            "min_height": null,
            "min_width": null,
            "object_fit": null,
            "object_position": null,
            "order": null,
            "overflow": null,
            "overflow_x": null,
            "overflow_y": null,
            "padding": null,
            "right": null,
            "top": null,
            "visibility": null,
            "width": null
          }
        },
        "2768c7b4790e4ae2af1e445e3eaed1de": {
          "model_module": "@jupyter-widgets/base",
          "model_name": "LayoutModel",
          "model_module_version": "1.2.0",
          "state": {
            "_model_module": "@jupyter-widgets/base",
            "_model_module_version": "1.2.0",
            "_model_name": "LayoutModel",
            "_view_count": null,
            "_view_module": "@jupyter-widgets/base",
            "_view_module_version": "1.2.0",
            "_view_name": "LayoutView",
            "align_content": null,
            "align_items": null,
            "align_self": null,
            "border": null,
            "bottom": null,
            "display": null,
            "flex": null,
            "flex_flow": null,
            "grid_area": null,
            "grid_auto_columns": null,
            "grid_auto_flow": null,
            "grid_auto_rows": null,
            "grid_column": null,
            "grid_gap": null,
            "grid_row": null,
            "grid_template_areas": null,
            "grid_template_columns": null,
            "grid_template_rows": null,
            "height": null,
            "justify_content": null,
            "justify_items": null,
            "left": null,
            "margin": null,
            "max_height": null,
            "max_width": null,
            "min_height": null,
            "min_width": null,
            "object_fit": null,
            "object_position": null,
            "order": null,
            "overflow": null,
            "overflow_x": null,
            "overflow_y": null,
            "padding": null,
            "right": null,
            "top": null,
            "visibility": null,
            "width": null
          }
        },
        "37e026e2b7764a26baed445721a29b2b": {
          "model_module": "@jupyter-widgets/controls",
          "model_name": "DescriptionStyleModel",
          "model_module_version": "1.5.0",
          "state": {
            "_model_module": "@jupyter-widgets/controls",
            "_model_module_version": "1.5.0",
            "_model_name": "DescriptionStyleModel",
            "_view_count": null,
            "_view_module": "@jupyter-widgets/base",
            "_view_module_version": "1.2.0",
            "_view_name": "StyleView",
            "description_width": ""
          }
        },
        "d8075520520b41ba9933fa315ce52f26": {
          "model_module": "@jupyter-widgets/base",
          "model_name": "LayoutModel",
          "model_module_version": "1.2.0",
          "state": {
            "_model_module": "@jupyter-widgets/base",
            "_model_module_version": "1.2.0",
            "_model_name": "LayoutModel",
            "_view_count": null,
            "_view_module": "@jupyter-widgets/base",
            "_view_module_version": "1.2.0",
            "_view_name": "LayoutView",
            "align_content": null,
            "align_items": null,
            "align_self": null,
            "border": null,
            "bottom": null,
            "display": null,
            "flex": null,
            "flex_flow": null,
            "grid_area": null,
            "grid_auto_columns": null,
            "grid_auto_flow": null,
            "grid_auto_rows": null,
            "grid_column": null,
            "grid_gap": null,
            "grid_row": null,
            "grid_template_areas": null,
            "grid_template_columns": null,
            "grid_template_rows": null,
            "height": null,
            "justify_content": null,
            "justify_items": null,
            "left": null,
            "margin": null,
            "max_height": null,
            "max_width": null,
            "min_height": null,
            "min_width": null,
            "object_fit": null,
            "object_position": null,
            "order": null,
            "overflow": null,
            "overflow_x": null,
            "overflow_y": null,
            "padding": null,
            "right": null,
            "top": null,
            "visibility": null,
            "width": null
          }
        },
        "28e8598d86c34f02878e81fcf11c18fa": {
          "model_module": "@jupyter-widgets/controls",
          "model_name": "ProgressStyleModel",
          "model_module_version": "1.5.0",
          "state": {
            "_model_module": "@jupyter-widgets/controls",
            "_model_module_version": "1.5.0",
            "_model_name": "ProgressStyleModel",
            "_view_count": null,
            "_view_module": "@jupyter-widgets/base",
            "_view_module_version": "1.2.0",
            "_view_name": "StyleView",
            "bar_color": null,
            "description_width": ""
          }
        },
        "cbbdaa11ce394fc489a5db664913ef14": {
          "model_module": "@jupyter-widgets/base",
          "model_name": "LayoutModel",
          "model_module_version": "1.2.0",
          "state": {
            "_model_module": "@jupyter-widgets/base",
            "_model_module_version": "1.2.0",
            "_model_name": "LayoutModel",
            "_view_count": null,
            "_view_module": "@jupyter-widgets/base",
            "_view_module_version": "1.2.0",
            "_view_name": "LayoutView",
            "align_content": null,
            "align_items": null,
            "align_self": null,
            "border": null,
            "bottom": null,
            "display": null,
            "flex": null,
            "flex_flow": null,
            "grid_area": null,
            "grid_auto_columns": null,
            "grid_auto_flow": null,
            "grid_auto_rows": null,
            "grid_column": null,
            "grid_gap": null,
            "grid_row": null,
            "grid_template_areas": null,
            "grid_template_columns": null,
            "grid_template_rows": null,
            "height": null,
            "justify_content": null,
            "justify_items": null,
            "left": null,
            "margin": null,
            "max_height": null,
            "max_width": null,
            "min_height": null,
            "min_width": null,
            "object_fit": null,
            "object_position": null,
            "order": null,
            "overflow": null,
            "overflow_x": null,
            "overflow_y": null,
            "padding": null,
            "right": null,
            "top": null,
            "visibility": null,
            "width": null
          }
        },
        "cb4129eb2461402fac89b9d4f7f56427": {
          "model_module": "@jupyter-widgets/controls",
          "model_name": "DescriptionStyleModel",
          "model_module_version": "1.5.0",
          "state": {
            "_model_module": "@jupyter-widgets/controls",
            "_model_module_version": "1.5.0",
            "_model_name": "DescriptionStyleModel",
            "_view_count": null,
            "_view_module": "@jupyter-widgets/base",
            "_view_module_version": "1.2.0",
            "_view_name": "StyleView",
            "description_width": ""
          }
        }
      }
    }
  },
  "cells": [
    {
      "cell_type": "markdown",
      "metadata": {
        "id": "view-in-github",
        "colab_type": "text"
      },
      "source": [
        "<a href=\"https://colab.research.google.com/github/Nandeesh-U/Deep-learning/blob/main/Nandeesh_Group_8_Kaggle_competition_1.ipynb\" target=\"_parent\"><img src=\"https://colab.research.google.com/assets/colab-badge.svg\" alt=\"Open In Colab\"/></a>"
      ]
    },
    {
      "cell_type": "code",
      "source": [
        "from google.colab import drive\n",
        "drive.mount('/content/drive')"
      ],
      "metadata": {
        "id": "cXF2o-eYe5og",
        "colab": {
          "base_uri": "https://localhost:8080/"
        },
        "outputId": "862e1dc4-f9b0-4fbd-a0e9-53f738cf55db"
      },
      "execution_count": 1,
      "outputs": [
        {
          "output_type": "stream",
          "name": "stdout",
          "text": [
            "Mounted at /content/drive\n"
          ]
        }
      ]
    },
    {
      "cell_type": "markdown",
      "metadata": {
        "id": "FL0Ve1abn6YJ"
      },
      "source": [
        "## Dataset\n",
        "\n",
        "The challenge in this competition is to predict whether a question asked on a well known public forum/platform is Toxic/inappropriate or not.\n",
        "\n",
        "A toxic/inappropriate question is defined as a question intended to make a statement and not with a purpose of looking for helpful/meaningful answers. The following are some of the characteristics that can signify that a question is irrelevant/inappropriate:\n",
        "\n",
        "* Based on false information, or contains absurd assumptions\n",
        "* Does not have a non-neutral tone\n",
        "* Has an exaggerated tone to underscore a point about a group of people\n",
        "* Is rhetorical and meant to imply a statement about a group of people\n",
        "* Is disparaging or inflammatory against an individual or a group of people\n",
        "* Uses sexual content (such as incest, pedophilia), and not to seek genuine answers\n",
        "* Suggests a discriminatory idea against a protected class of people, or seeks confirmation of a stereotype\n",
        "* Based on an unrealistic premise about a group of people\n",
        "* Is not grounded in reality\n",
        "\n",
        "The training dataset includes the questions 1044897 that was asked, and whether it was identified as toxic/inappropriate (target = 1) or as relevant/appropriate (target = 0). The test dataset consists of approximately 261000 questions.\n",
        "\n",
        "The training data might be imbalanced or noisy. They are not guaranteed to be perfect. Please take the necessary actions/steps while building the model.\n",
        "\n",
        "\n",
        "## Description\n",
        "\n",
        "This dataset has the following information:\n",
        "\n",
        "1. **qid** - unique question identifier\n",
        "2. **question_text** - the text of the question asked in the well known public forum/platform\n",
        "3. **target** - a question labeled \"toxic/inappropriate\" has a value of 1, otherwise 0\n",
        "\n"
      ]
    },
    {
      "cell_type": "markdown",
      "metadata": {
        "id": "ih-oasWmdZul"
      },
      "source": [
        "## Problem Statement"
      ]
    },
    {
      "cell_type": "markdown",
      "metadata": {
        "id": "qfWGmjNHdZul"
      },
      "source": [
        "To perform classification of approximately 261000 questions asked on a well known public form using Deep Neural Networks such as RNN/CNN/BERT/LSTM as 'toxic/inappropriate' questions or 'relevant/appropriate' questions"
      ]
    },
    {
      "cell_type": "markdown",
      "metadata": {
        "id": "WtETuXx8b-OC"
      },
      "source": [
        "### 3. Upload your kaggle.json file using the following snippet in a code cell:\n",
        "\n"
      ]
    },
    {
      "cell_type": "code",
      "metadata": {
        "id": "-1pfXBDxWl0Y",
        "colab": {
          "base_uri": "https://localhost:8080/",
          "height": 90
        },
        "outputId": "7caf561b-916e-477d-e168-da36b5fbeb89"
      },
      "source": [
        "from google.colab import files\n",
        "files.upload()"
      ],
      "execution_count": 2,
      "outputs": [
        {
          "output_type": "display_data",
          "data": {
            "text/plain": [
              "<IPython.core.display.HTML object>"
            ],
            "text/html": [
              "\n",
              "     <input type=\"file\" id=\"files-c5b8f7c3-83a5-499c-a47d-3b080eb39d6b\" name=\"files[]\" multiple disabled\n",
              "        style=\"border:none\" />\n",
              "     <output id=\"result-c5b8f7c3-83a5-499c-a47d-3b080eb39d6b\">\n",
              "      Upload widget is only available when the cell has been executed in the\n",
              "      current browser session. Please rerun this cell to enable.\n",
              "      </output>\n",
              "      <script>// Copyright 2017 Google LLC\n",
              "//\n",
              "// Licensed under the Apache License, Version 2.0 (the \"License\");\n",
              "// you may not use this file except in compliance with the License.\n",
              "// You may obtain a copy of the License at\n",
              "//\n",
              "//      http://www.apache.org/licenses/LICENSE-2.0\n",
              "//\n",
              "// Unless required by applicable law or agreed to in writing, software\n",
              "// distributed under the License is distributed on an \"AS IS\" BASIS,\n",
              "// WITHOUT WARRANTIES OR CONDITIONS OF ANY KIND, either express or implied.\n",
              "// See the License for the specific language governing permissions and\n",
              "// limitations under the License.\n",
              "\n",
              "/**\n",
              " * @fileoverview Helpers for google.colab Python module.\n",
              " */\n",
              "(function(scope) {\n",
              "function span(text, styleAttributes = {}) {\n",
              "  const element = document.createElement('span');\n",
              "  element.textContent = text;\n",
              "  for (const key of Object.keys(styleAttributes)) {\n",
              "    element.style[key] = styleAttributes[key];\n",
              "  }\n",
              "  return element;\n",
              "}\n",
              "\n",
              "// Max number of bytes which will be uploaded at a time.\n",
              "const MAX_PAYLOAD_SIZE = 100 * 1024;\n",
              "\n",
              "function _uploadFiles(inputId, outputId) {\n",
              "  const steps = uploadFilesStep(inputId, outputId);\n",
              "  const outputElement = document.getElementById(outputId);\n",
              "  // Cache steps on the outputElement to make it available for the next call\n",
              "  // to uploadFilesContinue from Python.\n",
              "  outputElement.steps = steps;\n",
              "\n",
              "  return _uploadFilesContinue(outputId);\n",
              "}\n",
              "\n",
              "// This is roughly an async generator (not supported in the browser yet),\n",
              "// where there are multiple asynchronous steps and the Python side is going\n",
              "// to poll for completion of each step.\n",
              "// This uses a Promise to block the python side on completion of each step,\n",
              "// then passes the result of the previous step as the input to the next step.\n",
              "function _uploadFilesContinue(outputId) {\n",
              "  const outputElement = document.getElementById(outputId);\n",
              "  const steps = outputElement.steps;\n",
              "\n",
              "  const next = steps.next(outputElement.lastPromiseValue);\n",
              "  return Promise.resolve(next.value.promise).then((value) => {\n",
              "    // Cache the last promise value to make it available to the next\n",
              "    // step of the generator.\n",
              "    outputElement.lastPromiseValue = value;\n",
              "    return next.value.response;\n",
              "  });\n",
              "}\n",
              "\n",
              "/**\n",
              " * Generator function which is called between each async step of the upload\n",
              " * process.\n",
              " * @param {string} inputId Element ID of the input file picker element.\n",
              " * @param {string} outputId Element ID of the output display.\n",
              " * @return {!Iterable<!Object>} Iterable of next steps.\n",
              " */\n",
              "function* uploadFilesStep(inputId, outputId) {\n",
              "  const inputElement = document.getElementById(inputId);\n",
              "  inputElement.disabled = false;\n",
              "\n",
              "  const outputElement = document.getElementById(outputId);\n",
              "  outputElement.innerHTML = '';\n",
              "\n",
              "  const pickedPromise = new Promise((resolve) => {\n",
              "    inputElement.addEventListener('change', (e) => {\n",
              "      resolve(e.target.files);\n",
              "    });\n",
              "  });\n",
              "\n",
              "  const cancel = document.createElement('button');\n",
              "  inputElement.parentElement.appendChild(cancel);\n",
              "  cancel.textContent = 'Cancel upload';\n",
              "  const cancelPromise = new Promise((resolve) => {\n",
              "    cancel.onclick = () => {\n",
              "      resolve(null);\n",
              "    };\n",
              "  });\n",
              "\n",
              "  // Wait for the user to pick the files.\n",
              "  const files = yield {\n",
              "    promise: Promise.race([pickedPromise, cancelPromise]),\n",
              "    response: {\n",
              "      action: 'starting',\n",
              "    }\n",
              "  };\n",
              "\n",
              "  cancel.remove();\n",
              "\n",
              "  // Disable the input element since further picks are not allowed.\n",
              "  inputElement.disabled = true;\n",
              "\n",
              "  if (!files) {\n",
              "    return {\n",
              "      response: {\n",
              "        action: 'complete',\n",
              "      }\n",
              "    };\n",
              "  }\n",
              "\n",
              "  for (const file of files) {\n",
              "    const li = document.createElement('li');\n",
              "    li.append(span(file.name, {fontWeight: 'bold'}));\n",
              "    li.append(span(\n",
              "        `(${file.type || 'n/a'}) - ${file.size} bytes, ` +\n",
              "        `last modified: ${\n",
              "            file.lastModifiedDate ? file.lastModifiedDate.toLocaleDateString() :\n",
              "                                    'n/a'} - `));\n",
              "    const percent = span('0% done');\n",
              "    li.appendChild(percent);\n",
              "\n",
              "    outputElement.appendChild(li);\n",
              "\n",
              "    const fileDataPromise = new Promise((resolve) => {\n",
              "      const reader = new FileReader();\n",
              "      reader.onload = (e) => {\n",
              "        resolve(e.target.result);\n",
              "      };\n",
              "      reader.readAsArrayBuffer(file);\n",
              "    });\n",
              "    // Wait for the data to be ready.\n",
              "    let fileData = yield {\n",
              "      promise: fileDataPromise,\n",
              "      response: {\n",
              "        action: 'continue',\n",
              "      }\n",
              "    };\n",
              "\n",
              "    // Use a chunked sending to avoid message size limits. See b/62115660.\n",
              "    let position = 0;\n",
              "    do {\n",
              "      const length = Math.min(fileData.byteLength - position, MAX_PAYLOAD_SIZE);\n",
              "      const chunk = new Uint8Array(fileData, position, length);\n",
              "      position += length;\n",
              "\n",
              "      const base64 = btoa(String.fromCharCode.apply(null, chunk));\n",
              "      yield {\n",
              "        response: {\n",
              "          action: 'append',\n",
              "          file: file.name,\n",
              "          data: base64,\n",
              "        },\n",
              "      };\n",
              "\n",
              "      let percentDone = fileData.byteLength === 0 ?\n",
              "          100 :\n",
              "          Math.round((position / fileData.byteLength) * 100);\n",
              "      percent.textContent = `${percentDone}% done`;\n",
              "\n",
              "    } while (position < fileData.byteLength);\n",
              "  }\n",
              "\n",
              "  // All done.\n",
              "  yield {\n",
              "    response: {\n",
              "      action: 'complete',\n",
              "    }\n",
              "  };\n",
              "}\n",
              "\n",
              "scope.google = scope.google || {};\n",
              "scope.google.colab = scope.google.colab || {};\n",
              "scope.google.colab._files = {\n",
              "  _uploadFiles,\n",
              "  _uploadFilesContinue,\n",
              "};\n",
              "})(self);\n",
              "</script> "
            ]
          },
          "metadata": {}
        },
        {
          "output_type": "stream",
          "name": "stdout",
          "text": [
            "Saving kaggle.json to kaggle.json\n"
          ]
        },
        {
          "output_type": "execute_result",
          "data": {
            "text/plain": [
              "{'kaggle.json': b'{\"username\":\"nandeesh\",\"key\":\"880f3db1cc68195e9596162707e4b01b\"}'}"
            ]
          },
          "metadata": {},
          "execution_count": 2
        }
      ]
    },
    {
      "cell_type": "code",
      "metadata": {
        "id": "GCV_T6MMW4eX",
        "colab": {
          "base_uri": "https://localhost:8080/"
        },
        "outputId": "d6a34c41-1809-4079-f53b-6c583a4f8e3c"
      },
      "source": [
        "#If successfully uploaded in the above step, the 'ls' command here should display the kaggle.json file.\n",
        "%ls"
      ],
      "execution_count": 3,
      "outputs": [
        {
          "output_type": "stream",
          "name": "stdout",
          "text": [
            "\u001b[0m\u001b[01;34mdrive\u001b[0m/  kaggle.json  \u001b[01;34msample_data\u001b[0m/\n"
          ]
        }
      ]
    },
    {
      "cell_type": "markdown",
      "metadata": {
        "id": "JbukdzJ6cE32"
      },
      "source": [
        "### 4. Install the Kaggle API using the following command\n"
      ]
    },
    {
      "cell_type": "code",
      "source": [
        "#!pip install urllib3"
      ],
      "metadata": {
        "id": "G5Dvw5EJnC0b"
      },
      "execution_count": 4,
      "outputs": []
    },
    {
      "cell_type": "code",
      "metadata": {
        "id": "dMj1n1MJcqzN"
      },
      "source": [
        "#!pip install -U -q kaggle==1.5.8"
      ],
      "execution_count": null,
      "outputs": []
    },
    {
      "cell_type": "markdown",
      "metadata": {
        "id": "3Vpy9P1nchhd"
      },
      "source": [
        "### 5. Move the kaggle.json file into ~/.kaggle, which is where the API client expects your token to be located:\n",
        "\n"
      ]
    },
    {
      "cell_type": "code",
      "metadata": {
        "id": "yQbPsDOLZ0b4"
      },
      "source": [
        "!mkdir -p ~/.kaggle\n",
        "!cp kaggle.json ~/.kaggle/"
      ],
      "execution_count": 5,
      "outputs": []
    },
    {
      "cell_type": "code",
      "metadata": {
        "id": "BenAWlpI73sm",
        "colab": {
          "base_uri": "https://localhost:8080/"
        },
        "outputId": "30282b2d-046e-476e-cdd5-d94eb90eacb1"
      },
      "source": [
        "# Execute the following command to verify whether the kaggle.json is stored in the appropriate location: ~/.kaggle/kaggle.json\n",
        "!ls ~/.kaggle"
      ],
      "execution_count": 6,
      "outputs": [
        {
          "output_type": "stream",
          "name": "stdout",
          "text": [
            "kaggle.json\n"
          ]
        }
      ]
    },
    {
      "cell_type": "code",
      "metadata": {
        "id": "vm2jGsCradOS"
      },
      "source": [
        "!chmod 600 /root/.kaggle/kaggle.json # run this command to ensure your Kaggle API token is secure on colab"
      ],
      "execution_count": 7,
      "outputs": []
    },
    {
      "cell_type": "markdown",
      "metadata": {
        "id": "32unPZKzdI72"
      },
      "source": [
        "### 6. Now download the Test Data from Kaggle"
      ]
    },
    {
      "cell_type": "code",
      "metadata": {
        "id": "TY40TmgfHq0s",
        "colab": {
          "base_uri": "https://localhost:8080/"
        },
        "outputId": "a7d88b4b-b737-493d-acbf-005f572d50da"
      },
      "source": [
        "#If you get a forbidden link, you have most likely not joined the competition.\n",
        "!kaggle competitions download -c irrelevant-questions-classification"
      ],
      "execution_count": 8,
      "outputs": [
        {
          "output_type": "stream",
          "name": "stdout",
          "text": [
            "Downloading irrelevant-questions-classification.zip to /content\n",
            " 97% 59.0M/60.6M [00:03<00:00, 22.7MB/s]\n",
            "100% 60.6M/60.6M [00:03<00:00, 16.1MB/s]\n"
          ]
        }
      ]
    },
    {
      "cell_type": "code",
      "source": [
        "'''import zipfile\n",
        "zip_ref = zipfile.ZipFile('/content/irrelevant-questions-classification.zip', 'r')\n",
        "zip_ref.extractall('/content/drive/MyDrive/colab_data_files/kaggle_1_dataset')\n",
        "zip_ref.close()'''"
      ],
      "metadata": {
        "id": "W7bTnUlm2YBf",
        "colab": {
          "base_uri": "https://localhost:8080/",
          "height": 53
        },
        "outputId": "d7843254-1531-4435-f0db-613d794f4e17"
      },
      "execution_count": 10,
      "outputs": [
        {
          "output_type": "execute_result",
          "data": {
            "text/plain": [
              "\"import zipfile\\nzip_ref = zipfile.ZipFile('/content/irrelevant-questions-classification.zip', 'r')\\nzip_ref.extractall('/content/drive/MyDrive/colab_data_files/kaggle_1_dataset')\\nzip_ref.close()\""
            ],
            "application/vnd.google.colaboratory.intrinsic+json": {
              "type": "string"
            }
          },
          "metadata": {},
          "execution_count": 10
        }
      ]
    },
    {
      "cell_type": "code",
      "source": [
        "!unzip /content/irrelevant-questions-classification.zip"
      ],
      "metadata": {
        "id": "mvKRiFNglvpC",
        "colab": {
          "base_uri": "https://localhost:8080/"
        },
        "outputId": "ea20fa4f-03cf-45a9-8b75-b1ef5ae0eab8"
      },
      "execution_count": 9,
      "outputs": [
        {
          "output_type": "stream",
          "name": "stdout",
          "text": [
            "Archive:  /content/irrelevant-questions-classification.zip\n",
            "  inflating: sample_submission.csv   \n",
            "  inflating: test_dataset.csv        \n",
            "  inflating: train_dataset.csv       \n"
          ]
        }
      ]
    },
    {
      "cell_type": "code",
      "source": [
        "#!pip install transformers"
      ],
      "metadata": {
        "id": "NDHRUT5CFrzc"
      },
      "execution_count": null,
      "outputs": []
    },
    {
      "cell_type": "code",
      "source": [
        "import pandas as pd\n",
        "import numpy as np\n",
        "from sklearn.utils import shuffle\n",
        "import tensorflow as tf\n",
        "import nltk\n",
        "from sklearn.metrics import f1_score\n",
        "nltk.download('stopwords')\n",
        "from nltk.corpus import stopwords\n",
        "import string\n",
        "from gensim.utils import simple_preprocess\n",
        "\n",
        "import keras\n",
        "from keras.preprocessing.text import Tokenizer\n",
        "from keras.utils import pad_sequences\n",
        "from sklearn.preprocessing import LabelEncoder\n",
        "\n",
        "from keras.layers import Input, Embedding, Dense, Bidirectional, Dropout, GRU, LSTM\n",
        "from keras.models import Sequential   # the model\n",
        "import matplotlib.pyplot as plt"
      ],
      "metadata": {
        "id": "btM-2eBCIgJ7",
        "colab": {
          "base_uri": "https://localhost:8080/"
        },
        "outputId": "deea0ec6-101b-452f-dff0-f316e635adb3"
      },
      "execution_count": 11,
      "outputs": [
        {
          "output_type": "stream",
          "name": "stderr",
          "text": [
            "[nltk_data] Downloading package stopwords to /root/nltk_data...\n",
            "[nltk_data]   Unzipping corpora/stopwords.zip.\n"
          ]
        }
      ]
    },
    {
      "cell_type": "markdown",
      "metadata": {
        "id": "53g0zVbjRV7K"
      },
      "source": [
        "##   **Stage 1**:  Data Loading and Perform Exploratory Data Analysis (1 Points)"
      ]
    },
    {
      "cell_type": "markdown",
      "source": [
        "Extracting data from a stored folder to maintain consistency across the project"
      ],
      "metadata": {
        "id": "XyDyGyQ01PXg"
      }
    },
    {
      "cell_type": "code",
      "source": [
        "df_train = pd.read_csv(\"/content/drive/MyDrive/colab_data_files/kaggle_1_dataset/train_dataset.csv\")\n",
        "df_test = pd.read_csv(\"/content/drive/MyDrive/colab_data_files/kaggle_1_dataset/test_dataset.csv\")"
      ],
      "metadata": {
        "id": "vq7__byEHabv"
      },
      "execution_count": 12,
      "outputs": []
    },
    {
      "cell_type": "code",
      "source": [
        "df_train.head()"
      ],
      "metadata": {
        "id": "qWeLFXRQ7NlL",
        "colab": {
          "base_uri": "https://localhost:8080/",
          "height": 206
        },
        "outputId": "3111dc08-88c4-4ea1-bd1b-569adc642acc"
      },
      "execution_count": 13,
      "outputs": [
        {
          "output_type": "execute_result",
          "data": {
            "text/plain": [
              "                    qid                                      question_text  \\\n",
              "0  2549b81c4adff1849a7f                          Is CSE at bit Meara good?   \n",
              "1  0558ed93a4630e68f7ac  Is it better to exercise before or after the b...   \n",
              "2  5d72d5233059e44f8a8e  Can character naming in writing infringe on tr...   \n",
              "3  3968636ac28841d0c901  Why does everyone making YouTube videos in Jap...   \n",
              "4  201d2b9a777bbf25443f  Is there any relation between horse power and ...   \n",
              "\n",
              "   target  \n",
              "0       0  \n",
              "1       0  \n",
              "2       0  \n",
              "3       0  \n",
              "4       0  "
            ],
            "text/html": [
              "\n",
              "  <div id=\"df-70a51b16-801f-4be2-a269-abe52842ddfb\" class=\"colab-df-container\">\n",
              "    <div>\n",
              "<style scoped>\n",
              "    .dataframe tbody tr th:only-of-type {\n",
              "        vertical-align: middle;\n",
              "    }\n",
              "\n",
              "    .dataframe tbody tr th {\n",
              "        vertical-align: top;\n",
              "    }\n",
              "\n",
              "    .dataframe thead th {\n",
              "        text-align: right;\n",
              "    }\n",
              "</style>\n",
              "<table border=\"1\" class=\"dataframe\">\n",
              "  <thead>\n",
              "    <tr style=\"text-align: right;\">\n",
              "      <th></th>\n",
              "      <th>qid</th>\n",
              "      <th>question_text</th>\n",
              "      <th>target</th>\n",
              "    </tr>\n",
              "  </thead>\n",
              "  <tbody>\n",
              "    <tr>\n",
              "      <th>0</th>\n",
              "      <td>2549b81c4adff1849a7f</td>\n",
              "      <td>Is CSE at bit Meara good?</td>\n",
              "      <td>0</td>\n",
              "    </tr>\n",
              "    <tr>\n",
              "      <th>1</th>\n",
              "      <td>0558ed93a4630e68f7ac</td>\n",
              "      <td>Is it better to exercise before or after the b...</td>\n",
              "      <td>0</td>\n",
              "    </tr>\n",
              "    <tr>\n",
              "      <th>2</th>\n",
              "      <td>5d72d5233059e44f8a8e</td>\n",
              "      <td>Can character naming in writing infringe on tr...</td>\n",
              "      <td>0</td>\n",
              "    </tr>\n",
              "    <tr>\n",
              "      <th>3</th>\n",
              "      <td>3968636ac28841d0c901</td>\n",
              "      <td>Why does everyone making YouTube videos in Jap...</td>\n",
              "      <td>0</td>\n",
              "    </tr>\n",
              "    <tr>\n",
              "      <th>4</th>\n",
              "      <td>201d2b9a777bbf25443f</td>\n",
              "      <td>Is there any relation between horse power and ...</td>\n",
              "      <td>0</td>\n",
              "    </tr>\n",
              "  </tbody>\n",
              "</table>\n",
              "</div>\n",
              "    <div class=\"colab-df-buttons\">\n",
              "\n",
              "  <div class=\"colab-df-container\">\n",
              "    <button class=\"colab-df-convert\" onclick=\"convertToInteractive('df-70a51b16-801f-4be2-a269-abe52842ddfb')\"\n",
              "            title=\"Convert this dataframe to an interactive table.\"\n",
              "            style=\"display:none;\">\n",
              "\n",
              "  <svg xmlns=\"http://www.w3.org/2000/svg\" height=\"24px\" viewBox=\"0 -960 960 960\">\n",
              "    <path d=\"M120-120v-720h720v720H120Zm60-500h600v-160H180v160Zm220 220h160v-160H400v160Zm0 220h160v-160H400v160ZM180-400h160v-160H180v160Zm440 0h160v-160H620v160ZM180-180h160v-160H180v160Zm440 0h160v-160H620v160Z\"/>\n",
              "  </svg>\n",
              "    </button>\n",
              "\n",
              "  <style>\n",
              "    .colab-df-container {\n",
              "      display:flex;\n",
              "      gap: 12px;\n",
              "    }\n",
              "\n",
              "    .colab-df-convert {\n",
              "      background-color: #E8F0FE;\n",
              "      border: none;\n",
              "      border-radius: 50%;\n",
              "      cursor: pointer;\n",
              "      display: none;\n",
              "      fill: #1967D2;\n",
              "      height: 32px;\n",
              "      padding: 0 0 0 0;\n",
              "      width: 32px;\n",
              "    }\n",
              "\n",
              "    .colab-df-convert:hover {\n",
              "      background-color: #E2EBFA;\n",
              "      box-shadow: 0px 1px 2px rgba(60, 64, 67, 0.3), 0px 1px 3px 1px rgba(60, 64, 67, 0.15);\n",
              "      fill: #174EA6;\n",
              "    }\n",
              "\n",
              "    .colab-df-buttons div {\n",
              "      margin-bottom: 4px;\n",
              "    }\n",
              "\n",
              "    [theme=dark] .colab-df-convert {\n",
              "      background-color: #3B4455;\n",
              "      fill: #D2E3FC;\n",
              "    }\n",
              "\n",
              "    [theme=dark] .colab-df-convert:hover {\n",
              "      background-color: #434B5C;\n",
              "      box-shadow: 0px 1px 3px 1px rgba(0, 0, 0, 0.15);\n",
              "      filter: drop-shadow(0px 1px 2px rgba(0, 0, 0, 0.3));\n",
              "      fill: #FFFFFF;\n",
              "    }\n",
              "  </style>\n",
              "\n",
              "    <script>\n",
              "      const buttonEl =\n",
              "        document.querySelector('#df-70a51b16-801f-4be2-a269-abe52842ddfb button.colab-df-convert');\n",
              "      buttonEl.style.display =\n",
              "        google.colab.kernel.accessAllowed ? 'block' : 'none';\n",
              "\n",
              "      async function convertToInteractive(key) {\n",
              "        const element = document.querySelector('#df-70a51b16-801f-4be2-a269-abe52842ddfb');\n",
              "        const dataTable =\n",
              "          await google.colab.kernel.invokeFunction('convertToInteractive',\n",
              "                                                    [key], {});\n",
              "        if (!dataTable) return;\n",
              "\n",
              "        const docLinkHtml = 'Like what you see? Visit the ' +\n",
              "          '<a target=\"_blank\" href=https://colab.research.google.com/notebooks/data_table.ipynb>data table notebook</a>'\n",
              "          + ' to learn more about interactive tables.';\n",
              "        element.innerHTML = '';\n",
              "        dataTable['output_type'] = 'display_data';\n",
              "        await google.colab.output.renderOutput(dataTable, element);\n",
              "        const docLink = document.createElement('div');\n",
              "        docLink.innerHTML = docLinkHtml;\n",
              "        element.appendChild(docLink);\n",
              "      }\n",
              "    </script>\n",
              "  </div>\n",
              "\n",
              "\n",
              "<div id=\"df-c1b8607b-bcb0-4155-b8b4-618a4dd40d45\">\n",
              "  <button class=\"colab-df-quickchart\" onclick=\"quickchart('df-c1b8607b-bcb0-4155-b8b4-618a4dd40d45')\"\n",
              "            title=\"Suggest charts.\"\n",
              "            style=\"display:none;\">\n",
              "\n",
              "<svg xmlns=\"http://www.w3.org/2000/svg\" height=\"24px\"viewBox=\"0 0 24 24\"\n",
              "     width=\"24px\">\n",
              "    <g>\n",
              "        <path d=\"M19 3H5c-1.1 0-2 .9-2 2v14c0 1.1.9 2 2 2h14c1.1 0 2-.9 2-2V5c0-1.1-.9-2-2-2zM9 17H7v-7h2v7zm4 0h-2V7h2v10zm4 0h-2v-4h2v4z\"/>\n",
              "    </g>\n",
              "</svg>\n",
              "  </button>\n",
              "\n",
              "<style>\n",
              "  .colab-df-quickchart {\n",
              "      --bg-color: #E8F0FE;\n",
              "      --fill-color: #1967D2;\n",
              "      --hover-bg-color: #E2EBFA;\n",
              "      --hover-fill-color: #174EA6;\n",
              "      --disabled-fill-color: #AAA;\n",
              "      --disabled-bg-color: #DDD;\n",
              "  }\n",
              "\n",
              "  [theme=dark] .colab-df-quickchart {\n",
              "      --bg-color: #3B4455;\n",
              "      --fill-color: #D2E3FC;\n",
              "      --hover-bg-color: #434B5C;\n",
              "      --hover-fill-color: #FFFFFF;\n",
              "      --disabled-bg-color: #3B4455;\n",
              "      --disabled-fill-color: #666;\n",
              "  }\n",
              "\n",
              "  .colab-df-quickchart {\n",
              "    background-color: var(--bg-color);\n",
              "    border: none;\n",
              "    border-radius: 50%;\n",
              "    cursor: pointer;\n",
              "    display: none;\n",
              "    fill: var(--fill-color);\n",
              "    height: 32px;\n",
              "    padding: 0;\n",
              "    width: 32px;\n",
              "  }\n",
              "\n",
              "  .colab-df-quickchart:hover {\n",
              "    background-color: var(--hover-bg-color);\n",
              "    box-shadow: 0 1px 2px rgba(60, 64, 67, 0.3), 0 1px 3px 1px rgba(60, 64, 67, 0.15);\n",
              "    fill: var(--button-hover-fill-color);\n",
              "  }\n",
              "\n",
              "  .colab-df-quickchart-complete:disabled,\n",
              "  .colab-df-quickchart-complete:disabled:hover {\n",
              "    background-color: var(--disabled-bg-color);\n",
              "    fill: var(--disabled-fill-color);\n",
              "    box-shadow: none;\n",
              "  }\n",
              "\n",
              "  .colab-df-spinner {\n",
              "    border: 2px solid var(--fill-color);\n",
              "    border-color: transparent;\n",
              "    border-bottom-color: var(--fill-color);\n",
              "    animation:\n",
              "      spin 1s steps(1) infinite;\n",
              "  }\n",
              "\n",
              "  @keyframes spin {\n",
              "    0% {\n",
              "      border-color: transparent;\n",
              "      border-bottom-color: var(--fill-color);\n",
              "      border-left-color: var(--fill-color);\n",
              "    }\n",
              "    20% {\n",
              "      border-color: transparent;\n",
              "      border-left-color: var(--fill-color);\n",
              "      border-top-color: var(--fill-color);\n",
              "    }\n",
              "    30% {\n",
              "      border-color: transparent;\n",
              "      border-left-color: var(--fill-color);\n",
              "      border-top-color: var(--fill-color);\n",
              "      border-right-color: var(--fill-color);\n",
              "    }\n",
              "    40% {\n",
              "      border-color: transparent;\n",
              "      border-right-color: var(--fill-color);\n",
              "      border-top-color: var(--fill-color);\n",
              "    }\n",
              "    60% {\n",
              "      border-color: transparent;\n",
              "      border-right-color: var(--fill-color);\n",
              "    }\n",
              "    80% {\n",
              "      border-color: transparent;\n",
              "      border-right-color: var(--fill-color);\n",
              "      border-bottom-color: var(--fill-color);\n",
              "    }\n",
              "    90% {\n",
              "      border-color: transparent;\n",
              "      border-bottom-color: var(--fill-color);\n",
              "    }\n",
              "  }\n",
              "</style>\n",
              "\n",
              "  <script>\n",
              "    async function quickchart(key) {\n",
              "      const quickchartButtonEl =\n",
              "        document.querySelector('#' + key + ' button');\n",
              "      quickchartButtonEl.disabled = true;  // To prevent multiple clicks.\n",
              "      quickchartButtonEl.classList.add('colab-df-spinner');\n",
              "      try {\n",
              "        const charts = await google.colab.kernel.invokeFunction(\n",
              "            'suggestCharts', [key], {});\n",
              "      } catch (error) {\n",
              "        console.error('Error during call to suggestCharts:', error);\n",
              "      }\n",
              "      quickchartButtonEl.classList.remove('colab-df-spinner');\n",
              "      quickchartButtonEl.classList.add('colab-df-quickchart-complete');\n",
              "    }\n",
              "    (() => {\n",
              "      let quickchartButtonEl =\n",
              "        document.querySelector('#df-c1b8607b-bcb0-4155-b8b4-618a4dd40d45 button');\n",
              "      quickchartButtonEl.style.display =\n",
              "        google.colab.kernel.accessAllowed ? 'block' : 'none';\n",
              "    })();\n",
              "  </script>\n",
              "</div>\n",
              "    </div>\n",
              "  </div>\n"
            ]
          },
          "metadata": {},
          "execution_count": 13
        }
      ]
    },
    {
      "cell_type": "code",
      "source": [
        "#Let's check the distribution of target clas\n",
        "df_train['target'].value_counts()"
      ],
      "metadata": {
        "id": "ET0IBGW3BtDp",
        "colab": {
          "base_uri": "https://localhost:8080/"
        },
        "outputId": "f7823603-793e-4247-c85c-61ae5ebd8fd7"
      },
      "execution_count": 14,
      "outputs": [
        {
          "output_type": "execute_result",
          "data": {
            "text/plain": [
              "0    980293\n",
              "1     64604\n",
              "Name: target, dtype: int64"
            ]
          },
          "metadata": {},
          "execution_count": 14
        }
      ]
    },
    {
      "cell_type": "markdown",
      "source": [
        "The data is heavily skewed. Only 6% of the samples are toxic/inappropriate"
      ],
      "metadata": {
        "id": "D06os3_qhZiD"
      }
    },
    {
      "cell_type": "code",
      "source": [
        "df_train.isnull().values.any()"
      ],
      "metadata": {
        "id": "M6fvHL16DjCX",
        "colab": {
          "base_uri": "https://localhost:8080/"
        },
        "outputId": "94bb245f-cb71-40d6-8da7-0799ce893aef"
      },
      "execution_count": 15,
      "outputs": [
        {
          "output_type": "execute_result",
          "data": {
            "text/plain": [
              "False"
            ]
          },
          "metadata": {},
          "execution_count": 15
        }
      ]
    },
    {
      "cell_type": "markdown",
      "source": [
        "no null values exist"
      ],
      "metadata": {
        "id": "bqBbtU0KDuiL"
      }
    },
    {
      "cell_type": "code",
      "source": [
        "df_train.dtypes"
      ],
      "metadata": {
        "id": "ZMDlrIsoEAJ1",
        "colab": {
          "base_uri": "https://localhost:8080/"
        },
        "outputId": "32de0f93-a021-4848-e28b-93ba4ed8bfcb"
      },
      "execution_count": 16,
      "outputs": [
        {
          "output_type": "execute_result",
          "data": {
            "text/plain": [
              "qid              object\n",
              "question_text    object\n",
              "target            int64\n",
              "dtype: object"
            ]
          },
          "metadata": {},
          "execution_count": 16
        }
      ]
    },
    {
      "cell_type": "markdown",
      "source": [
        "The columns are in the right format"
      ],
      "metadata": {
        "id": "rVyfB6mjEMHj"
      }
    },
    {
      "cell_type": "code",
      "source": [
        "df_train.shape"
      ],
      "metadata": {
        "id": "-6ZCiIxxKiq7",
        "colab": {
          "base_uri": "https://localhost:8080/"
        },
        "outputId": "dd28e023-6c37-4124-9756-d64e10510890"
      },
      "execution_count": 17,
      "outputs": [
        {
          "output_type": "execute_result",
          "data": {
            "text/plain": [
              "(1044897, 3)"
            ]
          },
          "metadata": {},
          "execution_count": 17
        }
      ]
    },
    {
      "cell_type": "code",
      "source": [
        "df_test.shape"
      ],
      "metadata": {
        "id": "fmAg6C3c7DfX",
        "colab": {
          "base_uri": "https://localhost:8080/"
        },
        "outputId": "0a967082-cc98-4cd3-dea4-b3689f43fc26"
      },
      "execution_count": 18,
      "outputs": [
        {
          "output_type": "execute_result",
          "data": {
            "text/plain": [
              "(261221, 2)"
            ]
          },
          "metadata": {},
          "execution_count": 18
        }
      ]
    },
    {
      "cell_type": "code",
      "source": [
        "df_train.tail()"
      ],
      "metadata": {
        "id": "_Qezmeq67es0",
        "colab": {
          "base_uri": "https://localhost:8080/",
          "height": 206
        },
        "outputId": "bc483e64-77c7-4548-bf58-efed5b51db12"
      },
      "execution_count": 19,
      "outputs": [
        {
          "output_type": "execute_result",
          "data": {
            "text/plain": [
              "                          qid  \\\n",
              "1044892  b5d282ea587702905154   \n",
              "1044893  5518b478efd27015c9b8   \n",
              "1044894  bc15c3edb963bdb86b9f   \n",
              "1044895  12877d5f68d2eb841c3f   \n",
              "1044896  0154ac055e234881dfb7   \n",
              "\n",
              "                                             question_text  target  \n",
              "1044892  What are some good websites or apps to learn E...       0  \n",
              "1044893  Where can one purchase large fireworks in the ...       0  \n",
              "1044894             Where do I study sat subject in India?       0  \n",
              "1044895  Which team in IPL (1-10) has won all the leagu...       0  \n",
              "1044896  I know you can't change your personality as a ...       0  "
            ],
            "text/html": [
              "\n",
              "  <div id=\"df-74ba3f9f-dcfa-49a9-8f84-b36aa0b2ac1b\" class=\"colab-df-container\">\n",
              "    <div>\n",
              "<style scoped>\n",
              "    .dataframe tbody tr th:only-of-type {\n",
              "        vertical-align: middle;\n",
              "    }\n",
              "\n",
              "    .dataframe tbody tr th {\n",
              "        vertical-align: top;\n",
              "    }\n",
              "\n",
              "    .dataframe thead th {\n",
              "        text-align: right;\n",
              "    }\n",
              "</style>\n",
              "<table border=\"1\" class=\"dataframe\">\n",
              "  <thead>\n",
              "    <tr style=\"text-align: right;\">\n",
              "      <th></th>\n",
              "      <th>qid</th>\n",
              "      <th>question_text</th>\n",
              "      <th>target</th>\n",
              "    </tr>\n",
              "  </thead>\n",
              "  <tbody>\n",
              "    <tr>\n",
              "      <th>1044892</th>\n",
              "      <td>b5d282ea587702905154</td>\n",
              "      <td>What are some good websites or apps to learn E...</td>\n",
              "      <td>0</td>\n",
              "    </tr>\n",
              "    <tr>\n",
              "      <th>1044893</th>\n",
              "      <td>5518b478efd27015c9b8</td>\n",
              "      <td>Where can one purchase large fireworks in the ...</td>\n",
              "      <td>0</td>\n",
              "    </tr>\n",
              "    <tr>\n",
              "      <th>1044894</th>\n",
              "      <td>bc15c3edb963bdb86b9f</td>\n",
              "      <td>Where do I study sat subject in India?</td>\n",
              "      <td>0</td>\n",
              "    </tr>\n",
              "    <tr>\n",
              "      <th>1044895</th>\n",
              "      <td>12877d5f68d2eb841c3f</td>\n",
              "      <td>Which team in IPL (1-10) has won all the leagu...</td>\n",
              "      <td>0</td>\n",
              "    </tr>\n",
              "    <tr>\n",
              "      <th>1044896</th>\n",
              "      <td>0154ac055e234881dfb7</td>\n",
              "      <td>I know you can't change your personality as a ...</td>\n",
              "      <td>0</td>\n",
              "    </tr>\n",
              "  </tbody>\n",
              "</table>\n",
              "</div>\n",
              "    <div class=\"colab-df-buttons\">\n",
              "\n",
              "  <div class=\"colab-df-container\">\n",
              "    <button class=\"colab-df-convert\" onclick=\"convertToInteractive('df-74ba3f9f-dcfa-49a9-8f84-b36aa0b2ac1b')\"\n",
              "            title=\"Convert this dataframe to an interactive table.\"\n",
              "            style=\"display:none;\">\n",
              "\n",
              "  <svg xmlns=\"http://www.w3.org/2000/svg\" height=\"24px\" viewBox=\"0 -960 960 960\">\n",
              "    <path d=\"M120-120v-720h720v720H120Zm60-500h600v-160H180v160Zm220 220h160v-160H400v160Zm0 220h160v-160H400v160ZM180-400h160v-160H180v160Zm440 0h160v-160H620v160ZM180-180h160v-160H180v160Zm440 0h160v-160H620v160Z\"/>\n",
              "  </svg>\n",
              "    </button>\n",
              "\n",
              "  <style>\n",
              "    .colab-df-container {\n",
              "      display:flex;\n",
              "      gap: 12px;\n",
              "    }\n",
              "\n",
              "    .colab-df-convert {\n",
              "      background-color: #E8F0FE;\n",
              "      border: none;\n",
              "      border-radius: 50%;\n",
              "      cursor: pointer;\n",
              "      display: none;\n",
              "      fill: #1967D2;\n",
              "      height: 32px;\n",
              "      padding: 0 0 0 0;\n",
              "      width: 32px;\n",
              "    }\n",
              "\n",
              "    .colab-df-convert:hover {\n",
              "      background-color: #E2EBFA;\n",
              "      box-shadow: 0px 1px 2px rgba(60, 64, 67, 0.3), 0px 1px 3px 1px rgba(60, 64, 67, 0.15);\n",
              "      fill: #174EA6;\n",
              "    }\n",
              "\n",
              "    .colab-df-buttons div {\n",
              "      margin-bottom: 4px;\n",
              "    }\n",
              "\n",
              "    [theme=dark] .colab-df-convert {\n",
              "      background-color: #3B4455;\n",
              "      fill: #D2E3FC;\n",
              "    }\n",
              "\n",
              "    [theme=dark] .colab-df-convert:hover {\n",
              "      background-color: #434B5C;\n",
              "      box-shadow: 0px 1px 3px 1px rgba(0, 0, 0, 0.15);\n",
              "      filter: drop-shadow(0px 1px 2px rgba(0, 0, 0, 0.3));\n",
              "      fill: #FFFFFF;\n",
              "    }\n",
              "  </style>\n",
              "\n",
              "    <script>\n",
              "      const buttonEl =\n",
              "        document.querySelector('#df-74ba3f9f-dcfa-49a9-8f84-b36aa0b2ac1b button.colab-df-convert');\n",
              "      buttonEl.style.display =\n",
              "        google.colab.kernel.accessAllowed ? 'block' : 'none';\n",
              "\n",
              "      async function convertToInteractive(key) {\n",
              "        const element = document.querySelector('#df-74ba3f9f-dcfa-49a9-8f84-b36aa0b2ac1b');\n",
              "        const dataTable =\n",
              "          await google.colab.kernel.invokeFunction('convertToInteractive',\n",
              "                                                    [key], {});\n",
              "        if (!dataTable) return;\n",
              "\n",
              "        const docLinkHtml = 'Like what you see? Visit the ' +\n",
              "          '<a target=\"_blank\" href=https://colab.research.google.com/notebooks/data_table.ipynb>data table notebook</a>'\n",
              "          + ' to learn more about interactive tables.';\n",
              "        element.innerHTML = '';\n",
              "        dataTable['output_type'] = 'display_data';\n",
              "        await google.colab.output.renderOutput(dataTable, element);\n",
              "        const docLink = document.createElement('div');\n",
              "        docLink.innerHTML = docLinkHtml;\n",
              "        element.appendChild(docLink);\n",
              "      }\n",
              "    </script>\n",
              "  </div>\n",
              "\n",
              "\n",
              "<div id=\"df-8331afac-d7ae-4a10-84e9-e348abd6b894\">\n",
              "  <button class=\"colab-df-quickchart\" onclick=\"quickchart('df-8331afac-d7ae-4a10-84e9-e348abd6b894')\"\n",
              "            title=\"Suggest charts.\"\n",
              "            style=\"display:none;\">\n",
              "\n",
              "<svg xmlns=\"http://www.w3.org/2000/svg\" height=\"24px\"viewBox=\"0 0 24 24\"\n",
              "     width=\"24px\">\n",
              "    <g>\n",
              "        <path d=\"M19 3H5c-1.1 0-2 .9-2 2v14c0 1.1.9 2 2 2h14c1.1 0 2-.9 2-2V5c0-1.1-.9-2-2-2zM9 17H7v-7h2v7zm4 0h-2V7h2v10zm4 0h-2v-4h2v4z\"/>\n",
              "    </g>\n",
              "</svg>\n",
              "  </button>\n",
              "\n",
              "<style>\n",
              "  .colab-df-quickchart {\n",
              "      --bg-color: #E8F0FE;\n",
              "      --fill-color: #1967D2;\n",
              "      --hover-bg-color: #E2EBFA;\n",
              "      --hover-fill-color: #174EA6;\n",
              "      --disabled-fill-color: #AAA;\n",
              "      --disabled-bg-color: #DDD;\n",
              "  }\n",
              "\n",
              "  [theme=dark] .colab-df-quickchart {\n",
              "      --bg-color: #3B4455;\n",
              "      --fill-color: #D2E3FC;\n",
              "      --hover-bg-color: #434B5C;\n",
              "      --hover-fill-color: #FFFFFF;\n",
              "      --disabled-bg-color: #3B4455;\n",
              "      --disabled-fill-color: #666;\n",
              "  }\n",
              "\n",
              "  .colab-df-quickchart {\n",
              "    background-color: var(--bg-color);\n",
              "    border: none;\n",
              "    border-radius: 50%;\n",
              "    cursor: pointer;\n",
              "    display: none;\n",
              "    fill: var(--fill-color);\n",
              "    height: 32px;\n",
              "    padding: 0;\n",
              "    width: 32px;\n",
              "  }\n",
              "\n",
              "  .colab-df-quickchart:hover {\n",
              "    background-color: var(--hover-bg-color);\n",
              "    box-shadow: 0 1px 2px rgba(60, 64, 67, 0.3), 0 1px 3px 1px rgba(60, 64, 67, 0.15);\n",
              "    fill: var(--button-hover-fill-color);\n",
              "  }\n",
              "\n",
              "  .colab-df-quickchart-complete:disabled,\n",
              "  .colab-df-quickchart-complete:disabled:hover {\n",
              "    background-color: var(--disabled-bg-color);\n",
              "    fill: var(--disabled-fill-color);\n",
              "    box-shadow: none;\n",
              "  }\n",
              "\n",
              "  .colab-df-spinner {\n",
              "    border: 2px solid var(--fill-color);\n",
              "    border-color: transparent;\n",
              "    border-bottom-color: var(--fill-color);\n",
              "    animation:\n",
              "      spin 1s steps(1) infinite;\n",
              "  }\n",
              "\n",
              "  @keyframes spin {\n",
              "    0% {\n",
              "      border-color: transparent;\n",
              "      border-bottom-color: var(--fill-color);\n",
              "      border-left-color: var(--fill-color);\n",
              "    }\n",
              "    20% {\n",
              "      border-color: transparent;\n",
              "      border-left-color: var(--fill-color);\n",
              "      border-top-color: var(--fill-color);\n",
              "    }\n",
              "    30% {\n",
              "      border-color: transparent;\n",
              "      border-left-color: var(--fill-color);\n",
              "      border-top-color: var(--fill-color);\n",
              "      border-right-color: var(--fill-color);\n",
              "    }\n",
              "    40% {\n",
              "      border-color: transparent;\n",
              "      border-right-color: var(--fill-color);\n",
              "      border-top-color: var(--fill-color);\n",
              "    }\n",
              "    60% {\n",
              "      border-color: transparent;\n",
              "      border-right-color: var(--fill-color);\n",
              "    }\n",
              "    80% {\n",
              "      border-color: transparent;\n",
              "      border-right-color: var(--fill-color);\n",
              "      border-bottom-color: var(--fill-color);\n",
              "    }\n",
              "    90% {\n",
              "      border-color: transparent;\n",
              "      border-bottom-color: var(--fill-color);\n",
              "    }\n",
              "  }\n",
              "</style>\n",
              "\n",
              "  <script>\n",
              "    async function quickchart(key) {\n",
              "      const quickchartButtonEl =\n",
              "        document.querySelector('#' + key + ' button');\n",
              "      quickchartButtonEl.disabled = true;  // To prevent multiple clicks.\n",
              "      quickchartButtonEl.classList.add('colab-df-spinner');\n",
              "      try {\n",
              "        const charts = await google.colab.kernel.invokeFunction(\n",
              "            'suggestCharts', [key], {});\n",
              "      } catch (error) {\n",
              "        console.error('Error during call to suggestCharts:', error);\n",
              "      }\n",
              "      quickchartButtonEl.classList.remove('colab-df-spinner');\n",
              "      quickchartButtonEl.classList.add('colab-df-quickchart-complete');\n",
              "    }\n",
              "    (() => {\n",
              "      let quickchartButtonEl =\n",
              "        document.querySelector('#df-8331afac-d7ae-4a10-84e9-e348abd6b894 button');\n",
              "      quickchartButtonEl.style.display =\n",
              "        google.colab.kernel.accessAllowed ? 'block' : 'none';\n",
              "    })();\n",
              "  </script>\n",
              "</div>\n",
              "    </div>\n",
              "  </div>\n"
            ]
          },
          "metadata": {},
          "execution_count": 19
        }
      ]
    },
    {
      "cell_type": "code",
      "source": [
        "df_test.head()"
      ],
      "metadata": {
        "id": "N5VrG8oQ7nQh",
        "colab": {
          "base_uri": "https://localhost:8080/",
          "height": 206
        },
        "outputId": "6634dbbd-ffe6-4670-ef31-df09b8bb98ee"
      },
      "execution_count": 20,
      "outputs": [
        {
          "output_type": "execute_result",
          "data": {
            "text/plain": [
              "                    qid                                      question_text\n",
              "0  d5cacbea9be29bd47a78                               Is Minance any good?\n",
              "1  5650c4a236fe3b555c31            Do computers have reserved key strokes?\n",
              "2  b778db4f09f9326195ea  When was the last time that the US had such a ...\n",
              "3  e91c299cffc74a66aaf5                   Are you still living in Wasilla?\n",
              "4  2e129e7a85739a73b70a  What distinguishes the acting style of Piolo P..."
            ],
            "text/html": [
              "\n",
              "  <div id=\"df-386068aa-e5b5-4e36-9b91-855876f9db4b\" class=\"colab-df-container\">\n",
              "    <div>\n",
              "<style scoped>\n",
              "    .dataframe tbody tr th:only-of-type {\n",
              "        vertical-align: middle;\n",
              "    }\n",
              "\n",
              "    .dataframe tbody tr th {\n",
              "        vertical-align: top;\n",
              "    }\n",
              "\n",
              "    .dataframe thead th {\n",
              "        text-align: right;\n",
              "    }\n",
              "</style>\n",
              "<table border=\"1\" class=\"dataframe\">\n",
              "  <thead>\n",
              "    <tr style=\"text-align: right;\">\n",
              "      <th></th>\n",
              "      <th>qid</th>\n",
              "      <th>question_text</th>\n",
              "    </tr>\n",
              "  </thead>\n",
              "  <tbody>\n",
              "    <tr>\n",
              "      <th>0</th>\n",
              "      <td>d5cacbea9be29bd47a78</td>\n",
              "      <td>Is Minance any good?</td>\n",
              "    </tr>\n",
              "    <tr>\n",
              "      <th>1</th>\n",
              "      <td>5650c4a236fe3b555c31</td>\n",
              "      <td>Do computers have reserved key strokes?</td>\n",
              "    </tr>\n",
              "    <tr>\n",
              "      <th>2</th>\n",
              "      <td>b778db4f09f9326195ea</td>\n",
              "      <td>When was the last time that the US had such a ...</td>\n",
              "    </tr>\n",
              "    <tr>\n",
              "      <th>3</th>\n",
              "      <td>e91c299cffc74a66aaf5</td>\n",
              "      <td>Are you still living in Wasilla?</td>\n",
              "    </tr>\n",
              "    <tr>\n",
              "      <th>4</th>\n",
              "      <td>2e129e7a85739a73b70a</td>\n",
              "      <td>What distinguishes the acting style of Piolo P...</td>\n",
              "    </tr>\n",
              "  </tbody>\n",
              "</table>\n",
              "</div>\n",
              "    <div class=\"colab-df-buttons\">\n",
              "\n",
              "  <div class=\"colab-df-container\">\n",
              "    <button class=\"colab-df-convert\" onclick=\"convertToInteractive('df-386068aa-e5b5-4e36-9b91-855876f9db4b')\"\n",
              "            title=\"Convert this dataframe to an interactive table.\"\n",
              "            style=\"display:none;\">\n",
              "\n",
              "  <svg xmlns=\"http://www.w3.org/2000/svg\" height=\"24px\" viewBox=\"0 -960 960 960\">\n",
              "    <path d=\"M120-120v-720h720v720H120Zm60-500h600v-160H180v160Zm220 220h160v-160H400v160Zm0 220h160v-160H400v160ZM180-400h160v-160H180v160Zm440 0h160v-160H620v160ZM180-180h160v-160H180v160Zm440 0h160v-160H620v160Z\"/>\n",
              "  </svg>\n",
              "    </button>\n",
              "\n",
              "  <style>\n",
              "    .colab-df-container {\n",
              "      display:flex;\n",
              "      gap: 12px;\n",
              "    }\n",
              "\n",
              "    .colab-df-convert {\n",
              "      background-color: #E8F0FE;\n",
              "      border: none;\n",
              "      border-radius: 50%;\n",
              "      cursor: pointer;\n",
              "      display: none;\n",
              "      fill: #1967D2;\n",
              "      height: 32px;\n",
              "      padding: 0 0 0 0;\n",
              "      width: 32px;\n",
              "    }\n",
              "\n",
              "    .colab-df-convert:hover {\n",
              "      background-color: #E2EBFA;\n",
              "      box-shadow: 0px 1px 2px rgba(60, 64, 67, 0.3), 0px 1px 3px 1px rgba(60, 64, 67, 0.15);\n",
              "      fill: #174EA6;\n",
              "    }\n",
              "\n",
              "    .colab-df-buttons div {\n",
              "      margin-bottom: 4px;\n",
              "    }\n",
              "\n",
              "    [theme=dark] .colab-df-convert {\n",
              "      background-color: #3B4455;\n",
              "      fill: #D2E3FC;\n",
              "    }\n",
              "\n",
              "    [theme=dark] .colab-df-convert:hover {\n",
              "      background-color: #434B5C;\n",
              "      box-shadow: 0px 1px 3px 1px rgba(0, 0, 0, 0.15);\n",
              "      filter: drop-shadow(0px 1px 2px rgba(0, 0, 0, 0.3));\n",
              "      fill: #FFFFFF;\n",
              "    }\n",
              "  </style>\n",
              "\n",
              "    <script>\n",
              "      const buttonEl =\n",
              "        document.querySelector('#df-386068aa-e5b5-4e36-9b91-855876f9db4b button.colab-df-convert');\n",
              "      buttonEl.style.display =\n",
              "        google.colab.kernel.accessAllowed ? 'block' : 'none';\n",
              "\n",
              "      async function convertToInteractive(key) {\n",
              "        const element = document.querySelector('#df-386068aa-e5b5-4e36-9b91-855876f9db4b');\n",
              "        const dataTable =\n",
              "          await google.colab.kernel.invokeFunction('convertToInteractive',\n",
              "                                                    [key], {});\n",
              "        if (!dataTable) return;\n",
              "\n",
              "        const docLinkHtml = 'Like what you see? Visit the ' +\n",
              "          '<a target=\"_blank\" href=https://colab.research.google.com/notebooks/data_table.ipynb>data table notebook</a>'\n",
              "          + ' to learn more about interactive tables.';\n",
              "        element.innerHTML = '';\n",
              "        dataTable['output_type'] = 'display_data';\n",
              "        await google.colab.output.renderOutput(dataTable, element);\n",
              "        const docLink = document.createElement('div');\n",
              "        docLink.innerHTML = docLinkHtml;\n",
              "        element.appendChild(docLink);\n",
              "      }\n",
              "    </script>\n",
              "  </div>\n",
              "\n",
              "\n",
              "<div id=\"df-715f5c3a-ae36-40a5-979f-9b36bc95a50a\">\n",
              "  <button class=\"colab-df-quickchart\" onclick=\"quickchart('df-715f5c3a-ae36-40a5-979f-9b36bc95a50a')\"\n",
              "            title=\"Suggest charts.\"\n",
              "            style=\"display:none;\">\n",
              "\n",
              "<svg xmlns=\"http://www.w3.org/2000/svg\" height=\"24px\"viewBox=\"0 0 24 24\"\n",
              "     width=\"24px\">\n",
              "    <g>\n",
              "        <path d=\"M19 3H5c-1.1 0-2 .9-2 2v14c0 1.1.9 2 2 2h14c1.1 0 2-.9 2-2V5c0-1.1-.9-2-2-2zM9 17H7v-7h2v7zm4 0h-2V7h2v10zm4 0h-2v-4h2v4z\"/>\n",
              "    </g>\n",
              "</svg>\n",
              "  </button>\n",
              "\n",
              "<style>\n",
              "  .colab-df-quickchart {\n",
              "      --bg-color: #E8F0FE;\n",
              "      --fill-color: #1967D2;\n",
              "      --hover-bg-color: #E2EBFA;\n",
              "      --hover-fill-color: #174EA6;\n",
              "      --disabled-fill-color: #AAA;\n",
              "      --disabled-bg-color: #DDD;\n",
              "  }\n",
              "\n",
              "  [theme=dark] .colab-df-quickchart {\n",
              "      --bg-color: #3B4455;\n",
              "      --fill-color: #D2E3FC;\n",
              "      --hover-bg-color: #434B5C;\n",
              "      --hover-fill-color: #FFFFFF;\n",
              "      --disabled-bg-color: #3B4455;\n",
              "      --disabled-fill-color: #666;\n",
              "  }\n",
              "\n",
              "  .colab-df-quickchart {\n",
              "    background-color: var(--bg-color);\n",
              "    border: none;\n",
              "    border-radius: 50%;\n",
              "    cursor: pointer;\n",
              "    display: none;\n",
              "    fill: var(--fill-color);\n",
              "    height: 32px;\n",
              "    padding: 0;\n",
              "    width: 32px;\n",
              "  }\n",
              "\n",
              "  .colab-df-quickchart:hover {\n",
              "    background-color: var(--hover-bg-color);\n",
              "    box-shadow: 0 1px 2px rgba(60, 64, 67, 0.3), 0 1px 3px 1px rgba(60, 64, 67, 0.15);\n",
              "    fill: var(--button-hover-fill-color);\n",
              "  }\n",
              "\n",
              "  .colab-df-quickchart-complete:disabled,\n",
              "  .colab-df-quickchart-complete:disabled:hover {\n",
              "    background-color: var(--disabled-bg-color);\n",
              "    fill: var(--disabled-fill-color);\n",
              "    box-shadow: none;\n",
              "  }\n",
              "\n",
              "  .colab-df-spinner {\n",
              "    border: 2px solid var(--fill-color);\n",
              "    border-color: transparent;\n",
              "    border-bottom-color: var(--fill-color);\n",
              "    animation:\n",
              "      spin 1s steps(1) infinite;\n",
              "  }\n",
              "\n",
              "  @keyframes spin {\n",
              "    0% {\n",
              "      border-color: transparent;\n",
              "      border-bottom-color: var(--fill-color);\n",
              "      border-left-color: var(--fill-color);\n",
              "    }\n",
              "    20% {\n",
              "      border-color: transparent;\n",
              "      border-left-color: var(--fill-color);\n",
              "      border-top-color: var(--fill-color);\n",
              "    }\n",
              "    30% {\n",
              "      border-color: transparent;\n",
              "      border-left-color: var(--fill-color);\n",
              "      border-top-color: var(--fill-color);\n",
              "      border-right-color: var(--fill-color);\n",
              "    }\n",
              "    40% {\n",
              "      border-color: transparent;\n",
              "      border-right-color: var(--fill-color);\n",
              "      border-top-color: var(--fill-color);\n",
              "    }\n",
              "    60% {\n",
              "      border-color: transparent;\n",
              "      border-right-color: var(--fill-color);\n",
              "    }\n",
              "    80% {\n",
              "      border-color: transparent;\n",
              "      border-right-color: var(--fill-color);\n",
              "      border-bottom-color: var(--fill-color);\n",
              "    }\n",
              "    90% {\n",
              "      border-color: transparent;\n",
              "      border-bottom-color: var(--fill-color);\n",
              "    }\n",
              "  }\n",
              "</style>\n",
              "\n",
              "  <script>\n",
              "    async function quickchart(key) {\n",
              "      const quickchartButtonEl =\n",
              "        document.querySelector('#' + key + ' button');\n",
              "      quickchartButtonEl.disabled = true;  // To prevent multiple clicks.\n",
              "      quickchartButtonEl.classList.add('colab-df-spinner');\n",
              "      try {\n",
              "        const charts = await google.colab.kernel.invokeFunction(\n",
              "            'suggestCharts', [key], {});\n",
              "      } catch (error) {\n",
              "        console.error('Error during call to suggestCharts:', error);\n",
              "      }\n",
              "      quickchartButtonEl.classList.remove('colab-df-spinner');\n",
              "      quickchartButtonEl.classList.add('colab-df-quickchart-complete');\n",
              "    }\n",
              "    (() => {\n",
              "      let quickchartButtonEl =\n",
              "        document.querySelector('#df-715f5c3a-ae36-40a5-979f-9b36bc95a50a button');\n",
              "      quickchartButtonEl.style.display =\n",
              "        google.colab.kernel.accessAllowed ? 'block' : 'none';\n",
              "    })();\n",
              "  </script>\n",
              "</div>\n",
              "    </div>\n",
              "  </div>\n"
            ]
          },
          "metadata": {},
          "execution_count": 20
        }
      ]
    },
    {
      "cell_type": "markdown",
      "metadata": {
        "id": "3oLyIb19KcdL"
      },
      "source": [
        "##   **Stage 2**: Data Pre-Processing  (1 Points)\n",
        "\n",
        "####  Clean and Transform the data into a specified format\n"
      ]
    },
    {
      "cell_type": "code",
      "source": [
        "df_train['question_text'] = df_train['question_text'].apply(lambda x:simple_preprocess(x, max_len=30))"
      ],
      "metadata": {
        "id": "p37H-_qW7m7k"
      },
      "execution_count": 21,
      "outputs": []
    },
    {
      "cell_type": "code",
      "source": [
        "df_test['question_text'] = df_test['question_text'].apply(lambda x:simple_preprocess(x, max_len=30))"
      ],
      "metadata": {
        "id": "4KT2DI9jJo5W"
      },
      "execution_count": 22,
      "outputs": []
    },
    {
      "cell_type": "code",
      "source": [
        "df_test.shape"
      ],
      "metadata": {
        "id": "fNxUcXofmjY0",
        "colab": {
          "base_uri": "https://localhost:8080/"
        },
        "outputId": "84a45fee-af4e-478d-f2e4-1247cd7b0412"
      },
      "execution_count": 23,
      "outputs": [
        {
          "output_type": "execute_result",
          "data": {
            "text/plain": [
              "(261221, 2)"
            ]
          },
          "metadata": {},
          "execution_count": 23
        }
      ]
    },
    {
      "cell_type": "code",
      "source": [
        "df_train.tail()"
      ],
      "metadata": {
        "id": "bLFyrOgHJ8uf",
        "colab": {
          "base_uri": "https://localhost:8080/",
          "height": 206
        },
        "outputId": "b07269c4-3da3-4ef0-cd9c-c1b0c7a78baa"
      },
      "execution_count": 24,
      "outputs": [
        {
          "output_type": "execute_result",
          "data": {
            "text/plain": [
              "                          qid  \\\n",
              "1044892  b5d282ea587702905154   \n",
              "1044893  5518b478efd27015c9b8   \n",
              "1044894  bc15c3edb963bdb86b9f   \n",
              "1044895  12877d5f68d2eb841c3f   \n",
              "1044896  0154ac055e234881dfb7   \n",
              "\n",
              "                                             question_text  target  \n",
              "1044892  [what, are, some, good, websites, or, apps, to...       0  \n",
              "1044893  [where, can, one, purchase, large, fireworks, ...       0  \n",
              "1044894        [where, do, study, sat, subject, in, india]       0  \n",
              "1044895  [which, team, in, ipl, has, won, all, the, lea...       0  \n",
              "1044896  [know, you, can, change, your, personality, as...       0  "
            ],
            "text/html": [
              "\n",
              "  <div id=\"df-d3fd5343-83c4-4314-9d8d-3580cce606c2\" class=\"colab-df-container\">\n",
              "    <div>\n",
              "<style scoped>\n",
              "    .dataframe tbody tr th:only-of-type {\n",
              "        vertical-align: middle;\n",
              "    }\n",
              "\n",
              "    .dataframe tbody tr th {\n",
              "        vertical-align: top;\n",
              "    }\n",
              "\n",
              "    .dataframe thead th {\n",
              "        text-align: right;\n",
              "    }\n",
              "</style>\n",
              "<table border=\"1\" class=\"dataframe\">\n",
              "  <thead>\n",
              "    <tr style=\"text-align: right;\">\n",
              "      <th></th>\n",
              "      <th>qid</th>\n",
              "      <th>question_text</th>\n",
              "      <th>target</th>\n",
              "    </tr>\n",
              "  </thead>\n",
              "  <tbody>\n",
              "    <tr>\n",
              "      <th>1044892</th>\n",
              "      <td>b5d282ea587702905154</td>\n",
              "      <td>[what, are, some, good, websites, or, apps, to...</td>\n",
              "      <td>0</td>\n",
              "    </tr>\n",
              "    <tr>\n",
              "      <th>1044893</th>\n",
              "      <td>5518b478efd27015c9b8</td>\n",
              "      <td>[where, can, one, purchase, large, fireworks, ...</td>\n",
              "      <td>0</td>\n",
              "    </tr>\n",
              "    <tr>\n",
              "      <th>1044894</th>\n",
              "      <td>bc15c3edb963bdb86b9f</td>\n",
              "      <td>[where, do, study, sat, subject, in, india]</td>\n",
              "      <td>0</td>\n",
              "    </tr>\n",
              "    <tr>\n",
              "      <th>1044895</th>\n",
              "      <td>12877d5f68d2eb841c3f</td>\n",
              "      <td>[which, team, in, ipl, has, won, all, the, lea...</td>\n",
              "      <td>0</td>\n",
              "    </tr>\n",
              "    <tr>\n",
              "      <th>1044896</th>\n",
              "      <td>0154ac055e234881dfb7</td>\n",
              "      <td>[know, you, can, change, your, personality, as...</td>\n",
              "      <td>0</td>\n",
              "    </tr>\n",
              "  </tbody>\n",
              "</table>\n",
              "</div>\n",
              "    <div class=\"colab-df-buttons\">\n",
              "\n",
              "  <div class=\"colab-df-container\">\n",
              "    <button class=\"colab-df-convert\" onclick=\"convertToInteractive('df-d3fd5343-83c4-4314-9d8d-3580cce606c2')\"\n",
              "            title=\"Convert this dataframe to an interactive table.\"\n",
              "            style=\"display:none;\">\n",
              "\n",
              "  <svg xmlns=\"http://www.w3.org/2000/svg\" height=\"24px\" viewBox=\"0 -960 960 960\">\n",
              "    <path d=\"M120-120v-720h720v720H120Zm60-500h600v-160H180v160Zm220 220h160v-160H400v160Zm0 220h160v-160H400v160ZM180-400h160v-160H180v160Zm440 0h160v-160H620v160ZM180-180h160v-160H180v160Zm440 0h160v-160H620v160Z\"/>\n",
              "  </svg>\n",
              "    </button>\n",
              "\n",
              "  <style>\n",
              "    .colab-df-container {\n",
              "      display:flex;\n",
              "      gap: 12px;\n",
              "    }\n",
              "\n",
              "    .colab-df-convert {\n",
              "      background-color: #E8F0FE;\n",
              "      border: none;\n",
              "      border-radius: 50%;\n",
              "      cursor: pointer;\n",
              "      display: none;\n",
              "      fill: #1967D2;\n",
              "      height: 32px;\n",
              "      padding: 0 0 0 0;\n",
              "      width: 32px;\n",
              "    }\n",
              "\n",
              "    .colab-df-convert:hover {\n",
              "      background-color: #E2EBFA;\n",
              "      box-shadow: 0px 1px 2px rgba(60, 64, 67, 0.3), 0px 1px 3px 1px rgba(60, 64, 67, 0.15);\n",
              "      fill: #174EA6;\n",
              "    }\n",
              "\n",
              "    .colab-df-buttons div {\n",
              "      margin-bottom: 4px;\n",
              "    }\n",
              "\n",
              "    [theme=dark] .colab-df-convert {\n",
              "      background-color: #3B4455;\n",
              "      fill: #D2E3FC;\n",
              "    }\n",
              "\n",
              "    [theme=dark] .colab-df-convert:hover {\n",
              "      background-color: #434B5C;\n",
              "      box-shadow: 0px 1px 3px 1px rgba(0, 0, 0, 0.15);\n",
              "      filter: drop-shadow(0px 1px 2px rgba(0, 0, 0, 0.3));\n",
              "      fill: #FFFFFF;\n",
              "    }\n",
              "  </style>\n",
              "\n",
              "    <script>\n",
              "      const buttonEl =\n",
              "        document.querySelector('#df-d3fd5343-83c4-4314-9d8d-3580cce606c2 button.colab-df-convert');\n",
              "      buttonEl.style.display =\n",
              "        google.colab.kernel.accessAllowed ? 'block' : 'none';\n",
              "\n",
              "      async function convertToInteractive(key) {\n",
              "        const element = document.querySelector('#df-d3fd5343-83c4-4314-9d8d-3580cce606c2');\n",
              "        const dataTable =\n",
              "          await google.colab.kernel.invokeFunction('convertToInteractive',\n",
              "                                                    [key], {});\n",
              "        if (!dataTable) return;\n",
              "\n",
              "        const docLinkHtml = 'Like what you see? Visit the ' +\n",
              "          '<a target=\"_blank\" href=https://colab.research.google.com/notebooks/data_table.ipynb>data table notebook</a>'\n",
              "          + ' to learn more about interactive tables.';\n",
              "        element.innerHTML = '';\n",
              "        dataTable['output_type'] = 'display_data';\n",
              "        await google.colab.output.renderOutput(dataTable, element);\n",
              "        const docLink = document.createElement('div');\n",
              "        docLink.innerHTML = docLinkHtml;\n",
              "        element.appendChild(docLink);\n",
              "      }\n",
              "    </script>\n",
              "  </div>\n",
              "\n",
              "\n",
              "<div id=\"df-5c41eefd-9ee0-4eb8-bffa-460667b6c227\">\n",
              "  <button class=\"colab-df-quickchart\" onclick=\"quickchart('df-5c41eefd-9ee0-4eb8-bffa-460667b6c227')\"\n",
              "            title=\"Suggest charts.\"\n",
              "            style=\"display:none;\">\n",
              "\n",
              "<svg xmlns=\"http://www.w3.org/2000/svg\" height=\"24px\"viewBox=\"0 0 24 24\"\n",
              "     width=\"24px\">\n",
              "    <g>\n",
              "        <path d=\"M19 3H5c-1.1 0-2 .9-2 2v14c0 1.1.9 2 2 2h14c1.1 0 2-.9 2-2V5c0-1.1-.9-2-2-2zM9 17H7v-7h2v7zm4 0h-2V7h2v10zm4 0h-2v-4h2v4z\"/>\n",
              "    </g>\n",
              "</svg>\n",
              "  </button>\n",
              "\n",
              "<style>\n",
              "  .colab-df-quickchart {\n",
              "      --bg-color: #E8F0FE;\n",
              "      --fill-color: #1967D2;\n",
              "      --hover-bg-color: #E2EBFA;\n",
              "      --hover-fill-color: #174EA6;\n",
              "      --disabled-fill-color: #AAA;\n",
              "      --disabled-bg-color: #DDD;\n",
              "  }\n",
              "\n",
              "  [theme=dark] .colab-df-quickchart {\n",
              "      --bg-color: #3B4455;\n",
              "      --fill-color: #D2E3FC;\n",
              "      --hover-bg-color: #434B5C;\n",
              "      --hover-fill-color: #FFFFFF;\n",
              "      --disabled-bg-color: #3B4455;\n",
              "      --disabled-fill-color: #666;\n",
              "  }\n",
              "\n",
              "  .colab-df-quickchart {\n",
              "    background-color: var(--bg-color);\n",
              "    border: none;\n",
              "    border-radius: 50%;\n",
              "    cursor: pointer;\n",
              "    display: none;\n",
              "    fill: var(--fill-color);\n",
              "    height: 32px;\n",
              "    padding: 0;\n",
              "    width: 32px;\n",
              "  }\n",
              "\n",
              "  .colab-df-quickchart:hover {\n",
              "    background-color: var(--hover-bg-color);\n",
              "    box-shadow: 0 1px 2px rgba(60, 64, 67, 0.3), 0 1px 3px 1px rgba(60, 64, 67, 0.15);\n",
              "    fill: var(--button-hover-fill-color);\n",
              "  }\n",
              "\n",
              "  .colab-df-quickchart-complete:disabled,\n",
              "  .colab-df-quickchart-complete:disabled:hover {\n",
              "    background-color: var(--disabled-bg-color);\n",
              "    fill: var(--disabled-fill-color);\n",
              "    box-shadow: none;\n",
              "  }\n",
              "\n",
              "  .colab-df-spinner {\n",
              "    border: 2px solid var(--fill-color);\n",
              "    border-color: transparent;\n",
              "    border-bottom-color: var(--fill-color);\n",
              "    animation:\n",
              "      spin 1s steps(1) infinite;\n",
              "  }\n",
              "\n",
              "  @keyframes spin {\n",
              "    0% {\n",
              "      border-color: transparent;\n",
              "      border-bottom-color: var(--fill-color);\n",
              "      border-left-color: var(--fill-color);\n",
              "    }\n",
              "    20% {\n",
              "      border-color: transparent;\n",
              "      border-left-color: var(--fill-color);\n",
              "      border-top-color: var(--fill-color);\n",
              "    }\n",
              "    30% {\n",
              "      border-color: transparent;\n",
              "      border-left-color: var(--fill-color);\n",
              "      border-top-color: var(--fill-color);\n",
              "      border-right-color: var(--fill-color);\n",
              "    }\n",
              "    40% {\n",
              "      border-color: transparent;\n",
              "      border-right-color: var(--fill-color);\n",
              "      border-top-color: var(--fill-color);\n",
              "    }\n",
              "    60% {\n",
              "      border-color: transparent;\n",
              "      border-right-color: var(--fill-color);\n",
              "    }\n",
              "    80% {\n",
              "      border-color: transparent;\n",
              "      border-right-color: var(--fill-color);\n",
              "      border-bottom-color: var(--fill-color);\n",
              "    }\n",
              "    90% {\n",
              "      border-color: transparent;\n",
              "      border-bottom-color: var(--fill-color);\n",
              "    }\n",
              "  }\n",
              "</style>\n",
              "\n",
              "  <script>\n",
              "    async function quickchart(key) {\n",
              "      const quickchartButtonEl =\n",
              "        document.querySelector('#' + key + ' button');\n",
              "      quickchartButtonEl.disabled = true;  // To prevent multiple clicks.\n",
              "      quickchartButtonEl.classList.add('colab-df-spinner');\n",
              "      try {\n",
              "        const charts = await google.colab.kernel.invokeFunction(\n",
              "            'suggestCharts', [key], {});\n",
              "      } catch (error) {\n",
              "        console.error('Error during call to suggestCharts:', error);\n",
              "      }\n",
              "      quickchartButtonEl.classList.remove('colab-df-spinner');\n",
              "      quickchartButtonEl.classList.add('colab-df-quickchart-complete');\n",
              "    }\n",
              "    (() => {\n",
              "      let quickchartButtonEl =\n",
              "        document.querySelector('#df-5c41eefd-9ee0-4eb8-bffa-460667b6c227 button');\n",
              "      quickchartButtonEl.style.display =\n",
              "        google.colab.kernel.accessAllowed ? 'block' : 'none';\n",
              "    })();\n",
              "  </script>\n",
              "</div>\n",
              "    </div>\n",
              "  </div>\n"
            ]
          },
          "metadata": {},
          "execution_count": 24
        }
      ]
    },
    {
      "cell_type": "code",
      "source": [
        "# Remove stop words\n",
        "stop_words = set(stopwords.words('english'))\n",
        "\n",
        "df_train['question_text'] = df_train['question_text'].apply(lambda x: [w for w in x if not w in stop_words])\n",
        "df_test['question_text'] = df_test['question_text'].apply(lambda x: [w for w in x if not w in stop_words])"
      ],
      "metadata": {
        "id": "4auee0HoKWGT"
      },
      "execution_count": 25,
      "outputs": []
    },
    {
      "cell_type": "code",
      "source": [
        "# checking the max word count\n",
        "tmp_list= [len(i) for i in df_train['question_text']]\n",
        "print(max(tmp_list))"
      ],
      "metadata": {
        "id": "U054XFzTSXlc",
        "colab": {
          "base_uri": "https://localhost:8080/"
        },
        "outputId": "fa7f211f-33d2-41ff-af00-4069495e5ab8"
      },
      "execution_count": 26,
      "outputs": [
        {
          "output_type": "stream",
          "name": "stdout",
          "text": [
            "81\n"
          ]
        }
      ]
    },
    {
      "cell_type": "code",
      "source": [
        "plt.hist(tmp_list)\n",
        "plt.show()"
      ],
      "metadata": {
        "id": "aV0vKAfCXQ2S",
        "colab": {
          "base_uri": "https://localhost:8080/",
          "height": 430
        },
        "outputId": "696250d1-d495-4e67-a788-fba745e07b47"
      },
      "execution_count": 27,
      "outputs": [
        {
          "output_type": "display_data",
          "data": {
            "text/plain": [
              "<Figure size 640x480 with 1 Axes>"
            ],
            "image/png": "[encoded data removed]"
          },
          "metadata": {}
        }
      ]
    },
    {
      "cell_type": "code",
      "source": [
        "plt.boxplot(tmp_list)\n",
        "plt.show()"
      ],
      "metadata": {
        "id": "4dSTwTkHX1GQ",
        "colab": {
          "base_uri": "https://localhost:8080/",
          "height": 430
        },
        "outputId": "ef26a76d-2b43-4e59-adcd-ce30a89e2390"
      },
      "execution_count": 28,
      "outputs": [
        {
          "output_type": "display_data",
          "data": {
            "text/plain": [
              "<Figure size 640x480 with 1 Axes>"
            ],
            "image/png": "[encoded data removed]"
          },
          "metadata": {}
        }
      ]
    },
    {
      "cell_type": "markdown",
      "source": [
        "The maximum length of a question_text is 81. Looking at the box plot, a max seq length of 40 would sufficiently cover all the questions. let's select 40 as our max token count per question_text"
      ],
      "metadata": {
        "id": "SoY_iKZHTgSh"
      }
    },
    {
      "cell_type": "markdown",
      "metadata": {
        "id": "1jZg7yL2TtTM"
      },
      "source": [
        "##   **Stage 3**: Build the Word Embeddings using pretrained Word2vec/Glove (Text Representation) (1 Point)\n",
        "\n"
      ]
    },
    {
      "cell_type": "code",
      "source": [
        "# Hyperparameters\n",
        "MAX_SENT_LEN = 40   # Number of words to consider from each question_text\n",
        "MAX_VOCAB_SIZE = 165000   # Max vocabulary size\n",
        "BATCH_SIZE = 128\n",
        "N_EPOCHS = 15"
      ],
      "metadata": {
        "id": "Uj1wOXcF7eB9"
      },
      "execution_count": 29,
      "outputs": []
    },
    {
      "cell_type": "markdown",
      "source": [
        "Let's do padding to maintain a consistent input length"
      ],
      "metadata": {
        "id": "ewI0sUHdUl0E"
      }
    },
    {
      "cell_type": "code",
      "source": [
        "tokenizer = Tokenizer(num_words=MAX_VOCAB_SIZE)\n",
        "tokenizer.fit_on_texts([' '.join(seq[:MAX_SENT_LEN]) for seq in df_train['question_text']])\n",
        "\n",
        "print(\"Number of words in vocabulary:\", len(tokenizer.word_index))"
      ],
      "metadata": {
        "id": "_9rTpuiwSy0S",
        "colab": {
          "base_uri": "https://localhost:8080/"
        },
        "outputId": "085fde93-59ed-4d79-dfd4-cd535c81f058"
      },
      "execution_count": 30,
      "outputs": [
        {
          "output_type": "stream",
          "name": "stdout",
          "text": [
            "Number of words in vocabulary: 160953\n"
          ]
        }
      ]
    },
    {
      "cell_type": "code",
      "source": [
        "# Convert the sequence of words to sequnce of indices\n",
        "X = tokenizer.texts_to_sequences([' '.join(seq[:MAX_SENT_LEN]) for seq in df_train['question_text']])\n",
        "X = pad_sequences(X, maxlen=MAX_SENT_LEN, padding='post', truncating='post')\n",
        "\n",
        "y = df_train['target']"
      ],
      "metadata": {
        "id": "26z7HC8uV_-l"
      },
      "execution_count": 31,
      "outputs": []
    },
    {
      "cell_type": "code",
      "source": [
        "#deleting dataframes to save RAM\n",
        "del df_train"
      ],
      "metadata": {
        "id": "QR0ge6iX_wlH"
      },
      "execution_count": 32,
      "outputs": []
    },
    {
      "cell_type": "code",
      "source": [
        "len(X[0])"
      ],
      "metadata": {
        "id": "njF4JjP5W0qO",
        "colab": {
          "base_uri": "https://localhost:8080/"
        },
        "outputId": "8adcdad5-bcf8-4cfd-abab-f84884261537"
      },
      "execution_count": 33,
      "outputs": [
        {
          "output_type": "execute_result",
          "data": {
            "text/plain": [
              "40"
            ]
          },
          "metadata": {},
          "execution_count": 33
        }
      ]
    },
    {
      "cell_type": "code",
      "source": [
        "print(X)"
      ],
      "metadata": {
        "id": "dYiqpDGjWlTy",
        "colab": {
          "base_uri": "https://localhost:8080/"
        },
        "outputId": "24d33c2d-0599-4c73-8ce6-b3dc9a1ba0c5"
      },
      "execution_count": 34,
      "outputs": [
        {
          "output_type": "stream",
          "name": "stdout",
          "text": [
            "[[  518  1282 78664 ...     0     0     0]\n",
            " [   32  1497  4822 ...     0     0     0]\n",
            " [  565  6959   246 ...     0     0     0]\n",
            " ...\n",
            " [   90  1463   656 ...     0     0     0]\n",
            " [  490  2629  1244 ...     0     0     0]\n",
            " [   18    76   664 ...     0     0     0]]\n"
          ]
        }
      ]
    },
    {
      "cell_type": "code",
      "source": [
        "print(y)"
      ],
      "metadata": {
        "id": "04ytteGCWrte",
        "colab": {
          "base_uri": "https://localhost:8080/"
        },
        "outputId": "c119d6f2-eec5-4a24-a6de-fbc86d5209bb"
      },
      "execution_count": 35,
      "outputs": [
        {
          "output_type": "stream",
          "name": "stdout",
          "text": [
            "0          0\n",
            "1          0\n",
            "2          0\n",
            "3          0\n",
            "4          0\n",
            "          ..\n",
            "1044892    0\n",
            "1044893    0\n",
            "1044894    0\n",
            "1044895    0\n",
            "1044896    0\n",
            "Name: target, Length: 1044897, dtype: int64\n"
          ]
        }
      ]
    },
    {
      "cell_type": "markdown",
      "source": [
        "Splitting the train data into train test split"
      ],
      "metadata": {
        "id": "I-3GCGqqYplh"
      }
    },
    {
      "cell_type": "code",
      "source": [
        "from sklearn.model_selection import train_test_split\n",
        "\n",
        "X_train, X_test, y_train, y_test = train_test_split(X, y, stratify=y, random_state=42, train_size=0.9)"
      ],
      "metadata": {
        "id": "4f-TNq6MYpSV"
      },
      "execution_count": 36,
      "outputs": []
    },
    {
      "cell_type": "code",
      "source": [
        "X_train.shape, X_test.shape, y_train.shape, y_test.shape"
      ],
      "metadata": {
        "id": "UEKcClSZZYrQ",
        "colab": {
          "base_uri": "https://localhost:8080/"
        },
        "outputId": "28d408cf-10d4-44dc-b6fb-1ff6638e0837"
      },
      "execution_count": 37,
      "outputs": [
        {
          "output_type": "execute_result",
          "data": {
            "text/plain": [
              "((940407, 40), (104490, 40), (940407,), (104490,))"
            ]
          },
          "metadata": {},
          "execution_count": 37
        }
      ]
    },
    {
      "cell_type": "code",
      "source": [
        "del X"
      ],
      "metadata": {
        "id": "kVajE7OZAHHj"
      },
      "execution_count": 38,
      "outputs": []
    },
    {
      "cell_type": "markdown",
      "source": [
        "Let's load the 300 dimensional GloVe embedding"
      ],
      "metadata": {
        "id": "rpcoOOD-Zukw"
      }
    },
    {
      "cell_type": "code",
      "source": [
        "#!wget https://nlp.stanford.edu/data/glove.840B.300d.zip\n",
        "#!wget https://nlp.stanford.edu/data/glove.6B.zip"
      ],
      "metadata": {
        "id": "bWPI8Npyt4X6"
      },
      "execution_count": 39,
      "outputs": []
    },
    {
      "cell_type": "code",
      "source": [
        "#!unzip glove*.zip"
      ],
      "metadata": {
        "id": "HgY5n03NuRXq"
      },
      "execution_count": 40,
      "outputs": []
    },
    {
      "cell_type": "code",
      "source": [
        "'''import zipfile\n",
        "zip_ref = zipfile.ZipFile('/content/glove.6B.zip', 'r')\n",
        "zip_ref.extractall('/content/drive/MyDrive/colab_data_files')\n",
        "zip_ref.close()'''"
      ],
      "metadata": {
        "id": "u_kdqtfxwOTs",
        "colab": {
          "base_uri": "https://localhost:8080/",
          "height": 53
        },
        "outputId": "8999ef81-caee-420e-919c-a081ba8e4db5"
      },
      "execution_count": 42,
      "outputs": [
        {
          "output_type": "execute_result",
          "data": {
            "text/plain": [
              "\"import zipfile\\nzip_ref = zipfile.ZipFile('/content/glove.6B.zip', 'r')\\nzip_ref.extractall('/content/drive/MyDrive/colab_data_files')\\nzip_ref.close()\""
            ],
            "application/vnd.google.colaboratory.intrinsic+json": {
              "type": "string"
            }
          },
          "metadata": {},
          "execution_count": 42
        }
      ]
    },
    {
      "cell_type": "code",
      "source": [
        "'''\n",
        "embeddings_index = {}\n",
        "# Loading the 300-dimensional vector of the model\n",
        "f = open('/content/drive/MyDrive/colab_data_files/glove.6B.300d.txt')\n",
        "count=0\n",
        "for line in f:\n",
        "  try:\n",
        "    #print(line)\n",
        "    print(count)\n",
        "    values = line.split()\n",
        "    word = values[0]\n",
        "    coefs = np.asarray(values[1:], dtype='float32')\n",
        "    embeddings_index[word] = coefs\n",
        "  except:\n",
        "    pass\n",
        "  count+=1\n",
        "f.close()\n",
        "\n",
        "print('Found %s word vectors.' % len(embeddings_index))\n",
        "'''"
      ],
      "metadata": {
        "id": "_THzeSsRZtrc",
        "colab": {
          "base_uri": "https://localhost:8080/",
          "height": 88
        },
        "outputId": "e7683b10-9108-4e67-fd4d-66f5ba625a50"
      },
      "execution_count": 43,
      "outputs": [
        {
          "output_type": "execute_result",
          "data": {
            "text/plain": [
              "\"\\nembeddings_index = {}\\n# Loading the 300-dimensional vector of the model\\nf = open('/content/drive/MyDrive/colab_data_files/glove.6B.300d.txt')\\ncount=0\\nfor line in f:\\n  try:\\n    #print(line)\\n    print(count)\\n    values = line.split()\\n    word = values[0]\\n    coefs = np.asarray(values[1:], dtype='float32')\\n    embeddings_index[word] = coefs\\n  except:\\n    pass\\n  count+=1\\nf.close()\\n\\nprint('Found %s word vectors.' % len(embeddings_index))\\n\""
            ],
            "application/vnd.google.colaboratory.intrinsic+json": {
              "type": "string"
            }
          },
          "metadata": {},
          "execution_count": 43
        }
      ]
    },
    {
      "cell_type": "code",
      "source": [
        "import pickle\n",
        "'''\n",
        "pickle.dump({'embeddings_index' : embeddings_index } , open('/content/drive/MyDrive/colab_data_files/glove_embeddings_unpacked.pkl', 'wb'))\n",
        "'''"
      ],
      "metadata": {
        "id": "_X3qZR2iZtlt",
        "colab": {
          "base_uri": "https://localhost:8080/",
          "height": 53
        },
        "outputId": "d3f4a317-305d-4740-c30e-3dfa75f370d2"
      },
      "execution_count": 44,
      "outputs": [
        {
          "output_type": "execute_result",
          "data": {
            "text/plain": [
              "\"\\npickle.dump({'embeddings_index' : embeddings_index } , open('/content/drive/MyDrive/colab_data_files/glove_embeddings_unpacked.pkl', 'wb'))\\n\""
            ],
            "application/vnd.google.colaboratory.intrinsic+json": {
              "type": "string"
            }
          },
          "metadata": {},
          "execution_count": 44
        }
      ]
    },
    {
      "cell_type": "markdown",
      "source": [
        "Loading the embedding dictionary already stored as a pickle file. The key Will be a word and values are the embedded vectors as a python arra"
      ],
      "metadata": {
        "id": "JBG5GMedP9y6"
      }
    },
    {
      "cell_type": "code",
      "source": [
        "file_to_read = open(\"/content/drive/MyDrive/colab_data_files/glove_embeddings_unpacked_6b_300d.pkl\", \"rb\")\n",
        "\n",
        "loaded_dict = pickle.load(file_to_read)"
      ],
      "metadata": {
        "id": "P4ZagocKZtaU"
      },
      "execution_count": 45,
      "outputs": []
    },
    {
      "cell_type": "code",
      "source": [
        "type(loaded_dict)"
      ],
      "metadata": {
        "id": "O9VdQ6SLV8K_",
        "colab": {
          "base_uri": "https://localhost:8080/"
        },
        "outputId": "1e0f6bdc-ea76-406c-e5af-fc315db83186"
      },
      "execution_count": 46,
      "outputs": [
        {
          "output_type": "execute_result",
          "data": {
            "text/plain": [
              "dict"
            ]
          },
          "metadata": {},
          "execution_count": 46
        }
      ]
    },
    {
      "cell_type": "code",
      "source": [
        "embeddings_index=loaded_dict['embeddings_index']"
      ],
      "metadata": {
        "id": "sjSIHFt7WJcA"
      },
      "execution_count": 47,
      "outputs": []
    },
    {
      "cell_type": "code",
      "source": [
        "len(embeddings_index)"
      ],
      "metadata": {
        "id": "TsFRylevWzwe",
        "colab": {
          "base_uri": "https://localhost:8080/"
        },
        "outputId": "3841ce99-2f25-4655-ff1b-4ad33b2d44f1"
      },
      "execution_count": 48,
      "outputs": [
        {
          "output_type": "execute_result",
          "data": {
            "text/plain": [
              "400000"
            ]
          },
          "metadata": {},
          "execution_count": 48
        }
      ]
    },
    {
      "cell_type": "code",
      "source": [
        "tokenizer"
      ],
      "metadata": {
        "id": "1ubOaQH9RAWY",
        "colab": {
          "base_uri": "https://localhost:8080/"
        },
        "outputId": "57103d04-7a76-4222-a7b3-da22e0ec9aec"
      },
      "execution_count": 49,
      "outputs": [
        {
          "output_type": "execute_result",
          "data": {
            "text/plain": [
              "<keras.src.preprocessing.text.Tokenizer at 0x7c5a0f4b17b0>"
            ]
          },
          "metadata": {},
          "execution_count": 49
        }
      ]
    },
    {
      "cell_type": "code",
      "source": [
        "tokenizer.word_index"
      ],
      "metadata": {
        "id": "zxwrmhfLUbsI",
        "colab": {
          "base_uri": "https://localhost:8080/"
        },
        "outputId": "3ad1bca8-76d4-4472-8102-9599f94566d5"
      },
      "execution_count": 50,
      "outputs": [
        {
          "output_type": "execute_result",
          "data": {
            "text/plain": [
              "{'get': 1,\n",
              " 'best': 2,\n",
              " 'would': 3,\n",
              " 'people': 4,\n",
              " 'like': 5,\n",
              " 'good': 6,\n",
              " 'one': 7,\n",
              " 'india': 8,\n",
              " 'make': 9,\n",
              " 'think': 10,\n",
              " 'many': 11,\n",
              " 'time': 12,\n",
              " 'much': 13,\n",
              " 'life': 14,\n",
              " 'someone': 15,\n",
              " 'use': 16,\n",
              " 'way': 17,\n",
              " 'know': 18,\n",
              " 'work': 19,\n",
              " 'want': 20,\n",
              " 'take': 21,\n",
              " 'ever': 22,\n",
              " 'find': 23,\n",
              " 'us': 24,\n",
              " 'world': 25,\n",
              " 'become': 26,\n",
              " 'person': 27,\n",
              " 'without': 28,\n",
              " 'could': 29,\n",
              " 'feel': 30,\n",
              " 'year': 31,\n",
              " 'better': 32,\n",
              " 'quora': 33,\n",
              " 'go': 34,\n",
              " 'trump': 35,\n",
              " 'new': 36,\n",
              " 'possible': 37,\n",
              " 'job': 38,\n",
              " 'years': 39,\n",
              " 'indian': 40,\n",
              " 'mean': 41,\n",
              " 'women': 42,\n",
              " 'used': 43,\n",
              " 'need': 44,\n",
              " 'start': 45,\n",
              " 'first': 46,\n",
              " 'money': 47,\n",
              " 'difference': 48,\n",
              " 'still': 49,\n",
              " 'different': 50,\n",
              " 'country': 51,\n",
              " 'school': 52,\n",
              " 'long': 53,\n",
              " 'really': 54,\n",
              " 'old': 55,\n",
              " 'learn': 56,\n",
              " 'business': 57,\n",
              " 'love': 58,\n",
              " 'college': 59,\n",
              " 'things': 60,\n",
              " 'even': 61,\n",
              " 'engineering': 62,\n",
              " 'give': 63,\n",
              " 'help': 64,\n",
              " 'day': 65,\n",
              " 'online': 66,\n",
              " 'say': 67,\n",
              " 'men': 68,\n",
              " 'see': 69,\n",
              " 'bad': 70,\n",
              " 'book': 71,\n",
              " 'using': 72,\n",
              " 'university': 73,\n",
              " 'back': 74,\n",
              " 'company': 75,\n",
              " 'change': 76,\n",
              " 'high': 77,\n",
              " 'anyone': 78,\n",
              " 'made': 79,\n",
              " 'sex': 80,\n",
              " 'stop': 81,\n",
              " 'girl': 82,\n",
              " 'right': 83,\n",
              " 'getting': 84,\n",
              " 'live': 85,\n",
              " 'student': 86,\n",
              " 'buy': 87,\n",
              " 'two': 88,\n",
              " 'thing': 89,\n",
              " 'study': 90,\n",
              " 'happen': 91,\n",
              " 'science': 92,\n",
              " 'going': 93,\n",
              " 'name': 94,\n",
              " 'th': 95,\n",
              " 'white': 96,\n",
              " 'countries': 97,\n",
              " 'china': 98,\n",
              " 'something': 99,\n",
              " 'free': 100,\n",
              " 'real': 101,\n",
              " 'english': 102,\n",
              " 'black': 103,\n",
              " 'look': 104,\n",
              " 'true': 105,\n",
              " 'questions': 106,\n",
              " 'american': 107,\n",
              " 'come': 108,\n",
              " 'experience': 109,\n",
              " 'man': 110,\n",
              " 'system': 111,\n",
              " 'class': 112,\n",
              " 'government': 113,\n",
              " 'number': 114,\n",
              " 'students': 115,\n",
              " 'water': 116,\n",
              " 'important': 117,\n",
              " 'ways': 118,\n",
              " 'language': 119,\n",
              " 'books': 120,\n",
              " 'state': 121,\n",
              " 'tell': 122,\n",
              " 'computer': 123,\n",
              " 'war': 124,\n",
              " 'keep': 125,\n",
              " 'never': 126,\n",
              " 'friend': 127,\n",
              " 'human': 128,\n",
              " 'girls': 129,\n",
              " 'always': 130,\n",
              " 'social': 131,\n",
              " 'every': 132,\n",
              " 'home': 133,\n",
              " 'career': 134,\n",
              " 'non': 135,\n",
              " 'data': 136,\n",
              " 'chinese': 137,\n",
              " 'relationship': 138,\n",
              " 'place': 139,\n",
              " 'friends': 140,\n",
              " 'america': 141,\n",
              " 'write': 142,\n",
              " 'software': 143,\n",
              " 'future': 144,\n",
              " 'done': 145,\n",
              " 'phone': 146,\n",
              " 'working': 147,\n",
              " 'account': 148,\n",
              " 'exam': 149,\n",
              " 'parents': 150,\n",
              " 'learning': 151,\n",
              " 'family': 152,\n",
              " 'guy': 153,\n",
              " 'website': 154,\n",
              " 'food': 155,\n",
              " 'another': 156,\n",
              " 'app': 157,\n",
              " 'top': 158,\n",
              " 'got': 159,\n",
              " 'age': 160,\n",
              " 'google': 161,\n",
              " 'around': 162,\n",
              " 'car': 163,\n",
              " 'believe': 164,\n",
              " 'usa': 165,\n",
              " 'read': 166,\n",
              " 'states': 167,\n",
              " 'days': 168,\n",
              " 'course': 169,\n",
              " 'kind': 170,\n",
              " 'big': 171,\n",
              " 'happens': 172,\n",
              " 'wrong': 173,\n",
              " 'power': 174,\n",
              " 'companies': 175,\n",
              " 'able': 176,\n",
              " 'body': 177,\n",
              " 'makes': 178,\n",
              " 'show': 179,\n",
              " 'major': 180,\n",
              " 'americans': 181,\n",
              " 'hard': 182,\n",
              " 'movie': 183,\n",
              " 'history': 184,\n",
              " 'today': 185,\n",
              " 'question': 186,\n",
              " 'god': 187,\n",
              " 'canada': 188,\n",
              " 'also': 189,\n",
              " 'well': 190,\n",
              " 'woman': 191,\n",
              " 'hate': 192,\n",
              " 'ask': 193,\n",
              " 'less': 194,\n",
              " 'last': 195,\n",
              " 'living': 196,\n",
              " 'muslims': 197,\n",
              " 'cost': 198,\n",
              " 'child': 199,\n",
              " 'jee': 200,\n",
              " 'president': 201,\n",
              " 'degree': 202,\n",
              " 'test': 203,\n",
              " 'type': 204,\n",
              " 'facebook': 205,\n",
              " 'earth': 206,\n",
              " 'considered': 207,\n",
              " 'children': 208,\n",
              " 'since': 209,\n",
              " 'normal': 210,\n",
              " 'create': 211,\n",
              " 'pay': 212,\n",
              " 'play': 213,\n",
              " 'media': 214,\n",
              " 'part': 215,\n",
              " 'examples': 216,\n",
              " 'instead': 217,\n",
              " 'end': 218,\n",
              " 'rank': 219,\n",
              " 'great': 220,\n",
              " 'market': 221,\n",
              " 'prepare': 222,\n",
              " 'common': 223,\n",
              " 'answer': 224,\n",
              " 'process': 225,\n",
              " 'actually': 226,\n",
              " 'united': 227,\n",
              " 'law': 228,\n",
              " 'given': 229,\n",
              " 'marks': 230,\n",
              " 'house': 231,\n",
              " 'eat': 232,\n",
              " 'known': 233,\n",
              " 'tv': 234,\n",
              " 'win': 235,\n",
              " 'anything': 236,\n",
              " 'choose': 237,\n",
              " 'average': 238,\n",
              " 'jobs': 239,\n",
              " 'medical': 240,\n",
              " 'game': 241,\n",
              " 'next': 242,\n",
              " 'making': 243,\n",
              " 'music': 244,\n",
              " 'call': 245,\n",
              " 'writing': 246,\n",
              " 'current': 247,\n",
              " 'score': 248,\n",
              " 'cause': 249,\n",
              " 'order': 250,\n",
              " 'apply': 251,\n",
              " 'affect': 252,\n",
              " 'video': 253,\n",
              " 'math': 254,\n",
              " 'north': 255,\n",
              " 'small': 256,\n",
              " 'indians': 257,\n",
              " 'support': 258,\n",
              " 'service': 259,\n",
              " 'reason': 260,\n",
              " 'deal': 261,\n",
              " 'join': 262,\n",
              " 'main': 263,\n",
              " 'self': 264,\n",
              " 'causes': 265,\n",
              " 'uk': 266,\n",
              " 'left': 267,\n",
              " 'worth': 268,\n",
              " 'called': 269,\n",
              " 'form': 270,\n",
              " 'bank': 271,\n",
              " 'south': 272,\n",
              " 'tips': 273,\n",
              " 'pakistan': 274,\n",
              " 'point': 275,\n",
              " 'put': 276,\n",
              " 'delhi': 277,\n",
              " 'face': 278,\n",
              " 'engineer': 279,\n",
              " 'based': 280,\n",
              " 'public': 281,\n",
              " 'word': 282,\n",
              " 'etc': 283,\n",
              " 'iit': 284,\n",
              " 'months': 285,\n",
              " 'muslim': 286,\n",
              " 'card': 287,\n",
              " 'technology': 288,\n",
              " 'marketing': 289,\n",
              " 'energy': 290,\n",
              " 'open': 291,\n",
              " 'hair': 292,\n",
              " 'improve': 293,\n",
              " 'others': 294,\n",
              " 'value': 295,\n",
              " 'travel': 296,\n",
              " 'management': 297,\n",
              " 'research': 298,\n",
              " 'taking': 299,\n",
              " 'light': 300,\n",
              " 'date': 301,\n",
              " 'control': 302,\n",
              " 'move': 303,\n",
              " 'level': 304,\n",
              " 'design': 305,\n",
              " 'meaning': 306,\n",
              " 'times': 307,\n",
              " 'problem': 308,\n",
              " 'full': 309,\n",
              " 'development': 310,\n",
              " 'lot': 311,\n",
              " 'safe': 312,\n",
              " 'care': 313,\n",
              " 'health': 314,\n",
              " 'away': 315,\n",
              " 'found': 316,\n",
              " 'education': 317,\n",
              " 'single': 318,\n",
              " 'city': 319,\n",
              " 'idea': 320,\n",
              " 'program': 321,\n",
              " 'series': 322,\n",
              " 'air': 323,\n",
              " 'term': 324,\n",
              " 'general': 325,\n",
              " 'low': 326,\n",
              " 'physics': 327,\n",
              " 'donald': 328,\n",
              " 'space': 329,\n",
              " 'field': 330,\n",
              " 'understand': 331,\n",
              " 'stay': 332,\n",
              " 'enough': 333,\n",
              " 'android': 334,\n",
              " 'talk': 335,\n",
              " 'month': 336,\n",
              " 'mba': 337,\n",
              " 'international': 338,\n",
              " 'weight': 339,\n",
              " 'everyone': 340,\n",
              " 'required': 341,\n",
              " 'increase': 342,\n",
              " 'political': 343,\n",
              " 'popular': 344,\n",
              " 'problems': 345,\n",
              " 'movies': 346,\n",
              " 'youtube': 347,\n",
              " 'humans': 348,\n",
              " 'programming': 349,\n",
              " 'dog': 350,\n",
              " 'behind': 351,\n",
              " 'build': 352,\n",
              " 'boyfriend': 353,\n",
              " 'group': 354,\n",
              " 'legal': 355,\n",
              " 'post': 356,\n",
              " 'happened': 357,\n",
              " 'favorite': 358,\n",
              " 'benefits': 359,\n",
              " 'salary': 360,\n",
              " 'military': 361,\n",
              " 'available': 362,\n",
              " 'run': 363,\n",
              " 'mobile': 364,\n",
              " 'death': 365,\n",
              " 'said': 366,\n",
              " 'girlfriend': 367,\n",
              " 'mind': 368,\n",
              " 'society': 369,\n",
              " 'short': 370,\n",
              " 'female': 371,\n",
              " 'story': 372,\n",
              " 'often': 373,\n",
              " 'looking': 374,\n",
              " 'russia': 375,\n",
              " 'civil': 376,\n",
              " 'ex': 377,\n",
              " 'wear': 378,\n",
              " 'culture': 379,\n",
              " 'kill': 380,\n",
              " 'europe': 381,\n",
              " 'visa': 382,\n",
              " 'successful': 383,\n",
              " 'let': 384,\n",
              " 'germany': 385,\n",
              " 'religion': 386,\n",
              " 'leave': 387,\n",
              " 'party': 388,\n",
              " 'purpose': 389,\n",
              " 'else': 390,\n",
              " 'side': 391,\n",
              " 'related': 392,\n",
              " 'role': 393,\n",
              " 'per': 394,\n",
              " 'mass': 395,\n",
              " 'kids': 396,\n",
              " 'web': 397,\n",
              " 'information': 398,\n",
              " 'cat': 399,\n",
              " 'due': 400,\n",
              " 'male': 401,\n",
              " 'internet': 402,\n",
              " 'answers': 403,\n",
              " 'tech': 404,\n",
              " 'skills': 405,\n",
              " 'starting': 406,\n",
              " 'force': 407,\n",
              " 'past': 408,\n",
              " 'speed': 409,\n",
              " 'die': 410,\n",
              " 'british': 411,\n",
              " 'mechanical': 412,\n",
              " 'admission': 413,\n",
              " 'try': 414,\n",
              " 'product': 415,\n",
              " 'consider': 416,\n",
              " 'watch': 417,\n",
              " 'guys': 418,\n",
              " 'colleges': 419,\n",
              " 'industry': 420,\n",
              " 'korea': 421,\n",
              " 'seen': 422,\n",
              " 'similar': 423,\n",
              " 'opinion': 424,\n",
              " 'site': 425,\n",
              " 'modern': 426,\n",
              " 'pain': 427,\n",
              " 'lose': 428,\n",
              " 'everything': 429,\n",
              " 'gay': 430,\n",
              " 'studying': 431,\n",
              " 'training': 432,\n",
              " 'types': 433,\n",
              " 'fight': 434,\n",
              " 'advice': 435,\n",
              " 'games': 436,\n",
              " 'earn': 437,\n",
              " 'sell': 438,\n",
              " 'australia': 439,\n",
              " 'effective': 440,\n",
              " 'share': 441,\n",
              " 'exist': 442,\n",
              " 'though': 443,\n",
              " 'services': 444,\n",
              " 'interview': 445,\n",
              " 'second': 446,\n",
              " 'application': 447,\n",
              " 'mother': 448,\n",
              " 'night': 449,\n",
              " 'allowed': 450,\n",
              " 'personal': 451,\n",
              " 'project': 452,\n",
              " 'blood': 453,\n",
              " 'paper': 454,\n",
              " 'tax': 455,\n",
              " 'rate': 456,\n",
              " 'foreign': 457,\n",
              " 'machine': 458,\n",
              " 'brain': 459,\n",
              " 'area': 460,\n",
              " 'set': 461,\n",
              " 'famous': 462,\n",
              " 'rather': 463,\n",
              " 'bangalore': 464,\n",
              " 'courses': 465,\n",
              " 'police': 466,\n",
              " 'terms': 467,\n",
              " 'private': 468,\n",
              " 'period': 469,\n",
              " 'code': 470,\n",
              " 'case': 471,\n",
              " 'already': 472,\n",
              " 'marriage': 473,\n",
              " 'difficult': 474,\n",
              " 'compared': 475,\n",
              " 'trying': 476,\n",
              " 'mumbai': 477,\n",
              " 'explain': 478,\n",
              " 'easy': 479,\n",
              " 'liberals': 480,\n",
              " 'effect': 481,\n",
              " 'act': 482,\n",
              " 'worst': 483,\n",
              " 'says': 484,\n",
              " 'song': 485,\n",
              " 'amount': 486,\n",
              " 'price': 487,\n",
              " 'quality': 488,\n",
              " 'hours': 489,\n",
              " 'team': 490,\n",
              " 'skin': 491,\n",
              " 'news': 492,\n",
              " 'neet': 493,\n",
              " 'daily': 494,\n",
              " 'plan': 495,\n",
              " 'middle': 496,\n",
              " 'universe': 497,\n",
              " 'married': 498,\n",
              " 'wife': 499,\n",
              " 'treat': 500,\n",
              " 'amazon': 501,\n",
              " 'words': 502,\n",
              " 'useful': 503,\n",
              " 'wants': 504,\n",
              " 'function': 505,\n",
              " 'prevent': 506,\n",
              " 'japanese': 507,\n",
              " 'asked': 508,\n",
              " 'biggest': 509,\n",
              " 'towards': 510,\n",
              " 'example': 511,\n",
              " 'products': 512,\n",
              " 'places': 513,\n",
              " 'follow': 514,\n",
              " 'young': 515,\n",
              " 'institute': 516,\n",
              " 'happy': 517,\n",
              " 'cse': 518,\n",
              " 'star': 519,\n",
              " 'knowledge': 520,\n",
              " 'national': 521,\n",
              " 'model': 522,\n",
              " 'iphone': 523,\n",
              " 'theory': 524,\n",
              " 'seem': 525,\n",
              " 'sleep': 526,\n",
              " 'ideas': 527,\n",
              " 'turn': 528,\n",
              " 'visit': 529,\n",
              " 'rid': 530,\n",
              " 'lost': 531,\n",
              " 'describe': 532,\n",
              " 'yet': 533,\n",
              " 'may': 534,\n",
              " 'offer': 535,\n",
              " 'three': 536,\n",
              " 'invest': 537,\n",
              " 'israel': 538,\n",
              " 'coaching': 539,\n",
              " 'taken': 540,\n",
              " 'correct': 541,\n",
              " 'started': 542,\n",
              " 'modi': 543,\n",
              " 'view': 544,\n",
              " 'animals': 545,\n",
              " 'list': 546,\n",
              " 'red': 547,\n",
              " 'vs': 548,\n",
              " 'islam': 549,\n",
              " 'stock': 550,\n",
              " 'gun': 551,\n",
              " 'download': 552,\n",
              " 'oil': 553,\n",
              " 'japan': 554,\n",
              " 'avoid': 555,\n",
              " 'instagram': 556,\n",
              " 'effects': 557,\n",
              " 'matter': 558,\n",
              " 'okay': 559,\n",
              " 'week': 560,\n",
              " 'line': 561,\n",
              " 'com': 562,\n",
              " 'far': 563,\n",
              " 'thinking': 564,\n",
              " 'character': 565,\n",
              " 'negative': 566,\n",
              " 'differences': 567,\n",
              " 'father': 568,\n",
              " 'expect': 569,\n",
              " 'sound': 570,\n",
              " 'security': 571,\n",
              " 'necessary': 572,\n",
              " 'fast': 573,\n",
              " 'laptop': 574,\n",
              " 'natural': 575,\n",
              " 'exams': 576,\n",
              " 'eating': 577,\n",
              " 'jews': 578,\n",
              " 'develop': 579,\n",
              " 'little': 580,\n",
              " 'must': 581,\n",
              " 'chance': 582,\n",
              " 'provide': 583,\n",
              " 'anti': 584,\n",
              " 'add': 585,\n",
              " 'likely': 586,\n",
              " 'sexual': 587,\n",
              " 'st': 588,\n",
              " 'facts': 589,\n",
              " 'professional': 590,\n",
              " 'grow': 591,\n",
              " 'present': 592,\n",
              " 'chemical': 593,\n",
              " 'remove': 594,\n",
              " 'accept': 595,\n",
              " 'send': 596,\n",
              " 'board': 597,\n",
              " 'reading': 598,\n",
              " 'depression': 599,\n",
              " 'european': 600,\n",
              " 'feeling': 601,\n",
              " 'size': 602,\n",
              " 'reasons': 603,\n",
              " 'dream': 604,\n",
              " 'large': 605,\n",
              " 'army': 606,\n",
              " 'schools': 607,\n",
              " 'cut': 608,\n",
              " 'chances': 609,\n",
              " 'apps': 610,\n",
              " 'within': 611,\n",
              " 'moving': 612,\n",
              " 'option': 613,\n",
              " 'told': 614,\n",
              " 'speak': 615,\n",
              " 'prefer': 616,\n",
              " 'together': 617,\n",
              " 'boy': 618,\n",
              " 'office': 619,\n",
              " 'head': 620,\n",
              " 'fake': 621,\n",
              " 'financial': 622,\n",
              " 'husband': 623,\n",
              " 'fall': 624,\n",
              " 'obama': 625,\n",
              " 'preparation': 626,\n",
              " 'investment': 627,\n",
              " 'digital': 628,\n",
              " 'phd': 629,\n",
              " 'close': 630,\n",
              " 'becoming': 631,\n",
              " 'interested': 632,\n",
              " 'break': 633,\n",
              " 'interesting': 634,\n",
              " 'poor': 635,\n",
              " 'least': 636,\n",
              " 'nothing': 637,\n",
              " 'graduate': 638,\n",
              " 'western': 639,\n",
              " 'mental': 640,\n",
              " 'percentage': 641,\n",
              " 'contact': 642,\n",
              " 'french': 643,\n",
              " 'drive': 644,\n",
              " 'basic': 645,\n",
              " 'impact': 646,\n",
              " 'options': 647,\n",
              " 'nuclear': 648,\n",
              " 'thoughts': 649,\n",
              " 'dating': 650,\n",
              " 'paid': 651,\n",
              " 'studies': 652,\n",
              " 'illegal': 653,\n",
              " 'outside': 654,\n",
              " 'uses': 655,\n",
              " 'subject': 656,\n",
              " 'store': 657,\n",
              " 'universities': 658,\n",
              " 'baby': 659,\n",
              " 'upsc': 660,\n",
              " 'teacher': 661,\n",
              " 'income': 662,\n",
              " 'higher': 663,\n",
              " 'personality': 664,\n",
              " 'born': 665,\n",
              " 'comes': 666,\n",
              " 'java': 667,\n",
              " 'land': 668,\n",
              " 'solution': 669,\n",
              " 'gate': 670,\n",
              " 'check': 671,\n",
              " 'physical': 672,\n",
              " 'apple': 673,\n",
              " 'allow': 674,\n",
              " 'racist': 675,\n",
              " 'languages': 676,\n",
              " 'characteristics': 677,\n",
              " 'developer': 678,\n",
              " 'hand': 679,\n",
              " 'intelligence': 680,\n",
              " 'changed': 681,\n",
              " 'population': 682,\n",
              " 'style': 683,\n",
              " 'special': 684,\n",
              " 'might': 685,\n",
              " 'chemistry': 686,\n",
              " 'ms': 687,\n",
              " 'rights': 688,\n",
              " 'gain': 689,\n",
              " 'mains': 690,\n",
              " 'strong': 691,\n",
              " 'advantages': 692,\n",
              " 'fact': 693,\n",
              " 'please': 694,\n",
              " 'heart': 695,\n",
              " 'issues': 696,\n",
              " 'interest': 697,\n",
              " 'doctor': 698,\n",
              " 'branch': 699,\n",
              " 'son': 700,\n",
              " 'german': 701,\n",
              " 'russian': 702,\n",
              " 'websites': 703,\n",
              " 'economy': 704,\n",
              " 'startup': 705,\n",
              " 'sites': 706,\n",
              " 'pregnant': 707,\n",
              " 'created': 708,\n",
              " 'email': 709,\n",
              " 'early': 710,\n",
              " 'pressure': 711,\n",
              " 'credit': 712,\n",
              " 'marry': 713,\n",
              " 'rich': 714,\n",
              " 'gets': 715,\n",
              " 'pass': 716,\n",
              " 'west': 717,\n",
              " 'room': 718,\n",
              " 'meet': 719,\n",
              " 'africa': 720,\n",
              " 'recommend': 721,\n",
              " 'hindi': 722,\n",
              " 'dark': 723,\n",
              " 'charge': 724,\n",
              " 'smart': 725,\n",
              " 'building': 726,\n",
              " 'bring': 727,\n",
              " 'laws': 728,\n",
              " 'hyderabad': 729,\n",
              " 'inside': 730,\n",
              " 'structure': 731,\n",
              " 'positive': 732,\n",
              " 'practice': 733,\n",
              " 'network': 734,\n",
              " 'near': 735,\n",
              " 'currently': 736,\n",
              " 'solve': 737,\n",
              " 'spend': 738,\n",
              " 'crush': 739,\n",
              " 'bitcoin': 740,\n",
              " 'partner': 741,\n",
              " 'source': 742,\n",
              " 'talking': 743,\n",
              " 'numbers': 744,\n",
              " 'fat': 745,\n",
              " 'ca': 746,\n",
              " 'mom': 747,\n",
              " 'scope': 748,\n",
              " 'ok': 749,\n",
              " 'pursue': 750,\n",
              " 'whole': 751,\n",
              " 'alone': 752,\n",
              " 'views': 753,\n",
              " 'completely': 754,\n",
              " 'windows': 755,\n",
              " 'art': 756,\n",
              " 'iq': 757,\n",
              " 'christians': 758,\n",
              " 'christian': 759,\n",
              " 'cs': 760,\n",
              " 'content': 761,\n",
              " 'ones': 762,\n",
              " 'videos': 763,\n",
              " 'reduce': 764,\n",
              " 'factors': 765,\n",
              " 'distance': 766,\n",
              " 'officer': 767,\n",
              " 'film': 768,\n",
              " 'needed': 769,\n",
              " 'pune': 770,\n",
              " 'cell': 771,\n",
              " 'maths': 772,\n",
              " 'dogs': 773,\n",
              " 'religious': 774,\n",
              " 'exactly': 775,\n",
              " 'among': 776,\n",
              " 'topics': 777,\n",
              " 'master': 778,\n",
              " 'works': 779,\n",
              " 'text': 780,\n",
              " 'global': 781,\n",
              " 'complete': 782,\n",
              " 'especially': 783,\n",
              " 'save': 784,\n",
              " 'gas': 785,\n",
              " 'written': 786,\n",
              " 'advanced': 787,\n",
              " 'treatment': 788,\n",
              " 'electrical': 789,\n",
              " 'yes': 790,\n",
              " 'asian': 791,\n",
              " 'cold': 792,\n",
              " 'fear': 793,\n",
              " 'cbse': 794,\n",
              " 'stupid': 795,\n",
              " 'file': 796,\n",
              " 'coming': 797,\n",
              " 'healthy': 798,\n",
              " 'east': 799,\n",
              " 'according': 800,\n",
              " 'songs': 801,\n",
              " 'certain': 802,\n",
              " 'teach': 803,\n",
              " 'train': 804,\n",
              " 'ago': 805,\n",
              " 'letter': 806,\n",
              " 'color': 807,\n",
              " 'fix': 808,\n",
              " 'insurance': 809,\n",
              " 'novel': 810,\n",
              " 'playing': 811,\n",
              " 'attack': 812,\n",
              " 'policy': 813,\n",
              " 'african': 814,\n",
              " 'buying': 815,\n",
              " 'race': 816,\n",
              " 'almost': 817,\n",
              " 'simple': 818,\n",
              " 'democrats': 819,\n",
              " 'thought': 820,\n",
              " 'eyes': 821,\n",
              " 'opportunities': 822,\n",
              " 'green': 823,\n",
              " 'minimum': 824,\n",
              " 'hindu': 825,\n",
              " 'community': 826,\n",
              " 'sense': 827,\n",
              " 'hurt': 828,\n",
              " 'running': 829,\n",
              " 'eye': 830,\n",
              " 'procedure': 831,\n",
              " 'economic': 832,\n",
              " 'clear': 833,\n",
              " 'react': 834,\n",
              " 'transfer': 835,\n",
              " 'half': 836,\n",
              " 'giving': 837,\n",
              " 'method': 838,\n",
              " 'multiple': 839,\n",
              " 'dead': 840,\n",
              " 'lower': 841,\n",
              " 'boys': 842,\n",
              " 'result': 843,\n",
              " 'mathematics': 844,\n",
              " 'analysis': 845,\n",
              " 'lead': 846,\n",
              " 'anxiety': 847,\n",
              " 'abroad': 848,\n",
              " 'football': 849,\n",
              " 'blue': 850,\n",
              " 'profile': 851,\n",
              " 'ancient': 852,\n",
              " 'beautiful': 853,\n",
              " 'search': 854,\n",
              " 'front': 855,\n",
              " 'cars': 856,\n",
              " 'animal': 857,\n",
              " 'easily': 858,\n",
              " 'asking': 859,\n",
              " 'saying': 860,\n",
              " 'situation': 861,\n",
              " 'accomplishments': 862,\n",
              " 'summer': 863,\n",
              " 'masters': 864,\n",
              " 'politics': 865,\n",
              " 'fun': 866,\n",
              " 'strategy': 867,\n",
              " 'later': 868,\n",
              " 'importance': 869,\n",
              " 'specific': 870,\n",
              " 'growth': 871,\n",
              " 'economics': 872,\n",
              " 'manage': 873,\n",
              " 'sometimes': 874,\n",
              " 'california': 875,\n",
              " 'cannot': 876,\n",
              " 'classes': 877,\n",
              " 'jesus': 878,\n",
              " 'prove': 879,\n",
              " 'names': 880,\n",
              " 'survive': 881,\n",
              " 'daughter': 882,\n",
              " 'choice': 883,\n",
              " 'player': 884,\n",
              " 'drink': 885,\n",
              " 'sign': 886,\n",
              " 'sister': 887,\n",
              " 'wars': 888,\n",
              " 'position': 889,\n",
              " 'cancer': 890,\n",
              " 'developed': 891,\n",
              " 'nit': 892,\n",
              " 'page': 893,\n",
              " 'suggest': 894,\n",
              " 'singapore': 895,\n",
              " 'electric': 896,\n",
              " 'recently': 897,\n",
              " 'fire': 898,\n",
              " 'heard': 899,\n",
              " 'lives': 900,\n",
              " 'steps': 901,\n",
              " 'standard': 902,\n",
              " 'overcome': 903,\n",
              " 'clean': 904,\n",
              " 'narcissist': 905,\n",
              " 'powerful': 906,\n",
              " 'perfect': 907,\n",
              " 'material': 908,\n",
              " 'resources': 909,\n",
              " 'rest': 910,\n",
              " 'events': 911,\n",
              " 'means': 912,\n",
              " 'internship': 913,\n",
              " 'despite': 914,\n",
              " 'chennai': 915,\n",
              " 'net': 916,\n",
              " 'bjp': 917,\n",
              " 'claim': 918,\n",
              " 'return': 919,\n",
              " 'engine': 920,\n",
              " 'killed': 921,\n",
              " 'systems': 922,\n",
              " 'enjoy': 923,\n",
              " 'issue': 924,\n",
              " 'finance': 925,\n",
              " 'acting': 926,\n",
              " 'election': 927,\n",
              " 'recent': 928,\n",
              " 'seems': 929,\n",
              " 'longer': 930,\n",
              " 'trading': 931,\n",
              " 'adult': 932,\n",
              " 'disorder': 933,\n",
              " 'realize': 934,\n",
              " 'late': 935,\n",
              " 'speaking': 936,\n",
              " 'planning': 937,\n",
              " 'trade': 938,\n",
              " 'moment': 939,\n",
              " 'court': 940,\n",
              " 'grade': 941,\n",
              " 'anime': 942,\n",
              " 'hitler': 943,\n",
              " 'compare': 944,\n",
              " 'deep': 945,\n",
              " 'stand': 946,\n",
              " 'moon': 947,\n",
              " 'brand': 948,\n",
              " 'shows': 949,\n",
              " 'tamil': 950,\n",
              " 'regarding': 951,\n",
              " 'dangerous': 952,\n",
              " 'diet': 953,\n",
              " 'pro': 954,\n",
              " 'psychology': 955,\n",
              " 'access': 956,\n",
              " 'wish': 957,\n",
              " 'property': 958,\n",
              " 'feelings': 959,\n",
              " 'continue': 960,\n",
              " 'considering': 961,\n",
              " 'porn': 962,\n",
              " 'stories': 963,\n",
              " 'convert': 964,\n",
              " 'determine': 965,\n",
              " 'birth': 966,\n",
              " 'success': 967,\n",
              " 'hot': 968,\n",
              " 'final': 969,\n",
              " 'action': 970,\n",
              " 'needs': 971,\n",
              " 'link': 972,\n",
              " 'communication': 973,\n",
              " 'hindus': 974,\n",
              " 'temperature': 975,\n",
              " 'mbbs': 976,\n",
              " 'ssc': 977,\n",
              " 'along': 978,\n",
              " 'john': 979,\n",
              " 'reaction': 980,\n",
              " 'season': 981,\n",
              " 'whatsapp': 982,\n",
              " 'nation': 983,\n",
              " 'bill': 984,\n",
              " 'cities': 985,\n",
              " 'pc': 986,\n",
              " 'changes': 987,\n",
              " 'older': 988,\n",
              " 'parts': 989,\n",
              " 'scientific': 990,\n",
              " 'voice': 991,\n",
              " 'manager': 992,\n",
              " 'sports': 993,\n",
              " 'characters': 994,\n",
              " 'serve': 995,\n",
              " 'korean': 996,\n",
              " 'sun': 997,\n",
              " 'whether': 998,\n",
              " 'trust': 999,\n",
              " 'super': 1000,\n",
              " ...}"
            ]
          },
          "metadata": {},
          "execution_count": 50
        }
      ]
    },
    {
      "cell_type": "code",
      "source": [
        "print(len(tokenizer.word_index))"
      ],
      "metadata": {
        "id": "atAVU3NYYB-R",
        "colab": {
          "base_uri": "https://localhost:8080/"
        },
        "outputId": "5e8a15ac-8826-48f9-8b35-a3e5eaac3dec"
      },
      "execution_count": 51,
      "outputs": [
        {
          "output_type": "stream",
          "name": "stdout",
          "text": [
            "160953\n"
          ]
        }
      ]
    },
    {
      "cell_type": "markdown",
      "source": [
        "creating an embeddings matrix where each row represents a word from the vocabulary we obtained from the training data and the colums represent embedding dimensions"
      ],
      "metadata": {
        "id": "gVu42_f_U2Hr"
      }
    },
    {
      "cell_type": "code",
      "source": [
        "# Adding 1 because of reversed 0 index\n",
        "words_not_found = []\n",
        "vocab_size = len(tokenizer.word_index) + 1\n",
        "print('Loaded %s word vectors.' % len(embeddings_index))\n",
        "\n",
        "embedding_dim = 300\n",
        "\n",
        "# Create a weight matrix for words in the training data\n",
        "embedding_matrix = np.zeros((vocab_size, embedding_dim))\n",
        "for word, i in tokenizer.word_index.items():\n",
        "  if i >= vocab_size:\n",
        "    continue\n",
        "  embedding_vector = embeddings_index.get(word)\n",
        "  if (embedding_vector is not None) and len(embedding_vector) > 0:\n",
        "    embedding_matrix[i] = embedding_vector\n",
        "  else:\n",
        "    words_not_found.append(word)"
      ],
      "metadata": {
        "id": "maXGJY4_Uf5_",
        "colab": {
          "base_uri": "https://localhost:8080/"
        },
        "outputId": "0e429d5d-df64-4f58-bd72-2dfedc421693"
      },
      "execution_count": 52,
      "outputs": [
        {
          "output_type": "stream",
          "name": "stdout",
          "text": [
            "Loaded 400000 word vectors.\n"
          ]
        }
      ]
    },
    {
      "cell_type": "code",
      "source": [
        "len(words_not_found)"
      ],
      "metadata": {
        "id": "zPkfYkxyXFFF",
        "colab": {
          "base_uri": "https://localhost:8080/"
        },
        "outputId": "48983731-7a1d-4a5d-bb21-0f434ef0ca39"
      },
      "execution_count": 53,
      "outputs": [
        {
          "output_type": "execute_result",
          "data": {
            "text/plain": [
              "64103"
            ]
          },
          "metadata": {},
          "execution_count": 53
        }
      ]
    },
    {
      "cell_type": "markdown",
      "source": [
        "64103 new words out of 160000 are there in the questions that doesnot exist in our embeddings from glove. This seems to be a bad embedding for this problem. But we are not able to use bigger pre trained embeddings due to compute issues"
      ],
      "metadata": {
        "id": "CY_Az4a3XSa-"
      }
    },
    {
      "cell_type": "markdown",
      "metadata": {
        "id": "I6jfm3YFUL7i"
      },
      "source": [
        "##   **Stage 4**: Build and Train the Deep networks model using Pytorch/Keras (5 Points)\n",
        "\n"
      ]
    },
    {
      "cell_type": "markdown",
      "source": [
        "Let's first build a Bi directional GRU to establish the baseline"
      ],
      "metadata": {
        "id": "WfDuTiHtYVGu"
      }
    },
    {
      "cell_type": "code",
      "source": [
        "# Build a sequential model by stacking neural net units\n",
        "model = Sequential()\n",
        "embedding_layer = Embedding(vocab_size,\n",
        "                            embedding_dim,\n",
        "                            weights = [embedding_matrix],\n",
        "                            input_length = MAX_SENT_LEN,\n",
        "                            trainable=False)\n",
        "model.add(embedding_layer)\n",
        "model.add(Bidirectional(GRU(128, return_sequences=True, dropout=0.50, name='first_gru_layer')))\n",
        "model.add(Dropout(0.5))\n",
        "model.add(Bidirectional(GRU(64, name='second_gru_layer')))\n",
        "model.add(Dropout(0.5))\n",
        "model.add(Dense(64, activation='relu'))\n",
        "model.add(Dropout(0.5))\n",
        "model.add(Dense(1, activation='sigmoid', name='output_layer'))"
      ],
      "metadata": {
        "id": "Dz1-Bs4pUdsf"
      },
      "execution_count": 54,
      "outputs": []
    },
    {
      "cell_type": "code",
      "source": [
        "print('Summary of the built model...')\n",
        "model.summary()"
      ],
      "metadata": {
        "id": "IwzDPJ8bZaTX",
        "colab": {
          "base_uri": "https://localhost:8080/"
        },
        "outputId": "755b648f-7460-4e5d-b98f-1bfccab1f31e"
      },
      "execution_count": 55,
      "outputs": [
        {
          "output_type": "stream",
          "name": "stdout",
          "text": [
            "Summary of the built model...\n",
            "Model: \"sequential\"\n",
            "_________________________________________________________________\n",
            " Layer (type)                Output Shape              Param #   \n",
            "=================================================================\n",
            " embedding (Embedding)       (None, 40, 300)           48286200  \n",
            "                                                                 \n",
            " bidirectional (Bidirection  (None, 40, 256)           330240    \n",
            " al)                                                             \n",
            "                                                                 \n",
            " dropout (Dropout)           (None, 40, 256)           0         \n",
            "                                                                 \n",
            " bidirectional_1 (Bidirecti  (None, 128)               123648    \n",
            " onal)                                                           \n",
            "                                                                 \n",
            " dropout_1 (Dropout)         (None, 128)               0         \n",
            "                                                                 \n",
            " dense (Dense)               (None, 64)                8256      \n",
            "                                                                 \n",
            " dropout_2 (Dropout)         (None, 64)                0         \n",
            "                                                                 \n",
            " output_layer (Dense)        (None, 1)                 65        \n",
            "                                                                 \n",
            "=================================================================\n",
            "Total params: 48748409 (185.96 MB)\n",
            "Trainable params: 462209 (1.76 MB)\n",
            "Non-trainable params: 48286200 (184.20 MB)\n",
            "_________________________________________________________________\n"
          ]
        }
      ]
    },
    {
      "cell_type": "markdown",
      "source": [
        "Let's train the model"
      ],
      "metadata": {
        "id": "gK6dWS7kZomk"
      }
    },
    {
      "cell_type": "code",
      "source": [
        "model.compile(loss='binary_crossentropy',\n",
        "              optimizer='adam',\n",
        "              metrics=['accuracy'])"
      ],
      "metadata": {
        "id": "1QNZz9dLZsu6"
      },
      "execution_count": 56,
      "outputs": []
    },
    {
      "cell_type": "code",
      "source": [
        "model.fit(X_train, y_train,\n",
        "          batch_size=BATCH_SIZE,\n",
        "          epochs=N_EPOCHS,\n",
        "          validation_data=(X_test, y_test))"
      ],
      "metadata": {
        "id": "uJ7FljDvZxN4"
      },
      "execution_count": null,
      "outputs": []
    },
    {
      "cell_type": "code",
      "source": [
        "model.save('/content/drive/MyDrive/colab_data_files/models/bigru_128_64_64.keras')"
      ],
      "metadata": {
        "id": "4Q3bvBCOfPKR"
      },
      "execution_count": null,
      "outputs": []
    },
    {
      "cell_type": "markdown",
      "metadata": {
        "id": "k-O0Jx99UhmI"
      },
      "source": [
        "##   **Stage 5**: Evaluate the Model and get model predictions on the test dataset (2 Points)\n",
        "\n",
        "\n",
        "\n",
        "\n",
        "\n",
        "\n"
      ]
    },
    {
      "cell_type": "markdown",
      "source": [
        "Let's evaluate the model on test data for accuracy"
      ],
      "metadata": {
        "id": "Sy2QTH6LbIXQ"
      }
    },
    {
      "cell_type": "markdown",
      "source": [
        "We have saved the model for reuse. So loading it here from there."
      ],
      "metadata": {
        "id": "pK7cnKYxy4oD"
      }
    },
    {
      "cell_type": "code",
      "source": [
        "model = tf.keras.models.load_model('/content/drive/MyDrive/colab_data_files/models/bigru_128_64_64.keras')\n"
      ],
      "metadata": {
        "id": "g6VDER02vLjr"
      },
      "execution_count": 57,
      "outputs": []
    },
    {
      "cell_type": "code",
      "source": [
        "print('Testing...')\n",
        "model.evaluate(X_test, y_test)"
      ],
      "metadata": {
        "id": "GJjHpYw3bahy",
        "colab": {
          "base_uri": "https://localhost:8080/"
        },
        "outputId": "12a78e24-837b-478c-e669-7b990da3ae8c"
      },
      "execution_count": 58,
      "outputs": [
        {
          "output_type": "stream",
          "name": "stdout",
          "text": [
            "Testing...\n",
            "3266/3266 [==============================] - 28s 7ms/step - loss: 0.1080 - accuracy: 0.9574\n"
          ]
        },
        {
          "output_type": "execute_result",
          "data": {
            "text/plain": [
              "[0.10797396302223206, 0.9573930501937866]"
            ]
          },
          "metadata": {},
          "execution_count": 58
        }
      ]
    },
    {
      "cell_type": "code",
      "source": [
        "# model predictions on the test data\n",
        "preds = model.predict(X_test)"
      ],
      "metadata": {
        "id": "vTdN5mqhbmcN",
        "colab": {
          "base_uri": "https://localhost:8080/"
        },
        "outputId": "6a83b5af-d24e-434e-924f-37f131c00532"
      },
      "execution_count": 59,
      "outputs": [
        {
          "output_type": "stream",
          "name": "stdout",
          "text": [
            "3266/3266 [==============================] - 19s 6ms/step\n"
          ]
        }
      ]
    },
    {
      "cell_type": "code",
      "source": [
        "preds.shape"
      ],
      "metadata": {
        "id": "MVGjyIjUbptl",
        "colab": {
          "base_uri": "https://localhost:8080/"
        },
        "outputId": "4647096c-a824-4cd2-83c0-a410c18321bd"
      },
      "execution_count": 60,
      "outputs": [
        {
          "output_type": "execute_result",
          "data": {
            "text/plain": [
              "(104490, 1)"
            ]
          },
          "metadata": {},
          "execution_count": 60
        }
      ]
    },
    {
      "cell_type": "code",
      "source": [
        "preds[:10]"
      ],
      "metadata": {
        "id": "dymUkAIfzna3",
        "colab": {
          "base_uri": "https://localhost:8080/"
        },
        "outputId": "bc2bdeb0-9de0-402b-d3ad-436c215aa607"
      },
      "execution_count": 61,
      "outputs": [
        {
          "output_type": "execute_result",
          "data": {
            "text/plain": [
              "array([[1.3618171e-02],\n",
              "       [3.5211286e-03],\n",
              "       [7.4215823e-01],\n",
              "       [6.6390976e-02],\n",
              "       [1.2783372e-03],\n",
              "       [2.2721652e-02],\n",
              "       [8.6614296e-02],\n",
              "       [1.2570830e-03],\n",
              "       [5.0524797e-04],\n",
              "       [2.3280754e-04]], dtype=float32)"
            ]
          },
          "metadata": {},
          "execution_count": 61
        }
      ]
    },
    {
      "cell_type": "markdown",
      "source": [
        "Since the data is highly skewed, the default threshold of 0.5 might not be a right approach to determine the classes from probabilities. There are many ways we could locate the threshold with the optimal balance between false positive and true positive rates.\n",
        "\n",
        "Sensitivity = True Positive Rate\n",
        "Specificity = 1 – False Positive Rate\n",
        "The Geometric Mean or G-Mean is a metric for imbalanced classification that, if optimized, will seek a balance between the sensitivity and the specificity.\n",
        "\n",
        "G-Mean = sqrt(Sensitivity * Specificity)\n",
        "One approach would be to test the model with each threshold returned from the call roc_auc_score() and select the threshold with the largest G-Mean value."
      ],
      "metadata": {
        "id": "i9kxuPRVz6sf"
      }
    },
    {
      "cell_type": "code",
      "source": [
        "from sklearn.metrics import roc_curve\n",
        "from numpy import sqrt\n",
        "from numpy import argmax"
      ],
      "metadata": {
        "id": "MjWpzcun12X-"
      },
      "execution_count": 62,
      "outputs": []
    },
    {
      "cell_type": "code",
      "source": [
        "# calculate roc curves\n",
        "fpr, tpr, thresholds = roc_curve(y_test, preds)\n",
        "# plot the roc curve for the model\n",
        "plt.plot([0,1], [0,1], linestyle='--', label='No Skill')\n",
        "plt.plot(fpr, tpr, marker='.', label='Logistic')\n",
        "# axis labels\n",
        "plt.xlabel('False Positive Rate')\n",
        "plt.ylabel('True Positive Rate')\n",
        "plt.legend()\n",
        "# show the plot\n",
        "plt.show()"
      ],
      "metadata": {
        "id": "ps_Ea07X1UIt",
        "colab": {
          "base_uri": "https://localhost:8080/",
          "height": 449
        },
        "outputId": "b640bf52-5949-416b-837b-74bd1d965165"
      },
      "execution_count": 63,
      "outputs": [
        {
          "output_type": "display_data",
          "data": {
            "text/plain": [
              "<Figure size 640x480 with 1 Axes>"
            ],
            "image/png": "[encoded data removed]"
          },
          "metadata": {}
        }
      ]
    },
    {
      "cell_type": "code",
      "source": [
        "tpr"
      ],
      "metadata": {
        "id": "3dl1eAn82bwe",
        "colab": {
          "base_uri": "https://localhost:8080/"
        },
        "outputId": "9ff2da94-86c0-4c65-fa03-9ad8de897d46"
      },
      "execution_count": 64,
      "outputs": [
        {
          "output_type": "execute_result",
          "data": {
            "text/plain": [
              "array([0.00000000e+00, 1.54798762e-04, 3.09597523e-04, ...,\n",
              "       1.00000000e+00, 1.00000000e+00, 1.00000000e+00])"
            ]
          },
          "metadata": {},
          "execution_count": 64
        }
      ]
    },
    {
      "cell_type": "code",
      "source": [
        "fpr"
      ],
      "metadata": {
        "id": "ASCwIh1j2e02",
        "colab": {
          "base_uri": "https://localhost:8080/"
        },
        "outputId": "5aa690d4-1d6f-4f46-e7d9-93ae11623daf"
      },
      "execution_count": 65,
      "outputs": [
        {
          "output_type": "execute_result",
          "data": {
            "text/plain": [
              "array([0.        , 0.        , 0.        , ..., 0.99902071, 0.99904111,\n",
              "       1.        ])"
            ]
          },
          "metadata": {},
          "execution_count": 65
        }
      ]
    },
    {
      "cell_type": "code",
      "source": [
        "# calculate the g-mean for each threshold\n",
        "gmeans = sqrt(tpr * (1-fpr))"
      ],
      "metadata": {
        "id": "rLzi0iOK1sbh"
      },
      "execution_count": 66,
      "outputs": []
    },
    {
      "cell_type": "markdown",
      "source": [
        "let's look at the scwtter plot of threshold vs gmeans"
      ],
      "metadata": {
        "id": "77Db8uGT3R2d"
      }
    },
    {
      "cell_type": "code",
      "source": [
        "plt.scatter(thresholds, gmeans)\n",
        "plt.show()"
      ],
      "metadata": {
        "id": "Ra7SAZxP3HX6",
        "colab": {
          "base_uri": "https://localhost:8080/",
          "height": 430
        },
        "outputId": "214cdaa1-8e76-4190-9f53-7de489f2644b"
      },
      "execution_count": 67,
      "outputs": [
        {
          "output_type": "display_data",
          "data": {
            "text/plain": [
              "<Figure size 640x480 with 1 Axes>"
            ],
            "image/png": "[encoded data removed]"
          },
          "metadata": {}
        }
      ]
    },
    {
      "cell_type": "code",
      "source": [
        "# locate the index of the largest g-mean\n",
        "ix = argmax(gmeans)\n",
        "print('Best Threshold=%f, G-Mean=%.3f' % (thresholds[ix], gmeans[ix]))"
      ],
      "metadata": {
        "id": "zSgbMimX29lC",
        "colab": {
          "base_uri": "https://localhost:8080/"
        },
        "outputId": "7d630db0-9d60-49dc-d369-6f806cb07eb7"
      },
      "execution_count": 68,
      "outputs": [
        {
          "output_type": "stream",
          "name": "stdout",
          "text": [
            "Best Threshold=0.047091, G-Mean=0.901\n"
          ]
        }
      ]
    },
    {
      "cell_type": "markdown",
      "source": [
        "Though, the best value of threshold is 0.047 which gives the highest gmean on test dataset, the curve is not smooth near 0, so it would be a prudent approach to go with a threshold in the smoother part of the curve. Lets do the same analysis on y_train which is a larger dataset."
      ],
      "metadata": {
        "id": "D9BJDeKw3y8h"
      }
    },
    {
      "cell_type": "code",
      "source": [
        "preds_train = model.predict(X_train)"
      ],
      "metadata": {
        "id": "3_1MrSQG7YHv",
        "colab": {
          "base_uri": "https://localhost:8080/"
        },
        "outputId": "36d60f43-ffa1-4cce-f862-88f085b86f88"
      },
      "execution_count": 69,
      "outputs": [
        {
          "output_type": "stream",
          "name": "stdout",
          "text": [
            "29388/29388 [==============================] - 183s 6ms/step\n"
          ]
        }
      ]
    },
    {
      "cell_type": "code",
      "source": [
        "# calculate roc curves\n",
        "fpr, tpr, thresholds = roc_curve(y_train, preds_train)\n",
        "# plot the roc curve for the model\n",
        "plt.plot([0,1], [0,1], linestyle='--', label='No Skill')\n",
        "plt.plot(fpr, tpr, marker='.', label='Logistic')\n",
        "# axis labels\n",
        "plt.xlabel('False Positive Rate')\n",
        "plt.ylabel('True Positive Rate')\n",
        "plt.legend()\n",
        "# show the plot\n",
        "plt.show()"
      ],
      "metadata": {
        "id": "9K293UNa7YEI",
        "colab": {
          "base_uri": "https://localhost:8080/",
          "height": 449
        },
        "outputId": "6420ae72-c5c1-479e-dc4c-3b90cc2b5ad2"
      },
      "execution_count": 70,
      "outputs": [
        {
          "output_type": "display_data",
          "data": {
            "text/plain": [
              "<Figure size 640x480 with 1 Axes>"
            ],
            "image/png": "[encoded data removed]"
          },
          "metadata": {}
        }
      ]
    },
    {
      "cell_type": "code",
      "source": [
        "# calculate the g-mean for each threshold\n",
        "gmeans = sqrt(tpr * (1-fpr))"
      ],
      "metadata": {
        "id": "U5HBsc7O72Th"
      },
      "execution_count": 71,
      "outputs": []
    },
    {
      "cell_type": "code",
      "source": [
        "plt.scatter(thresholds, gmeans)\n",
        "plt.show()"
      ],
      "metadata": {
        "id": "3xAZYQbK74Nn",
        "colab": {
          "base_uri": "https://localhost:8080/",
          "height": 430
        },
        "outputId": "1e78ce4f-19fc-4713-97b6-88ef4671c0b3"
      },
      "execution_count": 72,
      "outputs": [
        {
          "output_type": "display_data",
          "data": {
            "text/plain": [
              "<Figure size 640x480 with 1 Axes>"
            ],
            "image/png": "[encoded data removed]"
          },
          "metadata": {}
        }
      ]
    },
    {
      "cell_type": "code",
      "source": [
        "# locate the index of the largest g-mean\n",
        "ix = argmax(gmeans)\n",
        "print('Best Threshold=%f, G-Mean=%.3f' % (thresholds[ix], gmeans[ix]))"
      ],
      "metadata": {
        "id": "M0T6Ny9-8Cco",
        "colab": {
          "base_uri": "https://localhost:8080/"
        },
        "outputId": "9671ae91-f961-4048-b99e-5eeb486fb958"
      },
      "execution_count": 73,
      "outputs": [
        {
          "output_type": "stream",
          "name": "stdout",
          "text": [
            "Best Threshold=0.065284, G-Mean=0.915\n"
          ]
        }
      ]
    },
    {
      "cell_type": "markdown",
      "source": [
        "When we used a threshold of 0.15 which seemed to be the best from the scatter plot, the score on kaggle public dataset decreased. Probably, gmean is not a good metric. Let's use f1 score as our metric directly to perform a grid search over the threshold values."
      ],
      "metadata": {
        "id": "HYnBsPgH8rUO"
      }
    },
    {
      "cell_type": "code",
      "source": [
        "#Let's get the list of threshold values to search over\n",
        "t = [round(i,1) for i in thresholds]\n",
        "t =list(set(t))\n",
        "t =[i for i in t if i<=1]"
      ],
      "metadata": {
        "id": "L1uFiJJ_9cj9"
      },
      "execution_count": 74,
      "outputs": []
    },
    {
      "cell_type": "code",
      "source": [
        "t"
      ],
      "metadata": {
        "id": "gL7mEG6a-D7F",
        "colab": {
          "base_uri": "https://localhost:8080/"
        },
        "outputId": "7f58ca55-1cbf-4a1d-ed68-f8bd95f857a0"
      },
      "execution_count": 75,
      "outputs": [
        {
          "output_type": "execute_result",
          "data": {
            "text/plain": [
              "[0.9, 1.9, 0.6, 0.8, 0.7, 0.5, 0.4, 0.3, 0.2, 0.1, 0.0]"
            ]
          },
          "metadata": {},
          "execution_count": 75
        }
      ]
    },
    {
      "cell_type": "code",
      "source": [
        "f1scores=[]\n",
        "for threshold in t:\n",
        "  y_pred = [1 if i>threshold else 0 for i in preds]\n",
        "  f1scores.append(f1_score(y_test, y_pred))"
      ],
      "metadata": {
        "id": "RmIEW0Ua-aFU"
      },
      "execution_count": 77,
      "outputs": []
    },
    {
      "cell_type": "code",
      "source": [
        "f1scores"
      ],
      "metadata": {
        "id": "6V-ytl0RApoA",
        "colab": {
          "base_uri": "https://localhost:8080/"
        },
        "outputId": "05905456-cd4a-4885-b104-9a0852dc840a"
      },
      "execution_count": 78,
      "outputs": [
        {
          "output_type": "execute_result",
          "data": {
            "text/plain": [
              "[0.0,\n",
              " 0.565416111216911,\n",
              " 0.26219671275763107,\n",
              " 0.47313448907074407,\n",
              " 0.6191616766467065,\n",
              " 0.6418582970789309,\n",
              " 0.6421472517071192,\n",
              " 0.6175501647199761,\n",
              " 0.5710179148914327,\n",
              " 0.11644885083370887]"
            ]
          },
          "metadata": {},
          "execution_count": 78
        }
      ]
    },
    {
      "cell_type": "code",
      "source": [
        "#Let's check the same on train data\n",
        "f1scores=[]\n",
        "for threshold in t:\n",
        "  y_pred = [1 if i>threshold else 0 for i in preds_train]\n",
        "  f1scores.append(f1_score(y_train, y_pred))"
      ],
      "metadata": {
        "id": "ma5ItLVwA8es"
      },
      "execution_count": 79,
      "outputs": []
    },
    {
      "cell_type": "code",
      "source": [
        "f1scores"
      ],
      "metadata": {
        "id": "DBFVisRJBMWH",
        "colab": {
          "base_uri": "https://localhost:8080/"
        },
        "outputId": "035e57d5-4cfe-433d-f27f-3db9cb87f322"
      },
      "execution_count": 80,
      "outputs": [
        {
          "output_type": "execute_result",
          "data": {
            "text/plain": [
              "[0.0,\n",
              " 0.593331917604587,\n",
              " 0.2767060595527749,\n",
              " 0.4951090865499881,\n",
              " 0.6504267967380535,\n",
              " 0.6767289542899383,\n",
              " 0.6783525723243552,\n",
              " 0.6528867852934715,\n",
              " 0.5955734635456682,\n",
              " 0.11645674582469999]"
            ]
          },
          "metadata": {},
          "execution_count": 80
        }
      ]
    },
    {
      "cell_type": "markdown",
      "source": [
        "A threshold value of 0.3 seems to be the optimum cutoff for the best f1 score on both test and train dataset"
      ],
      "metadata": {
        "id": "aQGOR-gcBYn7"
      }
    },
    {
      "cell_type": "markdown",
      "source": [
        "Let's use the learnt model to make predictions on df_test"
      ],
      "metadata": {
        "id": "5EcrDbLYdCk0"
      }
    },
    {
      "cell_type": "code",
      "source": [
        "# Function to get the predictions\n",
        "def predictions(df_test, threshold):\n",
        "\n",
        "  questions_list_idx = tokenizer.texts_to_sequences([' '.join(seq[:MAX_SENT_LEN]) for seq in df_test['question_text']])\n",
        "\n",
        "  # Pad the sequences of the data\n",
        "  questions_list_idx = pad_sequences(questions_list_idx, maxlen=MAX_SENT_LEN, padding='post', truncating='post')\n",
        "\n",
        "  # Get the predictons by using GRU model\n",
        "  review_preds = model.predict(questions_list_idx)\n",
        "\n",
        "  # Add the predictions to the movie reviews data\n",
        "  df_test['predictions'] = review_preds\n",
        "\n",
        "  # Set the threshold for the predictions\n",
        "  pred_sentiment = np.array(list(map(lambda x : 1 if x > threshold else 0, review_preds)))\n",
        "\n",
        "  # Add the sentiment predictions to the movie reviews\n",
        "  df_test['predicted target'] = pred_sentiment\n",
        "\n",
        "  return df_test"
      ],
      "metadata": {
        "id": "NpBNORyCc74a"
      },
      "execution_count": 81,
      "outputs": []
    },
    {
      "cell_type": "code",
      "source": [
        "#df_test = predictions(df_test, 0.15)"
      ],
      "metadata": {
        "id": "AKxgAWMbe61L",
        "colab": {
          "base_uri": "https://localhost:8080/"
        },
        "outputId": "c49809fe-c716-4768-8402-719aba59eef8"
      },
      "execution_count": 82,
      "outputs": [
        {
          "output_type": "stream",
          "name": "stdout",
          "text": [
            "8164/8164 [==============================] - 54s 7ms/step\n"
          ]
        }
      ]
    },
    {
      "cell_type": "code",
      "source": [
        "df_test = predictions(df_test, 0.3)"
      ],
      "metadata": {
        "id": "jXQ8SmFXBvfW",
        "colab": {
          "base_uri": "https://localhost:8080/"
        },
        "outputId": "261338d6-3173-4e6c-ced4-fe4fa968b89e"
      },
      "execution_count": 83,
      "outputs": [
        {
          "output_type": "stream",
          "name": "stdout",
          "text": [
            "8164/8164 [==============================] - 45s 5ms/step\n"
          ]
        }
      ]
    },
    {
      "cell_type": "code",
      "source": [
        "df_test.shape"
      ],
      "metadata": {
        "id": "do4xrflNniH4",
        "colab": {
          "base_uri": "https://localhost:8080/"
        },
        "outputId": "d596efa0-7a4d-4dbd-c0ae-16466add1aa6"
      },
      "execution_count": 84,
      "outputs": [
        {
          "output_type": "execute_result",
          "data": {
            "text/plain": [
              "(261221, 4)"
            ]
          },
          "metadata": {},
          "execution_count": 84
        }
      ]
    },
    {
      "cell_type": "code",
      "source": [
        "df_test.to_csv('/content/drive/MyDrive/colab_data_files/results/df_test_3.csv', index=False)"
      ],
      "metadata": {
        "id": "Wk0KP5bXe6uU"
      },
      "execution_count": 85,
      "outputs": []
    },
    {
      "cell_type": "code",
      "source": [
        "df_test.head()"
      ],
      "metadata": {
        "id": "HwK2jN8Fe6hA",
        "colab": {
          "base_uri": "https://localhost:8080/",
          "height": 206
        },
        "outputId": "2852fd18-68ee-4964-c0a3-66e1275f0662"
      },
      "execution_count": 86,
      "outputs": [
        {
          "output_type": "execute_result",
          "data": {
            "text/plain": [
              "                    qid                                      question_text  \\\n",
              "0  d5cacbea9be29bd47a78                                    [minance, good]   \n",
              "1  5650c4a236fe3b555c31                [computers, reserved, key, strokes]   \n",
              "2  b778db4f09f9326195ea  [last, time, us, scandal, driven, administration]   \n",
              "3  e91c299cffc74a66aaf5                           [still, living, wasilla]   \n",
              "4  2e129e7a85739a73b70a     [distinguishes, acting, style, piolo, pascual]   \n",
              "\n",
              "   predictions  predicted target  \n",
              "0     0.006642                 0  \n",
              "1     0.006468                 0  \n",
              "2     0.027501                 0  \n",
              "3     0.002543                 0  \n",
              "4     0.000760                 0  "
            ],
            "text/html": [
              "\n",
              "  <div id=\"df-4e54bf94-46c5-46dc-a562-b57608dfcd94\" class=\"colab-df-container\">\n",
              "    <div>\n",
              "<style scoped>\n",
              "    .dataframe tbody tr th:only-of-type {\n",
              "        vertical-align: middle;\n",
              "    }\n",
              "\n",
              "    .dataframe tbody tr th {\n",
              "        vertical-align: top;\n",
              "    }\n",
              "\n",
              "    .dataframe thead th {\n",
              "        text-align: right;\n",
              "    }\n",
              "</style>\n",
              "<table border=\"1\" class=\"dataframe\">\n",
              "  <thead>\n",
              "    <tr style=\"text-align: right;\">\n",
              "      <th></th>\n",
              "      <th>qid</th>\n",
              "      <th>question_text</th>\n",
              "      <th>predictions</th>\n",
              "      <th>predicted target</th>\n",
              "    </tr>\n",
              "  </thead>\n",
              "  <tbody>\n",
              "    <tr>\n",
              "      <th>0</th>\n",
              "      <td>d5cacbea9be29bd47a78</td>\n",
              "      <td>[minance, good]</td>\n",
              "      <td>0.006642</td>\n",
              "      <td>0</td>\n",
              "    </tr>\n",
              "    <tr>\n",
              "      <th>1</th>\n",
              "      <td>5650c4a236fe3b555c31</td>\n",
              "      <td>[computers, reserved, key, strokes]</td>\n",
              "      <td>0.006468</td>\n",
              "      <td>0</td>\n",
              "    </tr>\n",
              "    <tr>\n",
              "      <th>2</th>\n",
              "      <td>b778db4f09f9326195ea</td>\n",
              "      <td>[last, time, us, scandal, driven, administration]</td>\n",
              "      <td>0.027501</td>\n",
              "      <td>0</td>\n",
              "    </tr>\n",
              "    <tr>\n",
              "      <th>3</th>\n",
              "      <td>e91c299cffc74a66aaf5</td>\n",
              "      <td>[still, living, wasilla]</td>\n",
              "      <td>0.002543</td>\n",
              "      <td>0</td>\n",
              "    </tr>\n",
              "    <tr>\n",
              "      <th>4</th>\n",
              "      <td>2e129e7a85739a73b70a</td>\n",
              "      <td>[distinguishes, acting, style, piolo, pascual]</td>\n",
              "      <td>0.000760</td>\n",
              "      <td>0</td>\n",
              "    </tr>\n",
              "  </tbody>\n",
              "</table>\n",
              "</div>\n",
              "    <div class=\"colab-df-buttons\">\n",
              "\n",
              "  <div class=\"colab-df-container\">\n",
              "    <button class=\"colab-df-convert\" onclick=\"convertToInteractive('df-4e54bf94-46c5-46dc-a562-b57608dfcd94')\"\n",
              "            title=\"Convert this dataframe to an interactive table.\"\n",
              "            style=\"display:none;\">\n",
              "\n",
              "  <svg xmlns=\"http://www.w3.org/2000/svg\" height=\"24px\" viewBox=\"0 -960 960 960\">\n",
              "    <path d=\"M120-120v-720h720v720H120Zm60-500h600v-160H180v160Zm220 220h160v-160H400v160Zm0 220h160v-160H400v160ZM180-400h160v-160H180v160Zm440 0h160v-160H620v160ZM180-180h160v-160H180v160Zm440 0h160v-160H620v160Z\"/>\n",
              "  </svg>\n",
              "    </button>\n",
              "\n",
              "  <style>\n",
              "    .colab-df-container {\n",
              "      display:flex;\n",
              "      gap: 12px;\n",
              "    }\n",
              "\n",
              "    .colab-df-convert {\n",
              "      background-color: #E8F0FE;\n",
              "      border: none;\n",
              "      border-radius: 50%;\n",
              "      cursor: pointer;\n",
              "      display: none;\n",
              "      fill: #1967D2;\n",
              "      height: 32px;\n",
              "      padding: 0 0 0 0;\n",
              "      width: 32px;\n",
              "    }\n",
              "\n",
              "    .colab-df-convert:hover {\n",
              "      background-color: #E2EBFA;\n",
              "      box-shadow: 0px 1px 2px rgba(60, 64, 67, 0.3), 0px 1px 3px 1px rgba(60, 64, 67, 0.15);\n",
              "      fill: #174EA6;\n",
              "    }\n",
              "\n",
              "    .colab-df-buttons div {\n",
              "      margin-bottom: 4px;\n",
              "    }\n",
              "\n",
              "    [theme=dark] .colab-df-convert {\n",
              "      background-color: #3B4455;\n",
              "      fill: #D2E3FC;\n",
              "    }\n",
              "\n",
              "    [theme=dark] .colab-df-convert:hover {\n",
              "      background-color: #434B5C;\n",
              "      box-shadow: 0px 1px 3px 1px rgba(0, 0, 0, 0.15);\n",
              "      filter: drop-shadow(0px 1px 2px rgba(0, 0, 0, 0.3));\n",
              "      fill: #FFFFFF;\n",
              "    }\n",
              "  </style>\n",
              "\n",
              "    <script>\n",
              "      const buttonEl =\n",
              "        document.querySelector('#df-4e54bf94-46c5-46dc-a562-b57608dfcd94 button.colab-df-convert');\n",
              "      buttonEl.style.display =\n",
              "        google.colab.kernel.accessAllowed ? 'block' : 'none';\n",
              "\n",
              "      async function convertToInteractive(key) {\n",
              "        const element = document.querySelector('#df-4e54bf94-46c5-46dc-a562-b57608dfcd94');\n",
              "        const dataTable =\n",
              "          await google.colab.kernel.invokeFunction('convertToInteractive',\n",
              "                                                    [key], {});\n",
              "        if (!dataTable) return;\n",
              "\n",
              "        const docLinkHtml = 'Like what you see? Visit the ' +\n",
              "          '<a target=\"_blank\" href=https://colab.research.google.com/notebooks/data_table.ipynb>data table notebook</a>'\n",
              "          + ' to learn more about interactive tables.';\n",
              "        element.innerHTML = '';\n",
              "        dataTable['output_type'] = 'display_data';\n",
              "        await google.colab.output.renderOutput(dataTable, element);\n",
              "        const docLink = document.createElement('div');\n",
              "        docLink.innerHTML = docLinkHtml;\n",
              "        element.appendChild(docLink);\n",
              "      }\n",
              "    </script>\n",
              "  </div>\n",
              "\n",
              "\n",
              "<div id=\"df-c0ce9731-a0ca-4c87-ad9c-f0b783bb5d45\">\n",
              "  <button class=\"colab-df-quickchart\" onclick=\"quickchart('df-c0ce9731-a0ca-4c87-ad9c-f0b783bb5d45')\"\n",
              "            title=\"Suggest charts.\"\n",
              "            style=\"display:none;\">\n",
              "\n",
              "<svg xmlns=\"http://www.w3.org/2000/svg\" height=\"24px\"viewBox=\"0 0 24 24\"\n",
              "     width=\"24px\">\n",
              "    <g>\n",
              "        <path d=\"M19 3H5c-1.1 0-2 .9-2 2v14c0 1.1.9 2 2 2h14c1.1 0 2-.9 2-2V5c0-1.1-.9-2-2-2zM9 17H7v-7h2v7zm4 0h-2V7h2v10zm4 0h-2v-4h2v4z\"/>\n",
              "    </g>\n",
              "</svg>\n",
              "  </button>\n",
              "\n",
              "<style>\n",
              "  .colab-df-quickchart {\n",
              "      --bg-color: #E8F0FE;\n",
              "      --fill-color: #1967D2;\n",
              "      --hover-bg-color: #E2EBFA;\n",
              "      --hover-fill-color: #174EA6;\n",
              "      --disabled-fill-color: #AAA;\n",
              "      --disabled-bg-color: #DDD;\n",
              "  }\n",
              "\n",
              "  [theme=dark] .colab-df-quickchart {\n",
              "      --bg-color: #3B4455;\n",
              "      --fill-color: #D2E3FC;\n",
              "      --hover-bg-color: #434B5C;\n",
              "      --hover-fill-color: #FFFFFF;\n",
              "      --disabled-bg-color: #3B4455;\n",
              "      --disabled-fill-color: #666;\n",
              "  }\n",
              "\n",
              "  .colab-df-quickchart {\n",
              "    background-color: var(--bg-color);\n",
              "    border: none;\n",
              "    border-radius: 50%;\n",
              "    cursor: pointer;\n",
              "    display: none;\n",
              "    fill: var(--fill-color);\n",
              "    height: 32px;\n",
              "    padding: 0;\n",
              "    width: 32px;\n",
              "  }\n",
              "\n",
              "  .colab-df-quickchart:hover {\n",
              "    background-color: var(--hover-bg-color);\n",
              "    box-shadow: 0 1px 2px rgba(60, 64, 67, 0.3), 0 1px 3px 1px rgba(60, 64, 67, 0.15);\n",
              "    fill: var(--button-hover-fill-color);\n",
              "  }\n",
              "\n",
              "  .colab-df-quickchart-complete:disabled,\n",
              "  .colab-df-quickchart-complete:disabled:hover {\n",
              "    background-color: var(--disabled-bg-color);\n",
              "    fill: var(--disabled-fill-color);\n",
              "    box-shadow: none;\n",
              "  }\n",
              "\n",
              "  .colab-df-spinner {\n",
              "    border: 2px solid var(--fill-color);\n",
              "    border-color: transparent;\n",
              "    border-bottom-color: var(--fill-color);\n",
              "    animation:\n",
              "      spin 1s steps(1) infinite;\n",
              "  }\n",
              "\n",
              "  @keyframes spin {\n",
              "    0% {\n",
              "      border-color: transparent;\n",
              "      border-bottom-color: var(--fill-color);\n",
              "      border-left-color: var(--fill-color);\n",
              "    }\n",
              "    20% {\n",
              "      border-color: transparent;\n",
              "      border-left-color: var(--fill-color);\n",
              "      border-top-color: var(--fill-color);\n",
              "    }\n",
              "    30% {\n",
              "      border-color: transparent;\n",
              "      border-left-color: var(--fill-color);\n",
              "      border-top-color: var(--fill-color);\n",
              "      border-right-color: var(--fill-color);\n",
              "    }\n",
              "    40% {\n",
              "      border-color: transparent;\n",
              "      border-right-color: var(--fill-color);\n",
              "      border-top-color: var(--fill-color);\n",
              "    }\n",
              "    60% {\n",
              "      border-color: transparent;\n",
              "      border-right-color: var(--fill-color);\n",
              "    }\n",
              "    80% {\n",
              "      border-color: transparent;\n",
              "      border-right-color: var(--fill-color);\n",
              "      border-bottom-color: var(--fill-color);\n",
              "    }\n",
              "    90% {\n",
              "      border-color: transparent;\n",
              "      border-bottom-color: var(--fill-color);\n",
              "    }\n",
              "  }\n",
              "</style>\n",
              "\n",
              "  <script>\n",
              "    async function quickchart(key) {\n",
              "      const quickchartButtonEl =\n",
              "        document.querySelector('#' + key + ' button');\n",
              "      quickchartButtonEl.disabled = true;  // To prevent multiple clicks.\n",
              "      quickchartButtonEl.classList.add('colab-df-spinner');\n",
              "      try {\n",
              "        const charts = await google.colab.kernel.invokeFunction(\n",
              "            'suggestCharts', [key], {});\n",
              "      } catch (error) {\n",
              "        console.error('Error during call to suggestCharts:', error);\n",
              "      }\n",
              "      quickchartButtonEl.classList.remove('colab-df-spinner');\n",
              "      quickchartButtonEl.classList.add('colab-df-quickchart-complete');\n",
              "    }\n",
              "    (() => {\n",
              "      let quickchartButtonEl =\n",
              "        document.querySelector('#df-c0ce9731-a0ca-4c87-ad9c-f0b783bb5d45 button');\n",
              "      quickchartButtonEl.style.display =\n",
              "        google.colab.kernel.accessAllowed ? 'block' : 'none';\n",
              "    })();\n",
              "  </script>\n",
              "</div>\n",
              "    </div>\n",
              "  </div>\n"
            ]
          },
          "metadata": {},
          "execution_count": 86
        }
      ]
    },
    {
      "cell_type": "code",
      "source": [
        "def df_test_to_submission(df_test):\n",
        "  result=df_test.rename(columns = {'predicted target':'target'})\n",
        "  result= result[['qid', 'target']]\n",
        "  return result"
      ],
      "metadata": {
        "id": "CbF7PBCOjUKx"
      },
      "execution_count": 87,
      "outputs": []
    },
    {
      "cell_type": "code",
      "source": [
        "submission = df_test_to_submission(df_test)"
      ],
      "metadata": {
        "id": "G0A6dHZHkHzi"
      },
      "execution_count": 88,
      "outputs": []
    },
    {
      "cell_type": "code",
      "source": [
        "submission.shape"
      ],
      "metadata": {
        "id": "4nbRJ63soNqY",
        "colab": {
          "base_uri": "https://localhost:8080/"
        },
        "outputId": "4379eba3-33c3-4225-f6e7-b37fd73e08ef"
      },
      "execution_count": 89,
      "outputs": [
        {
          "output_type": "execute_result",
          "data": {
            "text/plain": [
              "(261221, 2)"
            ]
          },
          "metadata": {},
          "execution_count": 89
        }
      ]
    },
    {
      "cell_type": "code",
      "source": [
        "submission.head()"
      ],
      "metadata": {
        "id": "qhF3y5YbkVab",
        "colab": {
          "base_uri": "https://localhost:8080/",
          "height": 206
        },
        "outputId": "650b944c-8e56-4519-cd49-034689a0b670"
      },
      "execution_count": 90,
      "outputs": [
        {
          "output_type": "execute_result",
          "data": {
            "text/plain": [
              "                    qid  target\n",
              "0  d5cacbea9be29bd47a78       0\n",
              "1  5650c4a236fe3b555c31       0\n",
              "2  b778db4f09f9326195ea       0\n",
              "3  e91c299cffc74a66aaf5       0\n",
              "4  2e129e7a85739a73b70a       0"
            ],
            "text/html": [
              "\n",
              "  <div id=\"df-21b87d3f-e767-41e0-947d-9b2f6a02e923\" class=\"colab-df-container\">\n",
              "    <div>\n",
              "<style scoped>\n",
              "    .dataframe tbody tr th:only-of-type {\n",
              "        vertical-align: middle;\n",
              "    }\n",
              "\n",
              "    .dataframe tbody tr th {\n",
              "        vertical-align: top;\n",
              "    }\n",
              "\n",
              "    .dataframe thead th {\n",
              "        text-align: right;\n",
              "    }\n",
              "</style>\n",
              "<table border=\"1\" class=\"dataframe\">\n",
              "  <thead>\n",
              "    <tr style=\"text-align: right;\">\n",
              "      <th></th>\n",
              "      <th>qid</th>\n",
              "      <th>target</th>\n",
              "    </tr>\n",
              "  </thead>\n",
              "  <tbody>\n",
              "    <tr>\n",
              "      <th>0</th>\n",
              "      <td>d5cacbea9be29bd47a78</td>\n",
              "      <td>0</td>\n",
              "    </tr>\n",
              "    <tr>\n",
              "      <th>1</th>\n",
              "      <td>5650c4a236fe3b555c31</td>\n",
              "      <td>0</td>\n",
              "    </tr>\n",
              "    <tr>\n",
              "      <th>2</th>\n",
              "      <td>b778db4f09f9326195ea</td>\n",
              "      <td>0</td>\n",
              "    </tr>\n",
              "    <tr>\n",
              "      <th>3</th>\n",
              "      <td>e91c299cffc74a66aaf5</td>\n",
              "      <td>0</td>\n",
              "    </tr>\n",
              "    <tr>\n",
              "      <th>4</th>\n",
              "      <td>2e129e7a85739a73b70a</td>\n",
              "      <td>0</td>\n",
              "    </tr>\n",
              "  </tbody>\n",
              "</table>\n",
              "</div>\n",
              "    <div class=\"colab-df-buttons\">\n",
              "\n",
              "  <div class=\"colab-df-container\">\n",
              "    <button class=\"colab-df-convert\" onclick=\"convertToInteractive('df-21b87d3f-e767-41e0-947d-9b2f6a02e923')\"\n",
              "            title=\"Convert this dataframe to an interactive table.\"\n",
              "            style=\"display:none;\">\n",
              "\n",
              "  <svg xmlns=\"http://www.w3.org/2000/svg\" height=\"24px\" viewBox=\"0 -960 960 960\">\n",
              "    <path d=\"M120-120v-720h720v720H120Zm60-500h600v-160H180v160Zm220 220h160v-160H400v160Zm0 220h160v-160H400v160ZM180-400h160v-160H180v160Zm440 0h160v-160H620v160ZM180-180h160v-160H180v160Zm440 0h160v-160H620v160Z\"/>\n",
              "  </svg>\n",
              "    </button>\n",
              "\n",
              "  <style>\n",
              "    .colab-df-container {\n",
              "      display:flex;\n",
              "      gap: 12px;\n",
              "    }\n",
              "\n",
              "    .colab-df-convert {\n",
              "      background-color: #E8F0FE;\n",
              "      border: none;\n",
              "      border-radius: 50%;\n",
              "      cursor: pointer;\n",
              "      display: none;\n",
              "      fill: #1967D2;\n",
              "      height: 32px;\n",
              "      padding: 0 0 0 0;\n",
              "      width: 32px;\n",
              "    }\n",
              "\n",
              "    .colab-df-convert:hover {\n",
              "      background-color: #E2EBFA;\n",
              "      box-shadow: 0px 1px 2px rgba(60, 64, 67, 0.3), 0px 1px 3px 1px rgba(60, 64, 67, 0.15);\n",
              "      fill: #174EA6;\n",
              "    }\n",
              "\n",
              "    .colab-df-buttons div {\n",
              "      margin-bottom: 4px;\n",
              "    }\n",
              "\n",
              "    [theme=dark] .colab-df-convert {\n",
              "      background-color: #3B4455;\n",
              "      fill: #D2E3FC;\n",
              "    }\n",
              "\n",
              "    [theme=dark] .colab-df-convert:hover {\n",
              "      background-color: #434B5C;\n",
              "      box-shadow: 0px 1px 3px 1px rgba(0, 0, 0, 0.15);\n",
              "      filter: drop-shadow(0px 1px 2px rgba(0, 0, 0, 0.3));\n",
              "      fill: #FFFFFF;\n",
              "    }\n",
              "  </style>\n",
              "\n",
              "    <script>\n",
              "      const buttonEl =\n",
              "        document.querySelector('#df-21b87d3f-e767-41e0-947d-9b2f6a02e923 button.colab-df-convert');\n",
              "      buttonEl.style.display =\n",
              "        google.colab.kernel.accessAllowed ? 'block' : 'none';\n",
              "\n",
              "      async function convertToInteractive(key) {\n",
              "        const element = document.querySelector('#df-21b87d3f-e767-41e0-947d-9b2f6a02e923');\n",
              "        const dataTable =\n",
              "          await google.colab.kernel.invokeFunction('convertToInteractive',\n",
              "                                                    [key], {});\n",
              "        if (!dataTable) return;\n",
              "\n",
              "        const docLinkHtml = 'Like what you see? Visit the ' +\n",
              "          '<a target=\"_blank\" href=https://colab.research.google.com/notebooks/data_table.ipynb>data table notebook</a>'\n",
              "          + ' to learn more about interactive tables.';\n",
              "        element.innerHTML = '';\n",
              "        dataTable['output_type'] = 'display_data';\n",
              "        await google.colab.output.renderOutput(dataTable, element);\n",
              "        const docLink = document.createElement('div');\n",
              "        docLink.innerHTML = docLinkHtml;\n",
              "        element.appendChild(docLink);\n",
              "      }\n",
              "    </script>\n",
              "  </div>\n",
              "\n",
              "\n",
              "<div id=\"df-4b70def4-6a1c-4b81-a404-dba3947b6374\">\n",
              "  <button class=\"colab-df-quickchart\" onclick=\"quickchart('df-4b70def4-6a1c-4b81-a404-dba3947b6374')\"\n",
              "            title=\"Suggest charts.\"\n",
              "            style=\"display:none;\">\n",
              "\n",
              "<svg xmlns=\"http://www.w3.org/2000/svg\" height=\"24px\"viewBox=\"0 0 24 24\"\n",
              "     width=\"24px\">\n",
              "    <g>\n",
              "        <path d=\"M19 3H5c-1.1 0-2 .9-2 2v14c0 1.1.9 2 2 2h14c1.1 0 2-.9 2-2V5c0-1.1-.9-2-2-2zM9 17H7v-7h2v7zm4 0h-2V7h2v10zm4 0h-2v-4h2v4z\"/>\n",
              "    </g>\n",
              "</svg>\n",
              "  </button>\n",
              "\n",
              "<style>\n",
              "  .colab-df-quickchart {\n",
              "      --bg-color: #E8F0FE;\n",
              "      --fill-color: #1967D2;\n",
              "      --hover-bg-color: #E2EBFA;\n",
              "      --hover-fill-color: #174EA6;\n",
              "      --disabled-fill-color: #AAA;\n",
              "      --disabled-bg-color: #DDD;\n",
              "  }\n",
              "\n",
              "  [theme=dark] .colab-df-quickchart {\n",
              "      --bg-color: #3B4455;\n",
              "      --fill-color: #D2E3FC;\n",
              "      --hover-bg-color: #434B5C;\n",
              "      --hover-fill-color: #FFFFFF;\n",
              "      --disabled-bg-color: #3B4455;\n",
              "      --disabled-fill-color: #666;\n",
              "  }\n",
              "\n",
              "  .colab-df-quickchart {\n",
              "    background-color: var(--bg-color);\n",
              "    border: none;\n",
              "    border-radius: 50%;\n",
              "    cursor: pointer;\n",
              "    display: none;\n",
              "    fill: var(--fill-color);\n",
              "    height: 32px;\n",
              "    padding: 0;\n",
              "    width: 32px;\n",
              "  }\n",
              "\n",
              "  .colab-df-quickchart:hover {\n",
              "    background-color: var(--hover-bg-color);\n",
              "    box-shadow: 0 1px 2px rgba(60, 64, 67, 0.3), 0 1px 3px 1px rgba(60, 64, 67, 0.15);\n",
              "    fill: var(--button-hover-fill-color);\n",
              "  }\n",
              "\n",
              "  .colab-df-quickchart-complete:disabled,\n",
              "  .colab-df-quickchart-complete:disabled:hover {\n",
              "    background-color: var(--disabled-bg-color);\n",
              "    fill: var(--disabled-fill-color);\n",
              "    box-shadow: none;\n",
              "  }\n",
              "\n",
              "  .colab-df-spinner {\n",
              "    border: 2px solid var(--fill-color);\n",
              "    border-color: transparent;\n",
              "    border-bottom-color: var(--fill-color);\n",
              "    animation:\n",
              "      spin 1s steps(1) infinite;\n",
              "  }\n",
              "\n",
              "  @keyframes spin {\n",
              "    0% {\n",
              "      border-color: transparent;\n",
              "      border-bottom-color: var(--fill-color);\n",
              "      border-left-color: var(--fill-color);\n",
              "    }\n",
              "    20% {\n",
              "      border-color: transparent;\n",
              "      border-left-color: var(--fill-color);\n",
              "      border-top-color: var(--fill-color);\n",
              "    }\n",
              "    30% {\n",
              "      border-color: transparent;\n",
              "      border-left-color: var(--fill-color);\n",
              "      border-top-color: var(--fill-color);\n",
              "      border-right-color: var(--fill-color);\n",
              "    }\n",
              "    40% {\n",
              "      border-color: transparent;\n",
              "      border-right-color: var(--fill-color);\n",
              "      border-top-color: var(--fill-color);\n",
              "    }\n",
              "    60% {\n",
              "      border-color: transparent;\n",
              "      border-right-color: var(--fill-color);\n",
              "    }\n",
              "    80% {\n",
              "      border-color: transparent;\n",
              "      border-right-color: var(--fill-color);\n",
              "      border-bottom-color: var(--fill-color);\n",
              "    }\n",
              "    90% {\n",
              "      border-color: transparent;\n",
              "      border-bottom-color: var(--fill-color);\n",
              "    }\n",
              "  }\n",
              "</style>\n",
              "\n",
              "  <script>\n",
              "    async function quickchart(key) {\n",
              "      const quickchartButtonEl =\n",
              "        document.querySelector('#' + key + ' button');\n",
              "      quickchartButtonEl.disabled = true;  // To prevent multiple clicks.\n",
              "      quickchartButtonEl.classList.add('colab-df-spinner');\n",
              "      try {\n",
              "        const charts = await google.colab.kernel.invokeFunction(\n",
              "            'suggestCharts', [key], {});\n",
              "      } catch (error) {\n",
              "        console.error('Error during call to suggestCharts:', error);\n",
              "      }\n",
              "      quickchartButtonEl.classList.remove('colab-df-spinner');\n",
              "      quickchartButtonEl.classList.add('colab-df-quickchart-complete');\n",
              "    }\n",
              "    (() => {\n",
              "      let quickchartButtonEl =\n",
              "        document.querySelector('#df-4b70def4-6a1c-4b81-a404-dba3947b6374 button');\n",
              "      quickchartButtonEl.style.display =\n",
              "        google.colab.kernel.accessAllowed ? 'block' : 'none';\n",
              "    })();\n",
              "  </script>\n",
              "</div>\n",
              "    </div>\n",
              "  </div>\n"
            ]
          },
          "metadata": {},
          "execution_count": 90
        }
      ]
    },
    {
      "cell_type": "markdown",
      "source": [
        "Some issueexists in the submission file in kaggle. There are 23 qids which does not exist in test datasetbut are expected in the sample submission files. so we are going to default these 23 entries to the target value of '0' to make valid submission"
      ],
      "metadata": {
        "id": "waXGNpx5yOjj"
      }
    },
    {
      "cell_type": "code",
      "source": [
        "sample_df = pd.read_csv('/content/drive/MyDrive/colab_data_files/kaggle_1_dataset/sample_submission.csv')"
      ],
      "metadata": {
        "id": "rKuzlkvdtbyn"
      },
      "execution_count": 91,
      "outputs": []
    },
    {
      "cell_type": "code",
      "source": [
        "sub_df = pd.read_csv('/content/drive/MyDrive/colab_data_files/kaggle_1_dataset/test_dataset.csv')"
      ],
      "metadata": {
        "id": "gdQ8CQTHt7xp"
      },
      "execution_count": 92,
      "outputs": []
    },
    {
      "cell_type": "code",
      "source": [
        "sample_df.shape"
      ],
      "metadata": {
        "id": "BgLOB_snuGvw",
        "colab": {
          "base_uri": "https://localhost:8080/"
        },
        "outputId": "2eaac0a8-cbe8-4176-c462-eb288e9036ce"
      },
      "execution_count": 93,
      "outputs": [
        {
          "output_type": "execute_result",
          "data": {
            "text/plain": [
              "(261221, 2)"
            ]
          },
          "metadata": {},
          "execution_count": 93
        }
      ]
    },
    {
      "cell_type": "code",
      "source": [
        "problematic_qids =list(set(sample_df['qid'].values)-set(sub_df['qid'].values))"
      ],
      "metadata": {
        "id": "rgQxpkS_uVRr"
      },
      "execution_count": 94,
      "outputs": []
    },
    {
      "cell_type": "code",
      "source": [
        "problematic_qids"
      ],
      "metadata": {
        "id": "UFSXttl4uz5G",
        "colab": {
          "base_uri": "https://localhost:8080/"
        },
        "outputId": "4bcf85df-9294-4d61-d14f-90a4c7797402"
      },
      "execution_count": 95,
      "outputs": [
        {
          "output_type": "execute_result",
          "data": {
            "text/plain": [
              "['8.72E+19',\n",
              " '9.07E+19',\n",
              " '5.68E+19',\n",
              " '1.98E+18',\n",
              " '9.08E+19',\n",
              " '4.64E+19',\n",
              " '4.93E+19',\n",
              " '6.32E+19',\n",
              " '3.83E+18',\n",
              " '2.73E+19',\n",
              " '7.06E+19',\n",
              " '7.03E+19',\n",
              " '8.81E+19',\n",
              " '7.32E+19',\n",
              " '7.57E+19',\n",
              " '3.86E+19',\n",
              " '7.85E+18',\n",
              " '8.19E+19',\n",
              " '8.70E+19',\n",
              " '9.00E+19',\n",
              " '4.59E+19',\n",
              " '9.98E+19',\n",
              " '5.56E+19']"
            ]
          },
          "metadata": {},
          "execution_count": 95
        }
      ]
    },
    {
      "cell_type": "code",
      "source": [
        "len(problematic_qids)"
      ],
      "metadata": {
        "id": "pDUBqPthu3Fe",
        "colab": {
          "base_uri": "https://localhost:8080/"
        },
        "outputId": "1540046c-1810-43bf-c4e2-3300798f3ea4"
      },
      "execution_count": 96,
      "outputs": [
        {
          "output_type": "execute_result",
          "data": {
            "text/plain": [
              "23"
            ]
          },
          "metadata": {},
          "execution_count": 96
        }
      ]
    },
    {
      "cell_type": "code",
      "source": [
        "submission.shape"
      ],
      "metadata": {
        "id": "nKEpC0GB0e-k",
        "colab": {
          "base_uri": "https://localhost:8080/"
        },
        "outputId": "4154ecfa-3c83-488c-ecbe-e3bdaf4a6ad6"
      },
      "execution_count": 97,
      "outputs": [
        {
          "output_type": "execute_result",
          "data": {
            "text/plain": [
              "(261221, 2)"
            ]
          },
          "metadata": {},
          "execution_count": 97
        }
      ]
    },
    {
      "cell_type": "code",
      "source": [
        "for qid in problematic_qids:\n",
        "  row = pd.Series([qid, 0], index = submission.columns)\n",
        "  submission = submission.append(row, ignore_index=True)"
      ],
      "metadata": {
        "id": "8OC977ZxzRPc",
        "colab": {
          "base_uri": "https://localhost:8080/"
        },
        "outputId": "ce5aba78-36ba-4f9e-c6e8-7cce3f3afa0a"
      },
      "execution_count": 98,
      "outputs": [
        {
          "output_type": "stream",
          "name": "stderr",
          "text": [
            "<ipython-input-98-f62e785e1637>:3: FutureWarning: The frame.append method is deprecated and will be removed from pandas in a future version. Use pandas.concat instead.\n",
            "  submission = submission.append(row, ignore_index=True)\n",
            "<ipython-input-98-f62e785e1637>:3: FutureWarning: The frame.append method is deprecated and will be removed from pandas in a future version. Use pandas.concat instead.\n",
            "  submission = submission.append(row, ignore_index=True)\n",
            "<ipython-input-98-f62e785e1637>:3: FutureWarning: The frame.append method is deprecated and will be removed from pandas in a future version. Use pandas.concat instead.\n",
            "  submission = submission.append(row, ignore_index=True)\n",
            "<ipython-input-98-f62e785e1637>:3: FutureWarning: The frame.append method is deprecated and will be removed from pandas in a future version. Use pandas.concat instead.\n",
            "  submission = submission.append(row, ignore_index=True)\n",
            "<ipython-input-98-f62e785e1637>:3: FutureWarning: The frame.append method is deprecated and will be removed from pandas in a future version. Use pandas.concat instead.\n",
            "  submission = submission.append(row, ignore_index=True)\n",
            "<ipython-input-98-f62e785e1637>:3: FutureWarning: The frame.append method is deprecated and will be removed from pandas in a future version. Use pandas.concat instead.\n",
            "  submission = submission.append(row, ignore_index=True)\n",
            "<ipython-input-98-f62e785e1637>:3: FutureWarning: The frame.append method is deprecated and will be removed from pandas in a future version. Use pandas.concat instead.\n",
            "  submission = submission.append(row, ignore_index=True)\n",
            "<ipython-input-98-f62e785e1637>:3: FutureWarning: The frame.append method is deprecated and will be removed from pandas in a future version. Use pandas.concat instead.\n",
            "  submission = submission.append(row, ignore_index=True)\n",
            "<ipython-input-98-f62e785e1637>:3: FutureWarning: The frame.append method is deprecated and will be removed from pandas in a future version. Use pandas.concat instead.\n",
            "  submission = submission.append(row, ignore_index=True)\n",
            "<ipython-input-98-f62e785e1637>:3: FutureWarning: The frame.append method is deprecated and will be removed from pandas in a future version. Use pandas.concat instead.\n",
            "  submission = submission.append(row, ignore_index=True)\n",
            "<ipython-input-98-f62e785e1637>:3: FutureWarning: The frame.append method is deprecated and will be removed from pandas in a future version. Use pandas.concat instead.\n",
            "  submission = submission.append(row, ignore_index=True)\n",
            "<ipython-input-98-f62e785e1637>:3: FutureWarning: The frame.append method is deprecated and will be removed from pandas in a future version. Use pandas.concat instead.\n",
            "  submission = submission.append(row, ignore_index=True)\n",
            "<ipython-input-98-f62e785e1637>:3: FutureWarning: The frame.append method is deprecated and will be removed from pandas in a future version. Use pandas.concat instead.\n",
            "  submission = submission.append(row, ignore_index=True)\n",
            "<ipython-input-98-f62e785e1637>:3: FutureWarning: The frame.append method is deprecated and will be removed from pandas in a future version. Use pandas.concat instead.\n",
            "  submission = submission.append(row, ignore_index=True)\n",
            "<ipython-input-98-f62e785e1637>:3: FutureWarning: The frame.append method is deprecated and will be removed from pandas in a future version. Use pandas.concat instead.\n",
            "  submission = submission.append(row, ignore_index=True)\n",
            "<ipython-input-98-f62e785e1637>:3: FutureWarning: The frame.append method is deprecated and will be removed from pandas in a future version. Use pandas.concat instead.\n",
            "  submission = submission.append(row, ignore_index=True)\n",
            "<ipython-input-98-f62e785e1637>:3: FutureWarning: The frame.append method is deprecated and will be removed from pandas in a future version. Use pandas.concat instead.\n",
            "  submission = submission.append(row, ignore_index=True)\n",
            "<ipython-input-98-f62e785e1637>:3: FutureWarning: The frame.append method is deprecated and will be removed from pandas in a future version. Use pandas.concat instead.\n",
            "  submission = submission.append(row, ignore_index=True)\n",
            "<ipython-input-98-f62e785e1637>:3: FutureWarning: The frame.append method is deprecated and will be removed from pandas in a future version. Use pandas.concat instead.\n",
            "  submission = submission.append(row, ignore_index=True)\n",
            "<ipython-input-98-f62e785e1637>:3: FutureWarning: The frame.append method is deprecated and will be removed from pandas in a future version. Use pandas.concat instead.\n",
            "  submission = submission.append(row, ignore_index=True)\n",
            "<ipython-input-98-f62e785e1637>:3: FutureWarning: The frame.append method is deprecated and will be removed from pandas in a future version. Use pandas.concat instead.\n",
            "  submission = submission.append(row, ignore_index=True)\n",
            "<ipython-input-98-f62e785e1637>:3: FutureWarning: The frame.append method is deprecated and will be removed from pandas in a future version. Use pandas.concat instead.\n",
            "  submission = submission.append(row, ignore_index=True)\n",
            "<ipython-input-98-f62e785e1637>:3: FutureWarning: The frame.append method is deprecated and will be removed from pandas in a future version. Use pandas.concat instead.\n",
            "  submission = submission.append(row, ignore_index=True)\n"
          ]
        }
      ]
    },
    {
      "cell_type": "code",
      "source": [
        "submission.shape"
      ],
      "metadata": {
        "id": "IAjKWzdQ1Cf4",
        "colab": {
          "base_uri": "https://localhost:8080/"
        },
        "outputId": "8383e639-822e-4360-d982-634578134198"
      },
      "execution_count": 99,
      "outputs": [
        {
          "output_type": "execute_result",
          "data": {
            "text/plain": [
              "(261244, 2)"
            ]
          },
          "metadata": {},
          "execution_count": 99
        }
      ]
    },
    {
      "cell_type": "code",
      "source": [
        "#Let's remove those entries in submission which are not there in sample submission file\n",
        "extra_qids =list(set(submission['qid'].values)-set(sample_df['qid'].values))\n",
        "len(extra_qids)\n"
      ],
      "metadata": {
        "id": "X3HsfEvy1tIf",
        "colab": {
          "base_uri": "https://localhost:8080/"
        },
        "outputId": "aa1619b4-36d0-4753-a22e-31848563ae80"
      },
      "execution_count": 100,
      "outputs": [
        {
          "output_type": "execute_result",
          "data": {
            "text/plain": [
              "23"
            ]
          },
          "metadata": {},
          "execution_count": 100
        }
      ]
    },
    {
      "cell_type": "code",
      "source": [
        "submission =submission[submission['qid'].isin(list(sample_df['qid'].values))]"
      ],
      "metadata": {
        "id": "neYAB2hH2d5Y"
      },
      "execution_count": 101,
      "outputs": []
    },
    {
      "cell_type": "code",
      "source": [
        "submission.shape"
      ],
      "metadata": {
        "id": "1cEBx4vF3PoN",
        "colab": {
          "base_uri": "https://localhost:8080/"
        },
        "outputId": "13baa67c-bddd-44ce-d227-a1743682bba5"
      },
      "execution_count": 102,
      "outputs": [
        {
          "output_type": "execute_result",
          "data": {
            "text/plain": [
              "(261221, 2)"
            ]
          },
          "metadata": {},
          "execution_count": 102
        }
      ]
    },
    {
      "cell_type": "code",
      "source": [
        "submission.to_csv('/content/drive/MyDrive/colab_data_files/results/submission_3.csv', index=False)"
      ],
      "metadata": {
        "id": "Jp7bZtMYkiLj"
      },
      "execution_count": 103,
      "outputs": []
    },
    {
      "cell_type": "markdown",
      "source": [
        "# ***Lets train an LSTM to see if the performance improves***"
      ],
      "metadata": {
        "id": "JDRWXMuCFRqD"
      }
    },
    {
      "cell_type": "markdown",
      "source": [
        "We will not remove stopwords now from the question text in the LSTM model. Since the problem is to find toxic/inappropriate questions, words like 'is', 'what', 'why' might be useful ."
      ],
      "metadata": {
        "id": "WikEjQzoFrK3"
      }
    },
    {
      "cell_type": "code",
      "source": [
        "df_train = pd.read_csv(\"/content/drive/MyDrive/colab_data_files/kaggle_1_dataset/train_dataset.csv\")\n",
        "df_test = pd.read_csv(\"/content/drive/MyDrive/colab_data_files/kaggle_1_dataset/test_dataset.csv\")"
      ],
      "metadata": {
        "id": "1zq55hu4Fjsb"
      },
      "execution_count": 104,
      "outputs": []
    },
    {
      "cell_type": "code",
      "source": [
        "df_train['question_text'] = df_train['question_text'].apply(lambda x:simple_preprocess(x, max_len=30))\n",
        "df_test['question_text'] = df_test['question_text'].apply(lambda x:simple_preprocess(x, max_len=30))\n"
      ],
      "metadata": {
        "id": "OE2BL-nIHjLf"
      },
      "execution_count": 105,
      "outputs": []
    },
    {
      "cell_type": "code",
      "source": [
        "# Hyperparameters\n",
        "MAX_SENT_LEN = 40   # Number of words to consider from each question_text\n",
        "MAX_VOCAB_SIZE = 165000   # Max vocabulary size\n",
        "BATCH_SIZE = 128\n",
        "N_EPOCHS = 15"
      ],
      "metadata": {
        "id": "j3TqiiqaH4C6"
      },
      "execution_count": 106,
      "outputs": []
    },
    {
      "cell_type": "code",
      "source": [
        "#Let's do padding to maintain a consistent input length\n",
        "tokenizer = Tokenizer(num_words=MAX_VOCAB_SIZE)\n",
        "tokenizer.fit_on_texts([' '.join(seq[:MAX_SENT_LEN]) for seq in df_train['question_text']])\n",
        "\n",
        "print(\"Number of words in vocabulary:\", len(tokenizer.word_index))\n",
        "\n",
        "# Convert the sequence of words to sequnce of indices\n",
        "X = tokenizer.texts_to_sequences([' '.join(seq[:MAX_SENT_LEN]) for seq in df_train['question_text']])\n",
        "X = pad_sequences(X, maxlen=MAX_SENT_LEN, padding='post', truncating='post')\n",
        "\n",
        "y = df_train['target']\n"
      ],
      "metadata": {
        "id": "HldcyYfbH3-d",
        "colab": {
          "base_uri": "https://localhost:8080/"
        },
        "outputId": "8bdbe19d-7358-4ba5-c34b-c7da690c7a19"
      },
      "execution_count": 107,
      "outputs": [
        {
          "output_type": "stream",
          "name": "stdout",
          "text": [
            "Number of words in vocabulary: 161023\n"
          ]
        }
      ]
    },
    {
      "cell_type": "code",
      "source": [
        "from sklearn.model_selection import train_test_split\n",
        "\n",
        "X_train, X_test, y_train, y_test = train_test_split(X, y, stratify=y, random_state=42, train_size=0.9)"
      ],
      "metadata": {
        "id": "XdqM8qYTH3l-"
      },
      "execution_count": 108,
      "outputs": []
    },
    {
      "cell_type": "code",
      "source": [
        "#Let's load the 300 dimensional GloVe embedding\n",
        "import pickle\n",
        "file_to_read = open(\"/content/drive/MyDrive/colab_data_files/glove_embeddings_unpacked_6b_300d.pkl\", \"rb\")\n",
        "\n",
        "loaded_dict = pickle.load(file_to_read)\n",
        "embeddings_index=loaded_dict['embeddings_index']\n",
        "\n"
      ],
      "metadata": {
        "id": "MtLfuYNkIeCL"
      },
      "execution_count": 109,
      "outputs": []
    },
    {
      "cell_type": "code",
      "source": [
        "# creating an embeddings matrix where each row represents a word from the vocabulary we obtained from the training data and the colums represent embedding dimensions\n",
        "# Adding 1 because of reversed 0 index\n",
        "words_not_found = []\n",
        "vocab_size = len(tokenizer.word_index) + 1\n",
        "print('Loaded %s word vectors.' % len(embeddings_index))\n",
        "\n",
        "embedding_dim = 300\n",
        "\n",
        "# Create a weight matrix for words in the training data\n",
        "embedding_matrix = np.zeros((vocab_size, embedding_dim))\n",
        "for word, i in tokenizer.word_index.items():\n",
        "  if i >= vocab_size:\n",
        "    continue\n",
        "  embedding_vector = embeddings_index.get(word)\n",
        "  if (embedding_vector is not None) and len(embedding_vector) > 0:\n",
        "    embedding_matrix[i] = embedding_vector\n",
        "  else:\n",
        "    words_not_found.append(word)\n",
        "\n"
      ],
      "metadata": {
        "id": "kLv3JtweId-g",
        "colab": {
          "base_uri": "https://localhost:8080/"
        },
        "outputId": "a6ccd429-ad68-4e10-848b-da2c02a3722c"
      },
      "execution_count": 110,
      "outputs": [
        {
          "output_type": "stream",
          "name": "stdout",
          "text": [
            "Loaded 400000 word vectors.\n"
          ]
        }
      ]
    },
    {
      "cell_type": "code",
      "source": [
        "len(words_not_found)"
      ],
      "metadata": {
        "id": "pDRdSxsxId5i",
        "colab": {
          "base_uri": "https://localhost:8080/"
        },
        "outputId": "9cd30d60-5740-474e-c0fb-27478bb379ea"
      },
      "execution_count": 111,
      "outputs": [
        {
          "output_type": "execute_result",
          "data": {
            "text/plain": [
              "64068"
            ]
          },
          "metadata": {},
          "execution_count": 111
        }
      ]
    },
    {
      "cell_type": "code",
      "source": [
        "# Build a sequential model by stacking neural net units\n",
        "model2 = Sequential()\n",
        "embedding_layer = Embedding(vocab_size,\n",
        "                            embedding_dim,\n",
        "                            weights = [embedding_matrix],\n",
        "                            input_length = MAX_SENT_LEN,\n",
        "                            trainable=False)\n",
        "model2.add(embedding_layer)\n",
        "model2.add(Bidirectional(LSTM(128, return_sequences=True, dropout=0.50, name='first_lstm_layer')))\n",
        "model2.add(Dropout(0.5))\n",
        "model2.add(Bidirectional(LSTM(64, name='second_lstm_layer')))\n",
        "model2.add(Dropout(0.5))\n",
        "model2.add(Dense(64, activation='relu'))\n",
        "model2.add(Dropout(0.5))\n",
        "model2.add(Dense(1, activation='sigmoid', name='output_layer'))"
      ],
      "metadata": {
        "id": "52BHl8C5JUmS"
      },
      "execution_count": 112,
      "outputs": []
    },
    {
      "cell_type": "code",
      "source": [
        "print('Summary of the built model...')\n",
        "model2.summary()"
      ],
      "metadata": {
        "id": "n3GwqU4BJUie",
        "colab": {
          "base_uri": "https://localhost:8080/"
        },
        "outputId": "73682a79-ca51-4616-ded1-dbca80ddac48"
      },
      "execution_count": 113,
      "outputs": [
        {
          "output_type": "stream",
          "name": "stdout",
          "text": [
            "Summary of the built model...\n",
            "Model: \"sequential_1\"\n",
            "_________________________________________________________________\n",
            " Layer (type)                Output Shape              Param #   \n",
            "=================================================================\n",
            " embedding_1 (Embedding)     (None, 40, 300)           48307200  \n",
            "                                                                 \n",
            " bidirectional_2 (Bidirecti  (None, 40, 256)           439296    \n",
            " onal)                                                           \n",
            "                                                                 \n",
            " dropout_3 (Dropout)         (None, 40, 256)           0         \n",
            "                                                                 \n",
            " bidirectional_3 (Bidirecti  (None, 128)               164352    \n",
            " onal)                                                           \n",
            "                                                                 \n",
            " dropout_4 (Dropout)         (None, 128)               0         \n",
            "                                                                 \n",
            " dense_1 (Dense)             (None, 64)                8256      \n",
            "                                                                 \n",
            " dropout_5 (Dropout)         (None, 64)                0         \n",
            "                                                                 \n",
            " output_layer (Dense)        (None, 1)                 65        \n",
            "                                                                 \n",
            "=================================================================\n",
            "Total params: 48919169 (186.61 MB)\n",
            "Trainable params: 611969 (2.33 MB)\n",
            "Non-trainable params: 48307200 (184.28 MB)\n",
            "_________________________________________________________________\n"
          ]
        }
      ]
    },
    {
      "cell_type": "code",
      "source": [
        "model2.compile(loss='binary_crossentropy',\n",
        "              optimizer='adam',\n",
        "              metrics=['accuracy'])"
      ],
      "metadata": {
        "id": "vBuyJXSVJUfD"
      },
      "execution_count": null,
      "outputs": []
    },
    {
      "cell_type": "code",
      "source": [
        "model2.fit(X_train, y_train,\n",
        "          batch_size=BATCH_SIZE,\n",
        "          epochs=N_EPOCHS,\n",
        "          validation_data=(X_test, y_test))"
      ],
      "metadata": {
        "id": "1fNXifzzJUZ_"
      },
      "execution_count": null,
      "outputs": []
    },
    {
      "cell_type": "code",
      "source": [
        "model2.save('/content/drive/MyDrive/colab_data_files/models/bilstm_128_64_64.keras')"
      ],
      "metadata": {
        "id": "K4zkbAWeKg0a"
      },
      "execution_count": null,
      "outputs": []
    },
    {
      "cell_type": "markdown",
      "source": [
        "We have saved the model for re-use. So loading it from there."
      ],
      "metadata": {
        "id": "i1Lq8cOq4TPn"
      }
    },
    {
      "cell_type": "code",
      "source": [
        "model2 = tf.keras.models.load_model('/content/drive/MyDrive/colab_data_files/models/bilstm_128_64_64.keras')\n"
      ],
      "metadata": {
        "id": "JByC0Bj5Kgr-"
      },
      "execution_count": 114,
      "outputs": []
    },
    {
      "cell_type": "code",
      "source": [
        "# model predictions on the test data\n",
        "preds = model2.predict(X_test)\n"
      ],
      "metadata": {
        "id": "txwHbX46K2Mh",
        "colab": {
          "base_uri": "https://localhost:8080/"
        },
        "outputId": "7274caa5-8abe-4126-9466-fcf49e9e25f8"
      },
      "execution_count": 115,
      "outputs": [
        {
          "output_type": "stream",
          "name": "stdout",
          "text": [
            "3266/3266 [==============================] - 20s 6ms/step\n"
          ]
        }
      ]
    },
    {
      "cell_type": "code",
      "source": [
        "from sklearn.metrics import roc_curve\n",
        "from numpy import sqrt\n",
        "from numpy import argmax"
      ],
      "metadata": {
        "id": "ZeSBXikmWr5x"
      },
      "execution_count": 116,
      "outputs": []
    },
    {
      "cell_type": "code",
      "source": [
        "t=[0.0,0.1,0.2,0.3,0.4,0.5,0.6,0.7,0.8,0.9]"
      ],
      "metadata": {
        "id": "Sg4xVMfKWvP4"
      },
      "execution_count": 117,
      "outputs": []
    },
    {
      "cell_type": "code",
      "source": [
        "f1scores=[]\n",
        "for threshold in t:\n",
        "  y_pred = [1 if i>threshold else 0 for i in preds]\n",
        "  f1scores.append(f1_score(y_test, y_pred))"
      ],
      "metadata": {
        "id": "x_-SQHNaXEvU"
      },
      "execution_count": 118,
      "outputs": []
    },
    {
      "cell_type": "code",
      "source": [
        "f1scores"
      ],
      "metadata": {
        "id": "5E8NANkkXEaw",
        "colab": {
          "base_uri": "https://localhost:8080/"
        },
        "outputId": "55955514-dc7b-4070-bf74-d759a384adf4"
      },
      "execution_count": 119,
      "outputs": [
        {
          "output_type": "execute_result",
          "data": {
            "text/plain": [
              "[0.11644885083370887,\n",
              " 0.5660286156225831,\n",
              " 0.6303803233887496,\n",
              " 0.6610616137532941,\n",
              " 0.6728671796587488,\n",
              " 0.6792235801581596,\n",
              " 0.667819253438114,\n",
              " 0.6345297353942887,\n",
              " 0.5335775335775336,\n",
              " 0.29763880025526485]"
            ]
          },
          "metadata": {},
          "execution_count": 119
        }
      ]
    },
    {
      "cell_type": "code",
      "source": [
        "# model predictions on the test data\n",
        "preds_train = model2.predict(X_train)\n"
      ],
      "metadata": {
        "id": "SiN-FEOQXgxQ",
        "colab": {
          "base_uri": "https://localhost:8080/"
        },
        "outputId": "c594cd7c-516f-42d2-c447-11bb9f602f6d"
      },
      "execution_count": 120,
      "outputs": [
        {
          "output_type": "stream",
          "name": "stdout",
          "text": [
            "29388/29388 [==============================] - 172s 6ms/step\n"
          ]
        }
      ]
    },
    {
      "cell_type": "code",
      "source": [
        "#Let's check the same on train data\n",
        "f1scores=[]\n",
        "for threshold in t:\n",
        "  y_pred = [1 if i>threshold else 0 for i in preds_train]\n",
        "  f1scores.append(f1_score(y_train, y_pred))"
      ],
      "metadata": {
        "id": "FchjcZhXXEXz"
      },
      "execution_count": 121,
      "outputs": []
    },
    {
      "cell_type": "code",
      "source": [
        "f1scores"
      ],
      "metadata": {
        "id": "D5SNlCSLXgqo",
        "colab": {
          "base_uri": "https://localhost:8080/"
        },
        "outputId": "58d84382-fb6d-45c2-9b12-2331bb6b393d"
      },
      "execution_count": 122,
      "outputs": [
        {
          "output_type": "execute_result",
          "data": {
            "text/plain": [
              "[0.11645674582469999,\n",
              " 0.596992034561901,\n",
              " 0.6713997865042921,\n",
              " 0.7076240950500536,\n",
              " 0.725164391236399,\n",
              " 0.7355657373365202,\n",
              " 0.7291616165114104,\n",
              " 0.6936702517250685,\n",
              " 0.5897099548170821,\n",
              " 0.33174768485940276]"
            ]
          },
          "metadata": {},
          "execution_count": 122
        }
      ]
    },
    {
      "cell_type": "markdown",
      "source": [
        "A threshold value of 0.5 seems to be the optimum cutoff for the best f1 score on both test and train dataset"
      ],
      "metadata": {
        "id": "Kg5ZgpdvXzji"
      }
    },
    {
      "cell_type": "markdown",
      "source": [
        "Let's use the learnt model to make predictions on df_test"
      ],
      "metadata": {
        "id": "fRieDv2yX_R1"
      }
    },
    {
      "cell_type": "code",
      "source": [
        "# Function to get the predictions\n",
        "def predictions(df_test, threshold):\n",
        "\n",
        "  questions_list_idx = tokenizer.texts_to_sequences([' '.join(seq[:MAX_SENT_LEN]) for seq in df_test['question_text']])\n",
        "\n",
        "  # Pad the sequences of the data\n",
        "  questions_list_idx = pad_sequences(questions_list_idx, maxlen=MAX_SENT_LEN, padding='post', truncating='post')\n",
        "\n",
        "  # Get the predictons by using GRU model\n",
        "  review_preds = model2.predict(questions_list_idx)\n",
        "\n",
        "  # Add the predictions to the movie reviews data\n",
        "  df_test['predictions'] = review_preds\n",
        "\n",
        "  # Set the threshold for the predictions\n",
        "  pred_sentiment = np.array(list(map(lambda x : 1 if x > threshold else 0, review_preds)))\n",
        "\n",
        "  # Add the sentiment predictions to the movie reviews\n",
        "  df_test['predicted target'] = pred_sentiment\n",
        "\n",
        "  return df_test"
      ],
      "metadata": {
        "id": "u1IADjRXXgmQ"
      },
      "execution_count": 123,
      "outputs": []
    },
    {
      "cell_type": "code",
      "source": [
        "df_test = predictions(df_test, 0.5)\n",
        "df_test.to_csv('/content/drive/MyDrive/colab_data_files/results/df_test_4.csv', index=False)"
      ],
      "metadata": {
        "id": "rrfyMP2xXgg7",
        "colab": {
          "base_uri": "https://localhost:8080/"
        },
        "outputId": "393ca633-c3d3-4f1b-b393-1df83d2f2257"
      },
      "execution_count": 124,
      "outputs": [
        {
          "output_type": "stream",
          "name": "stdout",
          "text": [
            "8164/8164 [==============================] - 46s 6ms/step\n"
          ]
        }
      ]
    },
    {
      "cell_type": "code",
      "source": [
        "def df_test_to_submission(df_test):\n",
        "  result=df_test.rename(columns = {'predicted target':'target'})\n",
        "  result= result[['qid', 'target']]\n",
        "  return result"
      ],
      "metadata": {
        "id": "AdHJ5YlnYTwz"
      },
      "execution_count": 125,
      "outputs": []
    },
    {
      "cell_type": "code",
      "source": [
        "submission = df_test_to_submission(df_test)"
      ],
      "metadata": {
        "id": "QRiAXtXvYYA3"
      },
      "execution_count": 126,
      "outputs": []
    },
    {
      "cell_type": "markdown",
      "source": [
        "Some issue exists in the submission file in kaggle. There are 23 qids which does not exist in test dataset but are expected in the sample submission files. so we are going to default these 23 entries to the target value of '0' to make valid submission"
      ],
      "metadata": {
        "id": "EbGGdqmJYe8X"
      }
    },
    {
      "cell_type": "code",
      "source": [
        "sample_df = pd.read_csv('/content/drive/MyDrive/colab_data_files/kaggle_1_dataset/sample_submission.csv')\n",
        "sub_df = pd.read_csv('/content/drive/MyDrive/colab_data_files/kaggle_1_dataset/test_dataset.csv')\n",
        "problematic_qids =list(set(sample_df['qid'].values)-set(sub_df['qid'].values))\n",
        "print(len(problematic_qids))\n",
        "for qid in problematic_qids:\n",
        "  row = pd.Series([qid, 0], index = submission.columns)\n",
        "  submission = submission.append(row, ignore_index=True)\n",
        "\n",
        "submission =submission[submission['qid'].isin(list(sample_df['qid'].values))]\n",
        "print(submission.shape)\n",
        "\n",
        "\n"
      ],
      "metadata": {
        "id": "D6iFyaykYlkt",
        "colab": {
          "base_uri": "https://localhost:8080/"
        },
        "outputId": "e2170be8-8acb-45ad-a617-f2e6f7453728"
      },
      "execution_count": 127,
      "outputs": [
        {
          "output_type": "stream",
          "name": "stdout",
          "text": [
            "23\n"
          ]
        },
        {
          "output_type": "stream",
          "name": "stderr",
          "text": [
            "<ipython-input-127-3419ac1f0588>:7: FutureWarning: The frame.append method is deprecated and will be removed from pandas in a future version. Use pandas.concat instead.\n",
            "  submission = submission.append(row, ignore_index=True)\n",
            "<ipython-input-127-3419ac1f0588>:7: FutureWarning: The frame.append method is deprecated and will be removed from pandas in a future version. Use pandas.concat instead.\n",
            "  submission = submission.append(row, ignore_index=True)\n",
            "<ipython-input-127-3419ac1f0588>:7: FutureWarning: The frame.append method is deprecated and will be removed from pandas in a future version. Use pandas.concat instead.\n",
            "  submission = submission.append(row, ignore_index=True)\n",
            "<ipython-input-127-3419ac1f0588>:7: FutureWarning: The frame.append method is deprecated and will be removed from pandas in a future version. Use pandas.concat instead.\n",
            "  submission = submission.append(row, ignore_index=True)\n",
            "<ipython-input-127-3419ac1f0588>:7: FutureWarning: The frame.append method is deprecated and will be removed from pandas in a future version. Use pandas.concat instead.\n",
            "  submission = submission.append(row, ignore_index=True)\n",
            "<ipython-input-127-3419ac1f0588>:7: FutureWarning: The frame.append method is deprecated and will be removed from pandas in a future version. Use pandas.concat instead.\n",
            "  submission = submission.append(row, ignore_index=True)\n",
            "<ipython-input-127-3419ac1f0588>:7: FutureWarning: The frame.append method is deprecated and will be removed from pandas in a future version. Use pandas.concat instead.\n",
            "  submission = submission.append(row, ignore_index=True)\n",
            "<ipython-input-127-3419ac1f0588>:7: FutureWarning: The frame.append method is deprecated and will be removed from pandas in a future version. Use pandas.concat instead.\n",
            "  submission = submission.append(row, ignore_index=True)\n",
            "<ipython-input-127-3419ac1f0588>:7: FutureWarning: The frame.append method is deprecated and will be removed from pandas in a future version. Use pandas.concat instead.\n",
            "  submission = submission.append(row, ignore_index=True)\n",
            "<ipython-input-127-3419ac1f0588>:7: FutureWarning: The frame.append method is deprecated and will be removed from pandas in a future version. Use pandas.concat instead.\n",
            "  submission = submission.append(row, ignore_index=True)\n",
            "<ipython-input-127-3419ac1f0588>:7: FutureWarning: The frame.append method is deprecated and will be removed from pandas in a future version. Use pandas.concat instead.\n",
            "  submission = submission.append(row, ignore_index=True)\n",
            "<ipython-input-127-3419ac1f0588>:7: FutureWarning: The frame.append method is deprecated and will be removed from pandas in a future version. Use pandas.concat instead.\n",
            "  submission = submission.append(row, ignore_index=True)\n",
            "<ipython-input-127-3419ac1f0588>:7: FutureWarning: The frame.append method is deprecated and will be removed from pandas in a future version. Use pandas.concat instead.\n",
            "  submission = submission.append(row, ignore_index=True)\n",
            "<ipython-input-127-3419ac1f0588>:7: FutureWarning: The frame.append method is deprecated and will be removed from pandas in a future version. Use pandas.concat instead.\n",
            "  submission = submission.append(row, ignore_index=True)\n",
            "<ipython-input-127-3419ac1f0588>:7: FutureWarning: The frame.append method is deprecated and will be removed from pandas in a future version. Use pandas.concat instead.\n",
            "  submission = submission.append(row, ignore_index=True)\n",
            "<ipython-input-127-3419ac1f0588>:7: FutureWarning: The frame.append method is deprecated and will be removed from pandas in a future version. Use pandas.concat instead.\n",
            "  submission = submission.append(row, ignore_index=True)\n",
            "<ipython-input-127-3419ac1f0588>:7: FutureWarning: The frame.append method is deprecated and will be removed from pandas in a future version. Use pandas.concat instead.\n",
            "  submission = submission.append(row, ignore_index=True)\n",
            "<ipython-input-127-3419ac1f0588>:7: FutureWarning: The frame.append method is deprecated and will be removed from pandas in a future version. Use pandas.concat instead.\n",
            "  submission = submission.append(row, ignore_index=True)\n",
            "<ipython-input-127-3419ac1f0588>:7: FutureWarning: The frame.append method is deprecated and will be removed from pandas in a future version. Use pandas.concat instead.\n",
            "  submission = submission.append(row, ignore_index=True)\n",
            "<ipython-input-127-3419ac1f0588>:7: FutureWarning: The frame.append method is deprecated and will be removed from pandas in a future version. Use pandas.concat instead.\n",
            "  submission = submission.append(row, ignore_index=True)\n",
            "<ipython-input-127-3419ac1f0588>:7: FutureWarning: The frame.append method is deprecated and will be removed from pandas in a future version. Use pandas.concat instead.\n",
            "  submission = submission.append(row, ignore_index=True)\n",
            "<ipython-input-127-3419ac1f0588>:7: FutureWarning: The frame.append method is deprecated and will be removed from pandas in a future version. Use pandas.concat instead.\n",
            "  submission = submission.append(row, ignore_index=True)\n",
            "<ipython-input-127-3419ac1f0588>:7: FutureWarning: The frame.append method is deprecated and will be removed from pandas in a future version. Use pandas.concat instead.\n",
            "  submission = submission.append(row, ignore_index=True)\n"
          ]
        },
        {
          "output_type": "stream",
          "name": "stdout",
          "text": [
            "(261221, 2)\n"
          ]
        }
      ]
    },
    {
      "cell_type": "code",
      "source": [
        "submission.to_csv('/content/drive/MyDrive/colab_data_files/results/submission_4.csv', index=False)"
      ],
      "metadata": {
        "id": "4tm_BySJZE9q"
      },
      "execution_count": 128,
      "outputs": []
    },
    {
      "cell_type": "markdown",
      "source": [
        "# **The above file is our final version of submission. We could not complete BERT training due to copute issues**"
      ],
      "metadata": {
        "id": "ZUboRJsf6XQZ"
      }
    },
    {
      "cell_type": "markdown",
      "source": [
        "# ***Lets train a BERT model to see if the accuracy improves further***"
      ],
      "metadata": {
        "id": "NKJuwLPkbhOv"
      }
    },
    {
      "cell_type": "code",
      "source": [
        "#!pip install transformers"
      ],
      "metadata": {
        "id": "yvyyHkWqbzgn",
        "colab": {
          "base_uri": "https://localhost:8080/"
        },
        "outputId": "481e72ff-7a22-43e4-c18c-e3da87ee65ac"
      },
      "execution_count": 130,
      "outputs": [
        {
          "output_type": "stream",
          "name": "stdout",
          "text": [
            "Collecting transformers\n",
            "  Downloading transformers-4.34.1-py3-none-any.whl (7.7 MB)\n",
            "\u001b[2K     \u001b[90m━━━━━━━━━━━━━━━━━━━━━━━━━━━━━━━━━━━━━━━━\u001b[0m \u001b[32m7.7/7.7 MB\u001b[0m \u001b[31m41.4 MB/s\u001b[0m eta \u001b[36m0:00:00\u001b[0m\n",
            "\u001b[?25hRequirement already satisfied: filelock in /usr/local/lib/python3.10/dist-packages (from transformers) (3.12.4)\n",
            "Collecting huggingface-hub<1.0,>=0.16.4 (from transformers)\n",
            "  Downloading huggingface_hub-0.18.0-py3-none-any.whl (301 kB)\n",
            "\u001b[2K     \u001b[90m━━━━━━━━━━━━━━━━━━━━━━━━━━━━━━━━━━━━━━━━\u001b[0m \u001b[32m302.0/302.0 kB\u001b[0m \u001b[31m30.9 MB/s\u001b[0m eta \u001b[36m0:00:00\u001b[0m\n",
            "\u001b[?25hRequirement already satisfied: numpy>=1.17 in /usr/local/lib/python3.10/dist-packages (from transformers) (1.23.5)\n",
            "Requirement already satisfied: packaging>=20.0 in /usr/local/lib/python3.10/dist-packages (from transformers) (23.2)\n",
            "Requirement already satisfied: pyyaml>=5.1 in /usr/local/lib/python3.10/dist-packages (from transformers) (6.0.1)\n",
            "Requirement already satisfied: regex!=2019.12.17 in /usr/local/lib/python3.10/dist-packages (from transformers) (2023.6.3)\n",
            "Requirement already satisfied: requests in /usr/local/lib/python3.10/dist-packages (from transformers) (2.31.0)\n",
            "Collecting tokenizers<0.15,>=0.14 (from transformers)\n",
            "  Downloading tokenizers-0.14.1-cp310-cp310-manylinux_2_17_x86_64.manylinux2014_x86_64.whl (3.8 MB)\n",
            "\u001b[2K     \u001b[90m━━━━━━━━━━━━━━━━━━━━━━━━━━━━━━━━━━━━━━━━\u001b[0m \u001b[32m3.8/3.8 MB\u001b[0m \u001b[31m68.3 MB/s\u001b[0m eta \u001b[36m0:00:00\u001b[0m\n",
            "\u001b[?25hCollecting safetensors>=0.3.1 (from transformers)\n",
            "  Downloading safetensors-0.4.0-cp310-cp310-manylinux_2_17_x86_64.manylinux2014_x86_64.whl (1.3 MB)\n",
            "\u001b[2K     \u001b[90m━━━━━━━━━━━━━━━━━━━━━━━━━━━━━━━━━━━━━━━━\u001b[0m \u001b[32m1.3/1.3 MB\u001b[0m \u001b[31m40.1 MB/s\u001b[0m eta \u001b[36m0:00:00\u001b[0m\n",
            "\u001b[?25hRequirement already satisfied: tqdm>=4.27 in /usr/local/lib/python3.10/dist-packages (from transformers) (4.66.1)\n",
            "Requirement already satisfied: fsspec>=2023.5.0 in /usr/local/lib/python3.10/dist-packages (from huggingface-hub<1.0,>=0.16.4->transformers) (2023.6.0)\n",
            "Requirement already satisfied: typing-extensions>=3.7.4.3 in /usr/local/lib/python3.10/dist-packages (from huggingface-hub<1.0,>=0.16.4->transformers) (4.5.0)\n",
            "Collecting huggingface-hub<1.0,>=0.16.4 (from transformers)\n",
            "  Downloading huggingface_hub-0.17.3-py3-none-any.whl (295 kB)\n",
            "\u001b[2K     \u001b[90m━━━━━━━━━━━━━━━━━━━━━━━━━━━━━━━━━━━━━━━━\u001b[0m \u001b[32m295.0/295.0 kB\u001b[0m \u001b[31m8.7 MB/s\u001b[0m eta \u001b[36m0:00:00\u001b[0m\n",
            "\u001b[?25hRequirement already satisfied: charset-normalizer<4,>=2 in /usr/local/lib/python3.10/dist-packages (from requests->transformers) (3.3.1)\n",
            "Requirement already satisfied: idna<4,>=2.5 in /usr/local/lib/python3.10/dist-packages (from requests->transformers) (3.4)\n",
            "Requirement already satisfied: urllib3<3,>=1.21.1 in /usr/local/lib/python3.10/dist-packages (from requests->transformers) (2.0.7)\n",
            "Requirement already satisfied: certifi>=2017.4.17 in /usr/local/lib/python3.10/dist-packages (from requests->transformers) (2023.7.22)\n",
            "Installing collected packages: safetensors, huggingface-hub, tokenizers, transformers\n",
            "Successfully installed huggingface-hub-0.17.3 safetensors-0.4.0 tokenizers-0.14.1 transformers-4.34.1\n"
          ]
        }
      ]
    },
    {
      "cell_type": "code",
      "source": [
        "import os\n",
        "import torch\n",
        "from torch import nn\n",
        "from torch.utils.data import DataLoader, Dataset\n",
        "from transformers import BertTokenizer, BertModel, AdamW, get_linear_schedule_with_warmup\n",
        "from sklearn.model_selection import train_test_split\n",
        "from sklearn.metrics import accuracy_score, classification_report\n",
        "import pandas as pd"
      ],
      "metadata": {
        "id": "njldMqUKbg3k"
      },
      "execution_count": 131,
      "outputs": []
    },
    {
      "cell_type": "code",
      "source": [
        "df_train = pd.read_csv(\"/content/drive/MyDrive/colab_data_files/kaggle_1_dataset/train_dataset.csv\")\n",
        "df_test = pd.read_csv(\"/content/drive/MyDrive/colab_data_files/kaggle_1_dataset/test_dataset.csv\")\n",
        "\n",
        "tr_texts = df_train['question_text'].to_list()\n",
        "te_texts = df_test['question_text'].to_list()\n",
        "\n",
        "tr_labels=df_train['target'].to_list()\n"
      ],
      "metadata": {
        "id": "V8hgmU9IbgzN"
      },
      "execution_count": 132,
      "outputs": []
    },
    {
      "cell_type": "code",
      "source": [
        "#Lets Create a custom dataset class for text classification\n",
        "class TextClassificationDataset(Dataset):\n",
        "  def __init__(self, texts, labels, tokenizer, max_length):\n",
        "    self.texts = texts\n",
        "    self.labels = labels\n",
        "    self.tokenizer = tokenizer\n",
        "    self.max_length = max_length\n",
        "  def __len__(self):\n",
        "    return len(self.texts)\n",
        "  def __getitem__(self, idx):\n",
        "    text = self.texts[idx]\n",
        "    label = self.labels[idx]\n",
        "    encoding = self.tokenizer(text, return_tensors='pt', max_length=self.max_length, padding='max_length', truncation=True)\n",
        "    return {'input_ids': encoding['input_ids'].flatten(), 'attention_mask': encoding['attention_mask'].flatten(), 'label': torch.tensor(label)}\n",
        "\n"
      ],
      "metadata": {
        "id": "8EJDngv4bgvM"
      },
      "execution_count": 133,
      "outputs": []
    },
    {
      "cell_type": "code",
      "source": [
        "#Build our customer BERT classifier\n",
        "class BERTClassifier(nn.Module):\n",
        "  def __init__(self, bert_model_name, num_classes):\n",
        "    super(BERTClassifier, self).__init__()\n",
        "    self.bert = BertModel.from_pretrained(bert_model_name)\n",
        "    self.dropout = nn.Dropout(0.1)\n",
        "    self.fc = nn.Linear(self.bert.config.hidden_size, num_classes)\n",
        "\n",
        "  def forward(self, input_ids, attention_mask):\n",
        "    outputs = self.bert(input_ids=input_ids, attention_mask=attention_mask)\n",
        "    pooled_output = outputs.pooler_output\n",
        "    x = self.dropout(pooled_output)\n",
        "    logits = self.fc(x)\n",
        "    return logits"
      ],
      "metadata": {
        "id": "Qz4DqFxUbgru"
      },
      "execution_count": 134,
      "outputs": []
    },
    {
      "cell_type": "code",
      "source": [
        "#Define the train() function\n",
        "def train(model, data_loader, optimizer, scheduler, device):\n",
        "  model.train()\n",
        "  for batch in data_loader:\n",
        "    optimizer.zero_grad()\n",
        "    input_ids = batch['input_ids'].to(device)\n",
        "    attention_mask = batch['attention_mask'].to(device)\n",
        "    labels = batch['label'].to(device)\n",
        "    outputs = model(input_ids=input_ids, attention_mask=attention_mask)\n",
        "    loss = nn.CrossEntropyLoss()(outputs, labels)\n",
        "    loss.backward()\n",
        "    optimizer.step()\n",
        "    scheduler.step()"
      ],
      "metadata": {
        "id": "idX5KH89bgod"
      },
      "execution_count": 135,
      "outputs": []
    },
    {
      "cell_type": "code",
      "source": [
        "# Build our evaluation method\n",
        "def evaluate(model, data_loader, device):\n",
        "  model.eval()\n",
        "  predictions = []\n",
        "  actual_labels = []\n",
        "  with torch.no_grad():\n",
        "    for batch in data_loader:\n",
        "      input_ids = batch['input_ids'].to(device)\n",
        "      attention_mask = batch['attention_mask'].to(device)\n",
        "      labels = batch['label'].to(device)\n",
        "      outputs = model(input_ids=input_ids, attention_mask=attention_mask)\n",
        "      _, preds = torch.max(outputs, dim=1)\n",
        "      predictions.extend(preds.cpu().tolist())\n",
        "      actual_labels.extend(labels.cpu().tolist())\n",
        "  return accuracy_score(actual_labels, predictions), classification_report(actual_labels, predictions)"
      ],
      "metadata": {
        "id": "6pfXdBXqbglR"
      },
      "execution_count": 136,
      "outputs": []
    },
    {
      "cell_type": "code",
      "source": [
        "#Build our prediction method\n",
        "def predict_toxicity(text, model, tokenizer, device, max_length=128):\n",
        "  model.eval()\n",
        "  encoding = tokenizer(text, return_tensors='pt', max_length=max_length, padding='max_length', truncation=True)\n",
        "  input_ids = encoding['input_ids'].to(device)\n",
        "  attention_mask = encoding['attention_mask'].to(device)\n",
        "\n",
        "  with torch.no_grad():\n",
        "    outputs = model(input_ids=input_ids, attention_mask=attention_mask)\n",
        "    _, preds = torch.max(outputs, dim=1)\n",
        "  return 1 if preds.item() == 1 else 0\n",
        "\n",
        "\n"
      ],
      "metadata": {
        "id": "4pQXR5xObggU"
      },
      "execution_count": 137,
      "outputs": []
    },
    {
      "cell_type": "code",
      "source": [
        "#Define our model’s parameters\n",
        "bert_model_name = 'bert-base-uncased'\n",
        "num_classes = 2\n",
        "max_length = 128\n",
        "batch_size = 40\n",
        "num_epochs = 5\n",
        "learning_rate = 2e-5\n",
        "\n",
        "\n"
      ],
      "metadata": {
        "id": "3fNZ8pHwbgdN"
      },
      "execution_count": 138,
      "outputs": []
    },
    {
      "cell_type": "code",
      "source": [
        "#Loading and splitting the data.\n",
        "train_texts, val_texts, train_labels, val_labels = train_test_split(tr_texts, tr_labels, test_size=0.2, random_state=42)\n"
      ],
      "metadata": {
        "id": "iRTNlOG-bgYq"
      },
      "execution_count": 139,
      "outputs": []
    },
    {
      "cell_type": "code",
      "source": [
        "#Initialize tokenizer, dataset, and data loader\n",
        "tokenizer = BertTokenizer.from_pretrained(bert_model_name)\n",
        "train_dataset = TextClassificationDataset(train_texts, train_labels, tokenizer, max_length)\n",
        "val_dataset = TextClassificationDataset(val_texts, val_labels, tokenizer, max_length)\n",
        "train_dataloader = DataLoader(train_dataset, batch_size=batch_size, shuffle=True)\n",
        "val_dataloader = DataLoader(val_dataset, batch_size=batch_size)\n"
      ],
      "metadata": {
        "id": "SJg0YI9IbgVO",
        "colab": {
          "base_uri": "https://localhost:8080/",
          "height": 145,
          "referenced_widgets": [
            "9e9ec5ada1c64369b44faec3e84e3e7a",
            "4e7a44c51e064c54af8cad032a547994",
            "9e0c5dbc912f4d7dad2d2ddf7a6eec91",
            "c9910eae1b78425cabfaafa96e2e80f3",
            "6b1f92cd284e46a2b3f61517bde7c1c9",
            "9b9ff188a2a74f4797d24aa5d8bf0bdc",
            "76fa77bddee74354b16b510255040424",
            "9c78a095d6de4d26b3854768be47a54c",
            "02e10f4a09ad42dfa3ee0b1d3b1aa88c",
            "baa354ba30494f398e3ad98cf539b251",
            "b964d2154cdd43118182fd4e0b4143b2",
            "7065c009454b44ef87c3420091a22c9e",
            "2b5344c7d3db4b01b0114f613b49b003",
            "a062c08c02e248fc81dfce9a8b3558ca",
            "283bdcd887e04b73bbf26aafb3a0e07b",
            "a4e92bf8a05c4646881f9413c3e18152",
            "d454663f08f946209b8be5ff503544e5",
            "5b64787274d740c8a3aa71a46a62521d",
            "033f42061a9a455c8473fd700c401b4a",
            "40e097e005e040f88be10d47aab60cb0",
            "c4e29e2c32c64203a49e246d7e13f826",
            "e55ad3f2dba4473492093e44adf6f792",
            "8c633dae987246cbb8eee56274b10403",
            "935bda9c33294d5e9f80a1e87e083735",
            "b72e17b24f3341dc8692a8e5debc1c84",
            "2d95dc56a40b4098bf2e0684d396805f",
            "c8f1675ab28649408b7d8da6b9b1a7eb",
            "a6772d744f86427abf73ccbf3ba3fade",
            "c4fd05969cf54ea18253ac6db27565ae",
            "dd9a54f1017b43919aceaf43db3873e3",
            "55cd0d58e7134a258548e1bd041903d9",
            "e69f8d50c8054db69bd5bf185df62dfc",
            "d02db34e3221424daac559774a63f39f",
            "da9961fb435d47448f6e3af610b485cb",
            "2dec24ea1be549f889651912d3c68b3c",
            "23ea329e834b48c4bf3b3957e47e58ce",
            "8d82faaba22b403bb607b6bf0f1aa7c6",
            "e7f2bd75aded47ffb8568b38a29ac196",
            "86ceb93ece4c468995a6e60468a212cc",
            "fe7e343bb3f044e7a07c4e6ad309edaf",
            "368cd05b94254aef8ec29986ad02ead7",
            "6395aa80c67645d199ff143dd7bc24f5",
            "17e56e34b9954100b9509fd988219457",
            "2d41731e726c40978a4930ff42e2281e"
          ]
        },
        "outputId": "b339338c-a6a2-4d20-9782-65a0153e4c9a"
      },
      "execution_count": 140,
      "outputs": [
        {
          "output_type": "display_data",
          "data": {
            "text/plain": [
              "Downloading (…)okenizer_config.json:   0%|          | 0.00/28.0 [00:00<?, ?B/s]"
            ],
            "application/vnd.jupyter.widget-view+json": {
              "version_major": 2,
              "version_minor": 0,
              "model_id": "9e9ec5ada1c64369b44faec3e84e3e7a"
            }
          },
          "metadata": {}
        },
        {
          "output_type": "display_data",
          "data": {
            "text/plain": [
              "Downloading (…)solve/main/vocab.txt:   0%|          | 0.00/232k [00:00<?, ?B/s]"
            ],
            "application/vnd.jupyter.widget-view+json": {
              "version_major": 2,
              "version_minor": 0,
              "model_id": "7065c009454b44ef87c3420091a22c9e"
            }
          },
          "metadata": {}
        },
        {
          "output_type": "display_data",
          "data": {
            "text/plain": [
              "Downloading (…)/main/tokenizer.json:   0%|          | 0.00/466k [00:00<?, ?B/s]"
            ],
            "application/vnd.jupyter.widget-view+json": {
              "version_major": 2,
              "version_minor": 0,
              "model_id": "8c633dae987246cbb8eee56274b10403"
            }
          },
          "metadata": {}
        },
        {
          "output_type": "display_data",
          "data": {
            "text/plain": [
              "Downloading (…)lve/main/config.json:   0%|          | 0.00/570 [00:00<?, ?B/s]"
            ],
            "application/vnd.jupyter.widget-view+json": {
              "version_major": 2,
              "version_minor": 0,
              "model_id": "da9961fb435d47448f6e3af610b485cb"
            }
          },
          "metadata": {}
        }
      ]
    },
    {
      "cell_type": "code",
      "source": [
        "device = torch.device(\"cuda\" if torch.cuda.is_available() else \"cpu\")\n",
        "model = BERTClassifier(bert_model_name, num_classes).to(device)"
      ],
      "metadata": {
        "id": "laJlj_robgAf",
        "colab": {
          "base_uri": "https://localhost:8080/",
          "height": 49,
          "referenced_widgets": [
            "29a153bc3aaf4e5ca92b43da0d377169",
            "4399114fdf0742e78edbbe17f56a54e0",
            "ea47c41635d24eb0b979d614e8de6274",
            "95d690d35ace4ccb89234d037a3fe6f4",
            "fbebece6e3244ae592cffbc079e13c9a",
            "2768c7b4790e4ae2af1e445e3eaed1de",
            "37e026e2b7764a26baed445721a29b2b",
            "d8075520520b41ba9933fa315ce52f26",
            "28e8598d86c34f02878e81fcf11c18fa",
            "cbbdaa11ce394fc489a5db664913ef14",
            "cb4129eb2461402fac89b9d4f7f56427"
          ]
        },
        "outputId": "99edf5b5-6815-4511-e2f6-5e1a4fd97d9f"
      },
      "execution_count": 141,
      "outputs": [
        {
          "output_type": "display_data",
          "data": {
            "text/plain": [
              "Downloading model.safetensors:   0%|          | 0.00/440M [00:00<?, ?B/s]"
            ],
            "application/vnd.jupyter.widget-view+json": {
              "version_major": 2,
              "version_minor": 0,
              "model_id": "29a153bc3aaf4e5ca92b43da0d377169"
            }
          },
          "metadata": {}
        }
      ]
    },
    {
      "cell_type": "code",
      "source": [
        "#Set up optimizer and learning rate scheduler\n",
        "optimizer = AdamW(model.parameters(), lr=learning_rate)\n",
        "total_steps = len(train_dataloader) * num_epochs\n",
        "scheduler = get_linear_schedule_with_warmup(optimizer, num_warmup_steps=0, num_training_steps=total_steps)"
      ],
      "metadata": {
        "id": "hQoBXjBFlXkK",
        "colab": {
          "base_uri": "https://localhost:8080/"
        },
        "outputId": "c433a85a-7af2-4abb-836c-be62ba2c464d"
      },
      "execution_count": 142,
      "outputs": [
        {
          "output_type": "stream",
          "name": "stderr",
          "text": [
            "/usr/local/lib/python3.10/dist-packages/transformers/optimization.py:411: FutureWarning: This implementation of AdamW is deprecated and will be removed in a future version. Use the PyTorch implementation torch.optim.AdamW instead, or set `no_deprecation_warning=True` to disable this warning\n",
            "  warnings.warn(\n"
          ]
        }
      ]
    },
    {
      "cell_type": "code",
      "source": [
        "#Training the model\n",
        "for epoch in range(num_epochs):\n",
        "  print(f\"Epoch {epoch + 1}/{num_epochs}\")\n",
        "  train(model, train_dataloader, optimizer, scheduler, device)\n",
        "  accuracy, report = evaluate(model, val_dataloader, device)\n",
        "  print(f\"Validation Accuracy: {accuracy:.4f}\")\n",
        "  print(report)\n"
      ],
      "metadata": {
        "id": "1MqemF8HlXgk"
      },
      "execution_count": null,
      "outputs": []
    },
    {
      "cell_type": "markdown",
      "source": [
        "The model is failing in training because it takes a lot of time to train. The compute provided by collab stops running midway."
      ],
      "metadata": {
        "id": "2auuCEjezMS1"
      }
    },
    {
      "cell_type": "code",
      "source": [
        "torch.save(model.state_dict(), \"bert_classifier.pth\")"
      ],
      "metadata": {
        "id": "WNGRt1namBAe"
      },
      "execution_count": null,
      "outputs": []
    }
  ]
}